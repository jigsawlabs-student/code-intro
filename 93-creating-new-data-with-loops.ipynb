{
 "cells": [
  {
   "cell_type": "markdown",
   "metadata": {},
   "source": [
    "# For Loops"
   ]
  },
  {
   "cell_type": "markdown",
   "metadata": {},
   "source": [
    "### Introduction"
   ]
  },
  {
   "cell_type": "markdown",
   "metadata": {},
   "source": [
    "In the last lesson, we saw how we can use loops to move through the elements of a list one by one, and perform the same operation on each element."
   ]
  },
  {
   "cell_type": "code",
   "execution_count": 2,
   "metadata": {},
   "outputs": [
    {
     "name": "stdout",
     "output_type": "stream",
     "text": [
      "hello\n",
      "hello\n",
      "hello\n"
     ]
    }
   ],
   "source": [
    "for number in [1, 2, 3]:\n",
    "    print('hello')"
   ]
  },
  {
   "cell_type": "markdown",
   "metadata": {},
   "source": [
    "We know that we write loops with the following pattern:"
   ]
  },
  {
   "cell_type": "markdown",
   "metadata": {},
   "source": [
    "```python\n",
    "for element in list_of_elements:\n",
    "    do_something\n",
    "```"
   ]
  },
  {
   "cell_type": "markdown",
   "metadata": {},
   "source": [
    "In this lesson, we'll work up to using loops with our nested data structures."
   ]
  },
  {
   "cell_type": "markdown",
   "metadata": {},
   "source": [
    "### Calling methods in a loop"
   ]
  },
  {
   "cell_type": "markdown",
   "metadata": {},
   "source": [
    "Once again, let's start with our list of restaurants."
   ]
  },
  {
   "cell_type": "code",
   "execution_count": 2,
   "metadata": {},
   "outputs": [],
   "source": [
    "import pandas as pd"
   ]
  },
  {
   "cell_type": "code",
   "execution_count": 8,
   "metadata": {},
   "outputs": [],
   "source": [
    "url = \"https://en.wikipedia.org/wiki/List_of_United_States_cities_by_population\""
   ]
  },
  {
   "cell_type": "code",
   "execution_count": 25,
   "metadata": {},
   "outputs": [],
   "source": [
    "tables = pd.read_html(url)\n",
    "cities_df = tables[4]\n",
    "cities = cities_df.to_dict('records')"
   ]
  },
  {
   "cell_type": "code",
   "execution_count": 26,
   "metadata": {},
   "outputs": [
    {
     "data": {
      "text/plain": [
       "{'2018rank': 1,\n",
       " 'City': 'New York[d]',\n",
       " 'State[c]': 'New York',\n",
       " '2018estimate': 8398748,\n",
       " '2010Census': 8175133,\n",
       " 'Change': '+2.74%',\n",
       " '2016 land area': '301.5\\xa0sq\\xa0mi',\n",
       " '2016 land area.1': '780.9\\xa0km2',\n",
       " '2016 population density': '28,317/sq\\xa0mi',\n",
       " '2016 population density.1': '10,933/km2',\n",
       " 'Location': '40°39′49″N 73°56′19″W\\ufeff / \\ufeff40.6635°N 73.9387°W'}"
      ]
     },
     "execution_count": 26,
     "metadata": {},
     "output_type": "execute_result"
    }
   ],
   "source": [
    "cities[0]"
   ]
  },
  {
   "cell_type": "code",
   "execution_count": 3,
   "metadata": {},
   "outputs": [],
   "source": [
    "restaurants = ['chipotle', 'chopt', 'arbys']"
   ]
  },
  {
   "cell_type": "markdown",
   "metadata": {},
   "source": [
    "Now instead of just printing out each element, use the `capitalize()` to capitalize the element, and then print it out.  First let's make sure we know how to capitalize a single element."
   ]
  },
  {
   "cell_type": "code",
   "execution_count": 4,
   "metadata": {},
   "outputs": [
    {
     "data": {
      "text/plain": [
       "'Chipotle'"
      ]
     },
     "execution_count": 4,
     "metadata": {},
     "output_type": "execute_result"
    }
   ],
   "source": [
    "'chipotle'.capitalize()"
   ]
  },
  {
   "cell_type": "markdown",
   "metadata": {},
   "source": [
    "And we can combine that with our `print` statement, like:"
   ]
  },
  {
   "cell_type": "code",
   "execution_count": 5,
   "metadata": {},
   "outputs": [
    {
     "name": "stdout",
     "output_type": "stream",
     "text": [
      "Chipotle\n"
     ]
    }
   ],
   "source": [
    "print('chipotle'.capitalize())"
   ]
  },
  {
   "cell_type": "markdown",
   "metadata": {},
   "source": [
    "Now try iterating through our list of restaurants, printing the capitalized form of each restaurant. You'll know it's working if you see the capitalized restaurants printed out. "
   ]
  },
  {
   "cell_type": "code",
   "execution_count": 6,
   "metadata": {},
   "outputs": [],
   "source": [
    "restaurants = ['chipotle', 'chopt', 'arbys']\n",
    "\n",
    "\n",
    "# write code to iterate through the list here"
   ]
  },
  {
   "cell_type": "markdown",
   "metadata": {},
   "source": [
    "Ok, now hopefully you had a little bit of success with the above challenge.  If you didn't, just move away from your computer for a couple of minutes -- give your brain a break -- and then try it again.  We'll wait :)"
   ]
  },
  {
   "cell_type": "markdown",
   "metadata": {},
   "source": [
    "### Using a loop to create a new list"
   ]
  },
  {
   "cell_type": "markdown",
   "metadata": {},
   "source": [
    "Ok, now let's move a little further by using a loop to create a new list.  So this time, we don't need to **print out** our capitalized elements in our list.  Instead we'll add each capitalized element to a new list.\n",
    "\n",
    "Let's think about how we can do this.  \n",
    "\n",
    "Once again here, is our list."
   ]
  },
  {
   "cell_type": "code",
   "execution_count": 7,
   "metadata": {},
   "outputs": [],
   "source": [
    "restaurants = ['chipotle', 'chopt', 'arbys']"
   ]
  },
  {
   "cell_type": "markdown",
   "metadata": {},
   "source": [
    "And this time, we want add the capitalized form of each element to a new list.  Before we do this with all elements, let's just try it with one.  First, we create our new list."
   ]
  },
  {
   "cell_type": "code",
   "execution_count": 8,
   "metadata": {},
   "outputs": [],
   "source": [
    "capitalized_restaurants = []"
   ]
  },
  {
   "cell_type": "markdown",
   "metadata": {},
   "source": [
    "Then we select the first element, and capitalize it, and add it to our list."
   ]
  },
  {
   "cell_type": "code",
   "execution_count": 10,
   "metadata": {},
   "outputs": [],
   "source": [
    "first_restaurant = restaurants[0]\n",
    "\n",
    "capitalized_first = first_restaurant.capitalize()"
   ]
  },
  {
   "cell_type": "code",
   "execution_count": 12,
   "metadata": {},
   "outputs": [],
   "source": [
    "capitalized_restaurants.append(capitalized_first)"
   ]
  },
  {
   "cell_type": "markdown",
   "metadata": {},
   "source": [
    "Let's see how we did."
   ]
  },
  {
   "cell_type": "code",
   "execution_count": 13,
   "metadata": {},
   "outputs": [
    {
     "data": {
      "text/plain": [
       "['Chipotle']"
      ]
     },
     "execution_count": 13,
     "metadata": {},
     "output_type": "execute_result"
    }
   ],
   "source": [
    "capitalized_restaurants"
   ]
  },
  {
   "cell_type": "markdown",
   "metadata": {},
   "source": [
    "So the entire code was the following."
   ]
  },
  {
   "cell_type": "code",
   "execution_count": 16,
   "metadata": {},
   "outputs": [
    {
     "data": {
      "text/plain": [
       "['Chipotle']"
      ]
     },
     "execution_count": 16,
     "metadata": {},
     "output_type": "execute_result"
    }
   ],
   "source": [
    "capitalized_restaurants = []\n",
    "\n",
    "first_capitalized = restaurants[0].capitalize()\n",
    "capitalized_restaurants.append(first_capitalized)\n",
    "\n",
    "capitalized_restaurants"
   ]
  },
  {
   "cell_type": "markdown",
   "metadata": {},
   "source": [
    "Try writing the code to capitalizedd the second restaurant in `restaurants` and add it to an empty `capitalized_restaurants` list."
   ]
  },
  {
   "cell_type": "code",
   "execution_count": 17,
   "metadata": {},
   "outputs": [
    {
     "data": {
      "text/plain": [
       "[]"
      ]
     },
     "execution_count": 17,
     "metadata": {},
     "output_type": "execute_result"
    }
   ],
   "source": [
    "restaurants = ['chipotle', 'chopt', 'arbys']\n",
    "capitalized_restaurants = []\n",
    "\n",
    "### write some code here\n",
    "\n",
    "capitalized_restaurants\n",
    "# ['Chopt']"
   ]
  },
  {
   "cell_type": "markdown",
   "metadata": {},
   "source": [
    "Ok, if you were able to do that, it's time for us to try capitalizing and adding all of our restaurants to a list. "
   ]
  },
  {
   "cell_type": "code",
   "execution_count": 18,
   "metadata": {},
   "outputs": [
    {
     "data": {
      "text/plain": [
       "['Chipotle', 'Chopt', 'Arbys']"
      ]
     },
     "execution_count": 18,
     "metadata": {},
     "output_type": "execute_result"
    }
   ],
   "source": [
    "restaurants = ['chipotle', 'chopt', 'arbys']\n",
    "# initialize the \n",
    "capitalized_restaurants = []\n",
    "\n",
    "for restaurant in restaurants:\n",
    "    cap_restaurant = restaurant.capitalize()\n",
    "    capitalized_restaurants.append(cap_restaurant)\n",
    "    \n",
    "capitalized_restaurants"
   ]
  },
  {
   "cell_type": "markdown",
   "metadata": {},
   "source": [
    "Take a look at the code, notice that the code almost matches the code we used for just operating on a single restaurant."
   ]
  },
  {
   "cell_type": "code",
   "execution_count": 19,
   "metadata": {},
   "outputs": [
    {
     "data": {
      "text/plain": [
       "['Chipotle']"
      ]
     },
     "execution_count": 19,
     "metadata": {},
     "output_type": "execute_result"
    }
   ],
   "source": [
    "restaurants = ['chipotle', 'chopt', 'arbys']\n",
    "capitalized_restaurants = []\n",
    "\n",
    "first_capitalized = restaurants[0].capitalize()\n",
    "capitalized_restaurants.append(first_capitalized)\n",
    "\n",
    "capitalized_restaurants"
   ]
  },
  {
   "cell_type": "markdown",
   "metadata": {},
   "source": [
    "This is a good technique to lean on if you get stuck.  Make the problem easier by solving the problem on one element, and then modify the code to use a loop and solve for many elements.\n",
    "\n",
    "Here's a challenge for you, created a list of restaurants with all of the restaurants upper cased.  We can uppercase a string like so:"
   ]
  },
  {
   "cell_type": "code",
   "execution_count": 20,
   "metadata": {},
   "outputs": [
    {
     "data": {
      "text/plain": [
       "'HELLO'"
      ]
     },
     "execution_count": 20,
     "metadata": {},
     "output_type": "execute_result"
    }
   ],
   "source": [
    "'hello'.upper()"
   ]
  },
  {
   "cell_type": "markdown",
   "metadata": {},
   "source": [
    "Once again, we'll get you started:"
   ]
  },
  {
   "cell_type": "code",
   "execution_count": 25,
   "metadata": {},
   "outputs": [
    {
     "data": {
      "text/plain": [
       "[]"
      ]
     },
     "execution_count": 25,
     "metadata": {},
     "output_type": "execute_result"
    }
   ],
   "source": [
    "restaurants = ['chipotle', 'chopt', 'arbys']\n",
    "uppercased_restaurants = []\n",
    "\n",
    "\n",
    "\n",
    "uppercased_restaurants\n",
    "\n",
    "# ['CHIPOTLE', 'CHOPT', 'ARBYS']"
   ]
  },
  {
   "cell_type": "markdown",
   "metadata": {},
   "source": [
    "### Summary"
   ]
  },
  {
   "cell_type": "markdown",
   "metadata": {},
   "source": [
    "In this lesson, we saw how we can create new lists of data with loops.  \n",
    "\n",
    "It can be difficult to write loops, so it's great to this down into steps.  First, try to perform the procedure on just the first element in the list.  Once that works, identify the code that is repeated for each element in the list, and identify the code that changes as the block variable changes.  Use this technique as you move through the coming lab."
   ]
  }
 ],
 "metadata": {
  "kernelspec": {
   "display_name": "Python 3",
   "language": "python",
   "name": "python3"
  },
  "language_info": {
   "codemirror_mode": {
    "name": "ipython",
    "version": 3
   },
   "file_extension": ".py",
   "mimetype": "text/x-python",
   "name": "python",
   "nbconvert_exporter": "python",
   "pygments_lexer": "ipython3",
   "version": "3.7.4"
  }
 },
 "nbformat": 4,
 "nbformat_minor": 4
}
