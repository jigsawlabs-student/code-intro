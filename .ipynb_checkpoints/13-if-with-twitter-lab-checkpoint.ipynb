{
 "cells": [
  {
   "cell_type": "markdown",
   "id": "c7c795fe-a699-447c-90b0-baa15e365a90",
   "metadata": {},
   "source": [
    "# If with Twitter Lab"
   ]
  },
  {
   "cell_type": "markdown",
   "id": "a44e576a-6ccd-427b-bf6d-134027062911",
   "metadata": {},
   "source": [
    "### Introduction"
   ]
  },
  {
   "cell_type": "markdown",
   "id": "a0eba4bd-1a88-421f-8e3a-df122cd1516a",
   "metadata": {},
   "source": [
    "In this lesson, we'll use our knowledge of for loops and if else statements to search through twitter data.  "
   ]
  },
  {
   "cell_type": "markdown",
   "id": "3d982681-41fc-40d7-ab5a-9136d4574c94",
   "metadata": {},
   "source": [
    "### Loading our Data"
   ]
  },
  {
   "cell_type": "markdown",
   "id": "ca68e85d-d93e-4e4c-9c9e-dd6fb0cee937",
   "metadata": {},
   "source": [
    "Let's begin with loading our data from a CSV file.  We'll convert the dataframe to a list of dictionaries called `users`."
   ]
  },
  {
   "cell_type": "code",
   "execution_count": 2,
   "id": "76010c21-00dd-4c89-8b0e-f0c501b9fa37",
   "metadata": {},
   "outputs": [],
   "source": [
    "import pandas as pd\n",
    "\n",
    "df = pd.read_csv('./twitter_accounts.csv', thousands = ',')\n",
    "users = df.drop(columns = ['Rank', 'Activity', 'twitter handle']).to_dict('records')"
   ]
  },
  {
   "cell_type": "code",
   "execution_count": 3,
   "id": "d600c6b1-94b4-45f3-86e9-0e1d4b0c2138",
   "metadata": {},
   "outputs": [
    {
     "data": {
      "text/plain": [
       "[{'Name': 'Barack Obama',\n",
       "  'Followers': 110890048,\n",
       "  'Following': 610113,\n",
       "  'Tweets': 15704,\n",
       "  'Nationality/headquarters': 'U.S.A',\n",
       "  'Industry': 'Politics'},\n",
       " {'Name': 'KATY PERRY',\n",
       "  'Followers': 108315414,\n",
       "  'Following': 222,\n",
       "  'Tweets': 10202,\n",
       "  'Nationality/headquarters': 'U.S.A',\n",
       "  'Industry': 'Music'}]"
      ]
     },
     "execution_count": 3,
     "metadata": {},
     "output_type": "execute_result"
    }
   ],
   "source": [
    "users[:2]"
   ]
  },
  {
   "cell_type": "markdown",
   "id": "ebc50f76-4350-46c9-bea0-a10f889945cf",
   "metadata": {},
   "source": [
    "## Initial Exploration"
   ]
  },
  {
   "cell_type": "markdown",
   "id": "867da4e5-486e-4597-8a39-ce1a893d6f91",
   "metadata": {},
   "source": [
    "So currently we have a list of dictionaries, where each dictionary is a top twitter user.  We can find out the number of users in our dataset by looking at the length of the list. "
   ]
  },
  {
   "cell_type": "code",
   "execution_count": 4,
   "id": "22e22640-dd7d-40ef-a059-99a5adfffcb5",
   "metadata": {},
   "outputs": [
    {
     "data": {
      "text/plain": [
       "100"
      ]
     },
     "execution_count": 4,
     "metadata": {},
     "output_type": "execute_result"
    }
   ],
   "source": [
    "len(users)"
   ]
  },
  {
   "cell_type": "markdown",
   "id": "6bc0e561-5247-43f2-b8e9-f465f94ef01e",
   "metadata": {},
   "source": [
    "So we can see that our list consists of 100 has one hundred different elements with each element, being a dictionary and representing a different twitter user.   "
   ]
  },
  {
   "cell_type": "code",
   "execution_count": 5,
   "id": "08b47888-ca99-4046-af53-32169648af24",
   "metadata": {},
   "outputs": [
    {
     "data": {
      "text/plain": [
       "[{'Name': 'Barack Obama',\n",
       "  'Followers': 110890048,\n",
       "  'Following': 610113,\n",
       "  'Tweets': 15704,\n",
       "  'Nationality/headquarters': 'U.S.A',\n",
       "  'Industry': 'Politics'},\n",
       " {'Name': 'KATY PERRY',\n",
       "  'Followers': 108315414,\n",
       "  'Following': 222,\n",
       "  'Tweets': 10202,\n",
       "  'Nationality/headquarters': 'U.S.A',\n",
       "  'Industry': 'Music'}]"
      ]
     },
     "execution_count": 5,
     "metadata": {},
     "output_type": "execute_result"
    }
   ],
   "source": [
    "users[:2]"
   ]
  },
  {
   "cell_type": "markdown",
   "id": "396a313d-a176-4d41-a1c5-9d1846550d38",
   "metadata": {},
   "source": [
    "Ok, so now let's find the names of all of the top twitter users and storing them in a list."
   ]
  },
  {
   "cell_type": "code",
   "execution_count": 6,
   "id": "c759c6ff-eda1-455a-9233-25f4648eb3da",
   "metadata": {},
   "outputs": [],
   "source": [
    "twitter_names = []\n",
    "\n",
    "for user in users:\n",
    "    twitter_names.append(user['Name'])"
   ]
  },
  {
   "cell_type": "code",
   "execution_count": 7,
   "id": "d31c2065-c210-4f14-8de2-b6a78a523251",
   "metadata": {},
   "outputs": [
    {
     "data": {
      "text/plain": [
       "['Barack Obama', 'KATY PERRY', 'Justin Bieber', 'Rihanna', 'Taylor Swift']"
      ]
     },
     "execution_count": 7,
     "metadata": {},
     "output_type": "execute_result"
    }
   ],
   "source": [
    "twitter_names[:5]\n",
    "\n",
    "# ['Barack Obama', 'KATY PERRY', 'Justin Bieber', 'Rihanna', 'Taylor Swift']"
   ]
  },
  {
   "cell_type": "markdown",
   "id": "b4775c66-e37c-49f6-88f9-cf32f2816115",
   "metadata": {},
   "source": [
    "We can confirm that our new list has 100 elements, with each element as a string."
   ]
  },
  {
   "cell_type": "code",
   "execution_count": 8,
   "id": "2d8c0cde-d549-454b-9b23-713c7ac2adb7",
   "metadata": {},
   "outputs": [
    {
     "data": {
      "text/plain": [
       "100"
      ]
     },
     "execution_count": 8,
     "metadata": {},
     "output_type": "execute_result"
    }
   ],
   "source": [
    "len(twitter_names)"
   ]
  },
  {
   "cell_type": "markdown",
   "id": "e6afa49c-331a-4590-b0db-c1a2b9c7ad11",
   "metadata": {},
   "source": [
    "Now let's begin to find some more information on our twitter users.  Below, create a list of nationalities of each user."
   ]
  },
  {
   "cell_type": "code",
   "execution_count": 9,
   "id": "10b5c55a-a0ab-422a-b730-0d3cecd39f08",
   "metadata": {},
   "outputs": [],
   "source": [
    "nationalities = []\n",
    "for user in users:\n",
    "    nationalities.append(user['Nationality/headquarters'])"
   ]
  },
  {
   "cell_type": "code",
   "execution_count": 10,
   "id": "843af629-de22-412e-a602-c927de3efae6",
   "metadata": {},
   "outputs": [
    {
     "data": {
      "text/plain": [
       "['U.S.A', 'U.S.A', 'Canada', 'Barbados', 'U.S.A', 'Portugal', 'U.S.A', 'U.S.A']"
      ]
     },
     "execution_count": 10,
     "metadata": {},
     "output_type": "execute_result"
    }
   ],
   "source": [
    "nationalities[:8]"
   ]
  },
  {
   "cell_type": "markdown",
   "id": "daa846bc-45d7-4140-820d-91fb2dc37167",
   "metadata": {},
   "source": [
    "To get a unique list of nationalities, we can take our list of nationalities and wrap it in a `set`, like so."
   ]
  },
  {
   "cell_type": "code",
   "execution_count": 11,
   "id": "d5202073-6a4f-4ec0-8b55-1660e31f26a5",
   "metadata": {},
   "outputs": [
    {
     "name": "stdout",
     "output_type": "stream",
     "text": [
      "{'Portugal', 'Ireland', 'France', 'Puerto Rico', 'Saudi Arabia', 'India', 'Spain', 'Barbados', 'U.K', 'Germany', 'Columbia', 'Korean', 'U.S.A', 'Europe', 'Canada', 'Brazil'}\n"
     ]
    }
   ],
   "source": [
    "unique_nationalities = set(nationalities)\n",
    "\n",
    "print(unique_nationalities)"
   ]
  },
  {
   "cell_type": "markdown",
   "id": "d24e7325-1023-44c3-aa62-f2bdd70a6a88",
   "metadata": {},
   "source": [
    "> A set is a collection of elements where every element is unique.  So by wrapping our converting our list to a set, we effectively uniqued our list of countries."
   ]
  },
  {
   "cell_type": "code",
   "execution_count": 12,
   "id": "d9ea8c2e-5402-4ee4-a02b-e0407869640d",
   "metadata": {},
   "outputs": [
    {
     "data": {
      "text/plain": [
       "{'Barbados',\n",
       " 'Brazil',\n",
       " 'Canada',\n",
       " 'Columbia',\n",
       " 'Europe',\n",
       " 'France',\n",
       " 'Germany',\n",
       " 'India',\n",
       " 'Ireland',\n",
       " 'Korean',\n",
       " 'Portugal',\n",
       " 'Puerto Rico',\n",
       " 'Saudi Arabia',\n",
       " 'Spain',\n",
       " 'U.K',\n",
       " 'U.S.A'}"
      ]
     },
     "execution_count": 12,
     "metadata": {},
     "output_type": "execute_result"
    }
   ],
   "source": [
    "nationalities[:8] # ['U.S.A', 'U.S.A', 'Canada', 'Barbados', 'U.S.A', 'Portugal', 'U.S.A', 'U.S.A']\n",
    "\n",
    "unique_nationalities = set(nationalities)\n",
    "unique_nationalities"
   ]
  },
  {
   "cell_type": "markdown",
   "id": "7c25c4d0-5cfa-4291-b2ec-7d9648a47180",
   "metadata": {},
   "source": [
    "Next, use the pattern above to create a set of the unique `Industry` of each user."
   ]
  },
  {
   "cell_type": "code",
   "execution_count": 13,
   "id": "b636dc61-2162-4e5d-b37e-2f2f4c6ff4aa",
   "metadata": {},
   "outputs": [],
   "source": [
    "industries = []\n",
    "\n",
    "for user in users:\n",
    "    industries.append(user['Industry'])"
   ]
  },
  {
   "cell_type": "code",
   "execution_count": 14,
   "id": "90f71f6d-6421-463d-b8eb-351eafbd3300",
   "metadata": {},
   "outputs": [
    {
     "name": "stdout",
     "output_type": "stream",
     "text": [
      "{'Technology ', 'Films/Entertainment', 'news', 'Politics', 'News', 'Space Agency', 'music', 'Music', 'Publishing Industry', 'Sports', 'Television', 'Business', 'sports'}\n"
     ]
    }
   ],
   "source": [
    "# update the line below to get a unique set of industries\n",
    "unique_industries = set(industries)\n",
    "\n",
    "print(unique_industries)"
   ]
  },
  {
   "cell_type": "markdown",
   "id": "ba55a47d-ca3d-4531-bed7-649d8ef979db",
   "metadata": {},
   "source": [
    "> One thing we may note is that our data is a bit messy, with `sports` sometimes being lowercased and sometimes being uppercased."
   ]
  },
  {
   "cell_type": "markdown",
   "id": "ce1db69d-9a81-42b1-b6ad-e857a18b0ec3",
   "metadata": {},
   "source": [
    "Ok, so now that we know where our top twitter users do, and where they are from, let's dig in on a specific country.  Create a **list of dictionaries** of all of the twitter users in canada and assign it to the variable `canadian_users`."
   ]
  },
  {
   "cell_type": "code",
   "execution_count": 15,
   "id": "7ae67ee5-b435-41e3-9ee3-c362a6c8d630",
   "metadata": {},
   "outputs": [],
   "source": [
    "canadian_users = []\n",
    "\n",
    "for user in users:\n",
    "    if user['Nationality/headquarters'] == 'Canada':\n",
    "        canadian_users.append(user)"
   ]
  },
  {
   "cell_type": "markdown",
   "id": "b0ddc181-ce9c-4b8d-91fe-39b76b9718f8",
   "metadata": {},
   "source": [
    "> We can see that there are four Canadian users."
   ]
  },
  {
   "cell_type": "code",
   "execution_count": 16,
   "id": "d801ed28-0af4-4cb7-bf33-c8aa49582763",
   "metadata": {},
   "outputs": [
    {
     "data": {
      "text/plain": [
       "4"
      ]
     },
     "execution_count": 16,
     "metadata": {},
     "output_type": "execute_result"
    }
   ],
   "source": [
    "len(canadian_users)"
   ]
  },
  {
   "cell_type": "markdown",
   "id": "930c8936-5d55-42d2-8f8f-4f57ec6d474f",
   "metadata": {},
   "source": [
    "And if we print out each of them we should see the following:"
   ]
  },
  {
   "cell_type": "code",
   "execution_count": 17,
   "id": "47716037-fc5c-4486-bebb-ee0693c117e3",
   "metadata": {},
   "outputs": [
    {
     "name": "stdout",
     "output_type": "stream",
     "text": [
      "{'Name': 'Justin Bieber', 'Followers': 107410873, 'Following': 296418, 'Tweets': 30462, 'Nationality/headquarters': 'Canada', 'Industry': 'Music'}\n",
      "{'Name': 'Drake', 'Followers': 38781907, 'Following': 625, 'Tweets': 1745, 'Nationality/headquarters': 'Canada', 'Industry': 'Music'}\n",
      "{'Name': 'Shawn Mendes', 'Followers': 24451861, 'Following': 57964, 'Tweets': 14945, 'Nationality/headquarters': 'Canada', 'Industry': 'music'}\n",
      "{'Name': 'Avril Lavigne', 'Followers': 21546496, 'Following': 167, 'Tweets': 4107, 'Nationality/headquarters': 'Canada', 'Industry': 'music'}\n"
     ]
    }
   ],
   "source": [
    "for canadian_user in canadian_users:\n",
    "    print(canadian_user)"
   ]
  },
  {
   "cell_type": "markdown",
   "id": "e01c65c8-48e4-410e-a11b-3609d17f2598",
   "metadata": {},
   "source": [
    "Next, let's see which of our Twitter users are popular without even trying.  Create a ***list of dictionaries** of twitter users who have tweeted fewer than 1000 times yet still are in our top 100."
   ]
  },
  {
   "cell_type": "code",
   "execution_count": 18,
   "id": "f49b7746-4472-44ed-87e2-06b2a97cb1e4",
   "metadata": {},
   "outputs": [],
   "source": [
    "lazy_tweeters = []\n",
    "\n",
    "for user in users:\n",
    "    if user['Tweets'] < 1000:\n",
    "        lazy_tweeters.append(user)"
   ]
  },
  {
   "cell_type": "code",
   "execution_count": 19,
   "id": "51dd1fea-1ce0-4963-b671-8431914c08e6",
   "metadata": {},
   "outputs": [
    {
     "name": "stdout",
     "output_type": "stream",
     "text": [
      "{'Name': 'Taylor Swift', 'Followers': 85520236, 'Following': 0, 'Tweets': 396, 'Nationality/headquarters': 'U.S.A', 'Industry': 'Music'}\n",
      "{'Name': 'Adele', 'Followers': 27488867, 'Following': 0, 'Tweets': 310, 'Nationality/headquarters': 'U.K', 'Industry': 'music'}\n",
      "{'Name': 'daniel tosh', 'Followers': 25852762, 'Following': 125, 'Tweets': 15, 'Nationality/headquarters': 'Germany', 'Industry': 'Films/Entertainment'}\n",
      "{'Name': 'Aamir Khan', 'Followers': 25403135, 'Following': 9, 'Tweets': 777, 'Nationality/headquarters': 'India', 'Industry': 'Films/Entertainment'}\n",
      "{'Name': 'Marshall Mathers', 'Followers': 22785561, 'Following': 0, 'Tweets': 925, 'Nationality/headquarters': 'U.S.A', 'Industry': 'Music'}\n"
     ]
    }
   ],
   "source": [
    "for lazy_tweeter in lazy_tweeters:\n",
    "    print(lazy_tweeter)"
   ]
  },
  {
   "cell_type": "markdown",
   "id": "47ba811a-3302-4456-8d05-9bd273c3243a",
   "metadata": {},
   "source": [
    "And next create a **list of names** of each user who is following fewer than 10 people and assign them to the variable `low_following_users`."
   ]
  },
  {
   "cell_type": "code",
   "execution_count": 20,
   "id": "6975cffb-4a52-4f81-9994-fcd51524430e",
   "metadata": {},
   "outputs": [],
   "source": [
    "low_following_users = []\n",
    "\n",
    "for user in users:\n",
    "    if user['Following'] < 10:\n",
    "        low_following_users.append(user['Name'])"
   ]
  },
  {
   "cell_type": "code",
   "execution_count": 21,
   "id": "a29b1644-c6f6-49e4-ac15-c4f037d0af1d",
   "metadata": {},
   "outputs": [
    {
     "name": "stdout",
     "output_type": "stream",
     "text": [
      "['Taylor Swift', 'Twitter', 'BBC Breaking News', 'Chris Brown', \"Conan O'Brien\", 'Adele', 'Aamir Khan', 'Marshall Mathers', 'A.R.Rahman', 'MohamadAlarefe']\n"
     ]
    }
   ],
   "source": [
    "print(low_following_users)"
   ]
  },
  {
   "cell_type": "markdown",
   "id": "a85e9218-c586-400f-96d8-e3d4c4d57037",
   "metadata": {},
   "source": [
    "> Find the number of low followers below."
   ]
  },
  {
   "cell_type": "code",
   "execution_count": 22,
   "id": "f8050895-d2e0-419c-8177-b7fedb837135",
   "metadata": {},
   "outputs": [
    {
     "data": {
      "text/plain": [
       "10"
      ]
     },
     "execution_count": 22,
     "metadata": {},
     "output_type": "execute_result"
    }
   ],
   "source": [
    "len(low_following_users)\n",
    "\n",
    "# 10"
   ]
  },
  {
   "cell_type": "markdown",
   "id": "07372e49-42c2-4df3-9b6a-d0a3c0702a16",
   "metadata": {},
   "source": [
    "### More advanced queries"
   ]
  },
  {
   "cell_type": "markdown",
   "id": "dc2fc34d-15a3-4ca2-ac95-19ede41c850e",
   "metadata": {},
   "source": [
    "Ok, so now that we have worked moved through some initial problems to filter out our data, let's move onto some more complicated problems.  Remember that if we look at our list of industries, sometimes the industry is capitalized and sometimes it's lowercased."
   ]
  },
  {
   "cell_type": "code",
   "execution_count": 23,
   "id": "73b24274-b4f6-4bb0-a0b3-628ce78e34b4",
   "metadata": {},
   "outputs": [
    {
     "name": "stdout",
     "output_type": "stream",
     "text": [
      "{'Technology ', 'Films/Entertainment', 'news', 'Politics', 'News', 'Space Agency', 'music', 'Music', 'Publishing Industry', 'Sports', 'Television', 'Business', 'sports'}\n"
     ]
    }
   ],
   "source": [
    "industries = []\n",
    "\n",
    "for user in users:\n",
    "    industries.append(user['Industry'])\n",
    "    \n",
    "print(set(industries))"
   ]
  },
  {
   "cell_type": "markdown",
   "id": "601eb9a2-0021-4a35-ad76-1b12a0cf01de",
   "metadata": {},
   "source": [
    "This means that if we try to find those in the music industry by seeing what matches `Music`, we'll miss all of the users who have music listed with a lowercase.  One way to solve for this is with an `or` statement.  We can use it like so."
   ]
  },
  {
   "cell_type": "code",
   "execution_count": 24,
   "id": "b046cdbd-ebd3-42b6-8793-682427a4d81b",
   "metadata": {},
   "outputs": [],
   "source": [
    "musical_usernames = []\n",
    "\n",
    "for user in users:\n",
    "    if user['Industry'] == 'Music' or user['Industry'] == 'music':\n",
    "        musical_usernames.append(user['Name'])"
   ]
  },
  {
   "cell_type": "code",
   "execution_count": 25,
   "id": "b9b2549d-851e-44f5-8afa-b8ed726745a0",
   "metadata": {},
   "outputs": [
    {
     "data": {
      "text/plain": [
       "['KATY PERRY', 'Justin Bieber', 'Rihanna']"
      ]
     },
     "execution_count": 25,
     "metadata": {},
     "output_type": "execute_result"
    }
   ],
   "source": [
    "musical_usernames[:3]"
   ]
  },
  {
   "cell_type": "markdown",
   "id": "918ad053-0339-4bd9-ba62-5733e41c5ef0",
   "metadata": {},
   "source": [
    "Let's focus on the if statement above."
   ]
  },
  {
   "cell_type": "markdown",
   "id": "0ace92d4-4bc0-4c47-9968-aec1014f2805",
   "metadata": {},
   "source": [
    "```python\n",
    "if user['Industry'] == 'Music' or user['Industry'] == 'music':\n",
    "    ...\n",
    "```"
   ]
  },
  {
   "cell_type": "markdown",
   "id": "7f6f3d96-b6ae-4316-acbb-ed3984e64b2f",
   "metadata": {},
   "source": [
    "So now our if statement is making two evaluations.  If either `user['Industry'] == 'Music'` or `user['Industry'] == 'music` returns True, the entire statement will evaluate to True."
   ]
  },
  {
   "cell_type": "code",
   "execution_count": 26,
   "id": "95fd0e64-2733-44b6-83cf-e0a3a57f969b",
   "metadata": {},
   "outputs": [
    {
     "data": {
      "text/plain": [
       "True"
      ]
     },
     "execution_count": 26,
     "metadata": {},
     "output_type": "execute_result"
    }
   ],
   "source": [
    "user = {'name': 'KATY PERRY', 'Industry': 'music'}\n",
    "\n",
    "user['Industry'] == 'Music' or user['Industry'] == 'music' # True"
   ]
  },
  {
   "cell_type": "markdown",
   "id": "56a4a39e-9f7e-4357-89b6-0ea12914904e",
   "metadata": {},
   "source": [
    "Ok, so this time it's your turn.  Use an `or` statement to find a list of all users who are in sports, whether sports is capitalized or lower cased.\n",
    "\n",
    "> Do not copy and paste the above statement -- we need to build muscle memory."
   ]
  },
  {
   "cell_type": "code",
   "execution_count": 35,
   "id": "5150ae65-50c7-4851-948d-d3adc910ee54",
   "metadata": {},
   "outputs": [
    {
     "data": {
      "text/plain": [
       "['Cristiano Ronaldo', 'Neymar Jr', 'LeBron James', 'SportsCenter', 'ESPN']"
      ]
     },
     "execution_count": 35,
     "metadata": {},
     "output_type": "execute_result"
    }
   ],
   "source": [
    "athletic_usernames = []\n",
    "\n",
    "# add code here\n",
    "\n",
    "athletic_usernames[:5]\n",
    "\n",
    "# ['Cristiano Ronaldo', 'Neymar Jr', 'LeBron James', 'SportsCenter', 'ESPN']"
   ]
  },
  {
   "cell_type": "markdown",
   "id": "999cfbb1-059f-4b74-be92-f8793db1efa3",
   "metadata": {},
   "source": [
    "> Confirm that we have all 17 users above."
   ]
  },
  {
   "cell_type": "code",
   "execution_count": 36,
   "id": "3f0f17d7-3222-4e09-84f7-6d2f148d62ef",
   "metadata": {},
   "outputs": [
    {
     "data": {
      "text/plain": [
       "17"
      ]
     },
     "execution_count": 36,
     "metadata": {},
     "output_type": "execute_result"
    }
   ],
   "source": [
    "len(athletic_usernames)"
   ]
  },
  {
   "cell_type": "markdown",
   "id": "79b5de29-6516-40e8-b3ed-2f6ae6b156e9",
   "metadata": {},
   "source": [
    "Finally, while `or` allows us to will evaluate to True if either condition holds, the keyword `and` only returns True when **both** conditions evaluate to `True`.  For example, let's say we want to find users who have fewer than 10 followers *and* fewer than 500 tweets.  We can do so with the following:"
   ]
  },
  {
   "cell_type": "code",
   "execution_count": 50,
   "id": "05a72a04-2bb3-41b2-9064-7d1917f45046",
   "metadata": {},
   "outputs": [
    {
     "data": {
      "text/plain": [
       "[{'Name': 'Taylor Swift',\n",
       "  'Followers': 85520236,\n",
       "  'Following': 0,\n",
       "  'Tweets': 396,\n",
       "  'Nationality/headquarters': 'U.S.A',\n",
       "  'Industry': 'Music'},\n",
       " {'Name': 'Adele',\n",
       "  'Followers': 27488867,\n",
       "  'Following': 0,\n",
       "  'Tweets': 310,\n",
       "  'Nationality/headquarters': 'U.K',\n",
       "  'Industry': 'music'}]"
      ]
     },
     "execution_count": 50,
     "metadata": {},
     "output_type": "execute_result"
    }
   ],
   "source": [
    "low_activity_users = []\n",
    "\n",
    "for user in users:\n",
    "    if user['Following'] < 10 and user['Tweets'] < 500:\n",
    "        low_activity_users.append(user)\n",
    "        \n",
    "low_activity_users[:5]"
   ]
  },
  {
   "cell_type": "markdown",
   "id": "95b66c95-f206-46bb-9e1c-e887b74d53fb",
   "metadata": {},
   "source": [
    "### Summary"
   ]
  },
  {
   "cell_type": "code",
   "execution_count": null,
   "id": "c617bdb6-cfed-4543-adbc-aabcadd65571",
   "metadata": {},
   "outputs": [],
   "source": []
  }
 ],
 "metadata": {
  "kernelspec": {
   "display_name": "Python 3 (ipykernel)",
   "language": "python",
   "name": "python3"
  },
  "language_info": {
   "codemirror_mode": {
    "name": "ipython",
    "version": 3
   },
   "file_extension": ".py",
   "mimetype": "text/x-python",
   "name": "python",
   "nbconvert_exporter": "python",
   "pygments_lexer": "ipython3",
   "version": "3.10.6"
  }
 },
 "nbformat": 4,
 "nbformat_minor": 5
}
