{
 "cells": [
  {
   "cell_type": "markdown",
   "metadata": {},
   "source": [
    "# For Loops"
   ]
  },
  {
   "cell_type": "code",
   "execution_count": 132,
   "metadata": {},
   "outputs": [],
   "source": [
    "loops_intro = \"https://storage.googleapis.com/curriculum-assets/curriculum-assets.nosync/mom-files/loopy-loops.wav\"\n",
    "import IPython.display as ipd\n",
    "ipd.Audio(loops_intro)"
   ]
  },
  {
   "cell_type": "markdown",
   "metadata": {},
   "source": [
    "### Introduction"
   ]
  },
  {
   "cell_type": "markdown",
   "metadata": {},
   "source": [
    "Now that we know about lists in Python, we can learn about using code to perform an operation on every element in a list.  \n",
    "\n",
    "This is a very powerful tool that allows us to automate repeated tasks.  For example, think of an assembly line."
   ]
  },
  {
   "cell_type": "markdown",
   "metadata": {},
   "source": [
    "<img src=\"https://storage.cloud.google.com/curriculum-assets/curriculum-assets.nosync/mom-files/kids-assembly-line.png\" width=\"50%\">"
   ]
  },
  {
   "cell_type": "markdown",
   "metadata": {},
   "source": [
    "Focus on the second kid in charge of adding the frosting.  She needs to perform the same operation on each cupcake, and only the specific cupcake changes.  \n",
    "\n",
    "Now as programmers, we use a loops to perform the same operation on each element in a list.  It cuts down on repeated work.  Let's see how.  "
   ]
  },
  {
   "cell_type": "markdown",
   "metadata": {},
   "source": [
    "### Simple Printing"
   ]
  },
  {
   "cell_type": "markdown",
   "metadata": {},
   "source": [
    "Let's start with something simple: a simple print statement.  A print statement just prints code."
   ]
  },
  {
   "cell_type": "code",
   "execution_count": 68,
   "metadata": {},
   "outputs": [
    {
     "name": "stdout",
     "output_type": "stream",
     "text": [
      "Thanks for the lovely gift\n"
     ]
    }
   ],
   "source": [
    "print('Thanks for the lovely gift')"
   ]
  },
  {
   "cell_type": "markdown",
   "metadata": {},
   "source": [
    "Now let's use a for loop to print the same thing many times."
   ]
  },
  {
   "cell_type": "code",
   "execution_count": 69,
   "metadata": {},
   "outputs": [
    {
     "name": "stdout",
     "output_type": "stream",
     "text": [
      "Thanks for the lovely gift\n",
      "Thanks for the lovely gift\n",
      "Thanks for the lovely gift\n"
     ]
    }
   ],
   "source": [
    "for number in [1, 2, 3]:\n",
    "    print('Thanks for the lovely gift')"
   ]
  },
  {
   "cell_type": "markdown",
   "metadata": {},
   "source": [
    "Now normally, we reference the element in the list.  And our block variable takes turns being each element.  For example, below, we'll print out a list of cities."
   ]
  },
  {
   "cell_type": "code",
   "execution_count": 115,
   "metadata": {},
   "outputs": [
    {
     "name": "stdout",
     "output_type": "stream",
     "text": [
      "chocolate\n",
      "vanilla\n",
      "red velvet\n"
     ]
    }
   ],
   "source": [
    "for cupcake in ['chocolate', 'vanilla', 'red velvet']:\n",
    "    print(cupcake)"
   ]
  },
  {
   "cell_type": "markdown",
   "metadata": {},
   "source": [
    "That is a for loop.  \n",
    "\n",
    "> A `for loop` begins with the word `for` then has a variable name (above `cupcake`) called a block variable.  And finally it contains a list to move through."
   ]
  },
  {
   "cell_type": "markdown",
   "metadata": {},
   "source": [
    "```python\n",
    "for block_variable in list_of_elements:\n",
    "    do_something\n",
    "```"
   ]
  },
  {
   "cell_type": "markdown",
   "metadata": {},
   "source": [
    "Notice that at the end of the first line we place a colon, `:`.  This indicates to Python that we are about to begin a block.  \n",
    "\n",
    "> A block just means an unnamed procedure of code.  We indent our block with a tab (or two spaces) and then write the procedure that we want to occur for every element in the list."
   ]
  },
  {
   "cell_type": "markdown",
   "metadata": {},
   "source": [
    "We can call the block variable whatever we like.  For example, below we renamed the block variable to be `whatevs`.  But notice: **we do** have to use the same name in both places in our loop.  "
   ]
  },
  {
   "cell_type": "code",
   "execution_count": 116,
   "metadata": {},
   "outputs": [
    {
     "name": "stdout",
     "output_type": "stream",
     "text": [
      "chocolate\n",
      "vanilla\n",
      "red velvet\n"
     ]
    }
   ],
   "source": [
    "for whatevs in ['chocolate', 'vanilla', 'red velvet']:\n",
    "    print(whatevs)"
   ]
  },
  {
   "cell_type": "markdown",
   "metadata": {},
   "source": [
    "Now it's your turn.  We'll give you a list of greetings.  Print out each of the greetings below."
   ]
  },
  {
   "cell_type": "code",
   "execution_count": 119,
   "metadata": {},
   "outputs": [],
   "source": [
    "['hello', 'welcome', 'pleased to meet you']"
   ]
  },
  {
   "cell_type": "markdown",
   "metadata": {},
   "source": [
    "> Explanation and celebration from my mom."
   ]
  },
  {
   "cell_type": "code",
   "execution_count": 133,
   "metadata": {},
   "outputs": [],
   "source": [
    "import IPython.display as ipd\n",
    "\n",
    "loops_greeting = \"https://storage.googleapis.com/curriculum-assets/curriculum-assets.nosync/mom-files/loops-greetings.wav\"\n",
    "ipd.Audio(loops_greeting)"
   ]
  },
  {
   "cell_type": "markdown",
   "metadata": {},
   "source": [
    "### Using loops for maps"
   ]
  },
  {
   "cell_type": "markdown",
   "metadata": {},
   "source": [
    "We can use loops with many tasks.  Here we'll use `for loops` to add NYC store locations on a map.  Now being able to quickly create maps is something very useful for businesses.  \n",
    "\n",
    "For example, a business may may want to create a map of all of their stores, or a map of all of their customers to decide where to open a new store."
   ]
  },
  {
   "cell_type": "markdown",
   "metadata": {},
   "source": [
    "Now adding every store, or every customer to a map one by one would be extremely tedious.  But with a for loop, we can automate this process."
   ]
  },
  {
   "cell_type": "markdown",
   "metadata": {},
   "source": [
    "Our first step is to create a map.  We can use the `folium library` to do so."
   ]
  },
  {
   "cell_type": "markdown",
   "metadata": {},
   "source": [
    "> Press shift + enter on the cell below."
   ]
  },
  {
   "cell_type": "code",
   "execution_count": 109,
   "metadata": {},
   "outputs": [],
   "source": [
    "import folium\n",
    "# location takes a pair of the latitude and longitude\n",
    "nyc_map = folium.Map(location=[40.7613, -74.0060], zoom_start=12)\n",
    "nyc_map"
   ]
  },
  {
   "cell_type": "markdown",
   "metadata": {},
   "source": [
    "Below we have a list of latitudes and longitudes for stores of frozen yogurt shop called `sixteen handles`.  Notice that each pair of coordinates is in a list, so we can use a for loop to add them to a map.\n",
    "\n",
    "We'll walk through this process below."
   ]
  },
  {
   "cell_type": "markdown",
   "metadata": {},
   "source": [
    "Now we're about to add a marker for the first location.\n",
    "\n",
    "We'll do so by selecting an element from the list below.  \n",
    "\n",
    "> **Remember**:  we select an element from a list by first referencing the list, and then specifying the element we want to select with the index.\n",
    "```python\n",
    "stores = ['shop by sue', 'melissas', 'freddies']\n",
    "stores[1] # 'melissas'\n",
    "````"
   ]
  },
  {
   "cell_type": "markdown",
   "metadata": {},
   "source": [
    "Now it's your turn."
   ]
  },
  {
   "cell_type": "code",
   "execution_count": 110,
   "metadata": {},
   "outputs": [],
   "source": [
    "locations = [\n",
    "[40.758430, -73.989372], \n",
    "[39.303940, -76.616257],\n",
    "[40.780890, -73.976480],\n",
    "[40.749360, -73.975950]\n",
    "]"
   ]
  },
  {
   "cell_type": "markdown",
   "metadata": {},
   "source": [
    "Select the first element from the list of `locations` in the cell above, and assign it to the variable `first_location`.  (Replace the word `None` with your answer)."
   ]
  },
  {
   "cell_type": "code",
   "execution_count": 105,
   "metadata": {},
   "outputs": [
    {
     "data": {
      "text/plain": [
       "[40.75843, -73.989372]"
      ]
     },
     "execution_count": 105,
     "metadata": {},
     "output_type": "execute_result"
    }
   ],
   "source": [
    "first_location = locations[0]\n",
    "first_location\n",
    "# [40.758430, -73.989372]"
   ]
  },
  {
   "cell_type": "markdown",
   "metadata": {},
   "source": [
    "Next we can add the `first_location` to the map."
   ]
  },
  {
   "cell_type": "code",
   "execution_count": 112,
   "metadata": {},
   "outputs": [
    {
     "data": {
      "text/plain": [
       "<folium.map.Marker at 0x1188c6bd0>"
      ]
     },
     "execution_count": 112,
     "metadata": {},
     "output_type": "execute_result"
    }
   ],
   "source": [
    "folium.Marker(first_location).add_to(nyc_map)\n",
    "nyc_map"
   ]
  },
  {
   "cell_type": "markdown",
   "metadata": {},
   "source": [
    "So we can add a marker to the map with the code:\n",
    "\n",
    "```python\n",
    "folium.Marker([lat, long]).add_to(nyc_map)\n",
    "```"
   ]
  },
  {
   "cell_type": "markdown",
   "metadata": {},
   "source": [
    "The first part creates a marker by passing through a list of coordinates: `folium.Marker([lat, long])`"
   ]
  },
  {
   "cell_type": "markdown",
   "metadata": {},
   "source": [
    "And the second part adds that marker to the provided map: `.add_to(nyc_map)`"
   ]
  },
  {
   "cell_type": "markdown",
   "metadata": {},
   "source": [
    "Notice that each element in our `locations` list is already a latitude and longitude pair.  So we can use a `for loop` to iterate through each of the elements in the list and add them to the map.\n",
    "\n",
    "Now it's your turn."
   ]
  },
  {
   "cell_type": "markdown",
   "metadata": {},
   "source": [
    "Remember that a `for loop` takes the following pattern."
   ]
  },
  {
   "cell_type": "markdown",
   "metadata": {},
   "source": [
    "```python\n",
    "for element in list_of_elements:\n",
    "    do_something\n",
    "```\n",
    "```python\n",
    "for whatevs in ['nyc', 'chicago', 'los angelos']:\n",
    "    print(whatevs)\n",
    "```"
   ]
  },
  {
   "cell_type": "markdown",
   "metadata": {},
   "source": [
    "Use a `for loop` to add each location to the nyc map."
   ]
  },
  {
   "cell_type": "code",
   "execution_count": 94,
   "metadata": {},
   "outputs": [],
   "source": [
    "locations = [\n",
    "[40.758430, -73.989372], \n",
    "[39.303940, -76.616257],\n",
    "[40.780890, -73.976480],\n",
    "[40.749360, -73.975950]\n",
    "]"
   ]
  },
  {
   "cell_type": "markdown",
   "metadata": {},
   "source": [
    "> Press shift + enter on the cell above."
   ]
  },
  {
   "cell_type": "markdown",
   "metadata": {},
   "source": [
    "We got you started with the code below.  Replace the `...` with your code."
   ]
  },
  {
   "cell_type": "code",
   "execution_count": 107,
   "metadata": {},
   "outputs": [],
   "source": [
    "# replace the ... with your code\n",
    "\n",
    "for ... in ...:\n",
    "    folium.Marker(...).add_to(nyc_map)"
   ]
  },
  {
   "cell_type": "markdown",
   "metadata": {},
   "source": [
    "> When done, press shift + enter on the cell above.\n",
    "> Then press shift + enter on the cell below to see that you added the store locations to the NYC map."
   ]
  },
  {
   "cell_type": "markdown",
   "metadata": {},
   "source": [
    "> If you need help, you can hear me give some hints to my mother."
   ]
  },
  {
   "cell_type": "code",
   "execution_count": 131,
   "metadata": {},
   "outputs": [],
   "source": [
    "import IPython.display as ipd\n",
    "prefix = \"https://storage.googleapis.com/curriculum-assets/curriculum-assets.nosync/mom-files/\"\n",
    "loops_folium = prefix + \"for-loops-folium-problem-whatevs.wav\"\n",
    "ipd.Audio(loops_folium)"
   ]
  },
  {
   "cell_type": "code",
   "execution_count": 111,
   "metadata": {},
   "outputs": [],
   "source": [
    "nyc_map"
   ]
  },
  {
   "cell_type": "markdown",
   "metadata": {},
   "source": [
    "Now practice writing out the entire `for loop` in the cell below for practice. "
   ]
  },
  {
   "cell_type": "code",
   "execution_count": null,
   "metadata": {},
   "outputs": [],
   "source": []
  },
  {
   "cell_type": "markdown",
   "metadata": {},
   "source": [
    "### Summary"
   ]
  },
  {
   "cell_type": "markdown",
   "metadata": {},
   "source": [
    "In this lesson, we saw how loops allow us to perform the same operation once for each element in a list.  We write a loop with the pattern of \n",
    "```python\n",
    "for block_variable in our_list:\n",
    "    do_something \n",
    "```\n",
    "\n",
    "Our loop moves through the elements in the list one by one, setting the block variable as each successive element.  Once the block variable is assigned to a new element, Python executes the block of code indented after the colon."
   ]
  },
  {
   "cell_type": "markdown",
   "metadata": {},
   "source": [
    "The end problem was tricky, if you got a little frustrated, you wouldn't be the first person."
   ]
  },
  {
   "cell_type": "code",
   "execution_count": 134,
   "metadata": {},
   "outputs": [],
   "source": [
    "import IPython.display as ipd\n",
    "prefix = \"https://storage.googleapis.com/curriculum-assets/curriculum-assets.nosync/mom-files/\"\n",
    "loops_folium = prefix + \"fachata.wav\"\n",
    "ipd.Audio(loops_folium)"
   ]
  },
  {
   "cell_type": "markdown",
   "metadata": {},
   "source": [
    "<right> \n",
    "<img src=\"https://storage.cloud.google.com/curriculum-assets/curriculum-assets.nosync/mom-files/pngfuel.com.png\" align=\"right\" style=\"padding-right: 20px\" width=\"10%\">\n",
    "</right>"
   ]
  },
  {
   "cell_type": "markdown",
   "metadata": {},
   "source": [
    "<center>\n",
    "<a href=\"https://www.jigsawlabs.io\" style=\"position: center\"><img src=\"https://storage.cloud.google.com/curriculum-assets/curriculum-assets.nosync/mom-files/jigsaw-labs.png\" width=\"15%\" style=\"text-align: center\"></a>\n",
    "</center>"
   ]
  },
  {
   "cell_type": "markdown",
   "metadata": {},
   "source": [
    "### Answers"
   ]
  },
  {
   "cell_type": "code",
   "execution_count": 128,
   "metadata": {},
   "outputs": [
    {
     "name": "stdout",
     "output_type": "stream",
     "text": [
      "hello\n",
      "welcome\n",
      "pleased to meet you\n"
     ]
    }
   ],
   "source": [
    "for greeting in ['hello', 'welcome', 'pleased to meet you']:\n",
    "    print(greeting)"
   ]
  },
  {
   "cell_type": "code",
   "execution_count": 129,
   "metadata": {},
   "outputs": [],
   "source": [
    "locations = [\n",
    "[40.758430, -73.989372], \n",
    "[39.303940, -76.616257],\n",
    "[40.780890, -73.976480],\n",
    "[40.749360, -73.975950]\n",
    "]\n",
    "\n",
    "for location in locations:\n",
    "    folium.Marker(location).add_to(nyc_map)"
   ]
  },
  {
   "cell_type": "code",
   "execution_count": 130,
   "metadata": {},
   "outputs": [
    {
     "data": {
      "text/html": [
       "<div style=\"width:100%;\"><div style=\"position:relative;width:100%;height:0;padding-bottom:60%;\"><iframe src=\"data:text/html;charset=utf-8;base64,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\" style=\"position:absolute;width:100%;height:100%;left:0;top:0;border:none !important;\" allowfullscreen webkitallowfullscreen mozallowfullscreen></iframe></div></div>"
      ],
      "text/plain": [
       "<folium.folium.Map at 0x118807cd0>"
      ]
     },
     "execution_count": 130,
     "metadata": {},
     "output_type": "execute_result"
    }
   ],
   "source": [
    "nyc_map"
   ]
  },
  {
   "cell_type": "code",
   "execution_count": null,
   "metadata": {},
   "outputs": [],
   "source": []
  }
 ],
 "metadata": {
  "kernelspec": {
   "display_name": "Python 3",
   "language": "python",
   "name": "python3"
  },
  "language_info": {
   "codemirror_mode": {
    "name": "ipython",
    "version": 3
   },
   "file_extension": ".py",
   "mimetype": "text/x-python",
   "name": "python",
   "nbconvert_exporter": "python",
   "pygments_lexer": "ipython3",
   "version": "3.7.4"
  }
 },
 "nbformat": 4,
 "nbformat_minor": 4
}
