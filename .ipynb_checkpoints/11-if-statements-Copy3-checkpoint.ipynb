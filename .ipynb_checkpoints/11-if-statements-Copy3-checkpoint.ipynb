{
 "cells": [
  {
   "cell_type": "markdown",
   "id": "c7c795fe-a699-447c-90b0-baa15e365a90",
   "metadata": {},
   "source": [
    "# Working with If"
   ]
  },
  {
   "cell_type": "markdown",
   "id": "a44e576a-6ccd-427b-bf6d-134027062911",
   "metadata": {},
   "source": [
    "### Introduction"
   ]
  },
  {
   "cell_type": "markdown",
   "id": "96aeee14-9bd9-486b-82da-c458dfa41065",
   "metadata": {},
   "source": [
    "In our lessons so far, we have operated on *all* of our data.  For example, we have collected information about all of our cities and then pulled out data regarding the city name or population.  "
   ]
  },
  {
   "cell_type": "code",
   "execution_count": 1,
   "id": "43f02d48-cc3d-4d9c-b851-05b4b0e955fa",
   "metadata": {},
   "outputs": [],
   "source": [
    "city_names = []\n",
    "\n",
    "for city in cities:\n",
    "    city_name = city['City']\n",
    "    populations.append(city_name)\n",
    "\n",
    "populations = []\n",
    "\n",
    "for city in cities:\n",
    "    city_pop = city['2020census']\n",
    "    populations.append(city_pop)"
   ]
  },
  {
   "cell_type": "markdown",
   "id": "30c9a7d8-ed05-4cdd-bc13-57a774912c4f",
   "metadata": {},
   "source": [
    "But in programming, sometimes we do not wish to act on each type of data in the same way.  For example, maybe we want to only add cities if they are over a certain population.  Or if they are from a certain state.  As we'll see, Python allows us to perform this with an `if` statement."
   ]
  },
  {
   "cell_type": "markdown",
   "id": "25a486bd-7d53-467d-978d-3cbe331067f7",
   "metadata": {},
   "source": [
    "### Asking questions of data"
   ]
  },
  {
   "cell_type": "markdown",
   "id": "ec758ea5-3ff9-496a-85dc-f445273ac56d",
   "metadata": {},
   "source": [
    "Let's say that we want our code to indicate whether a city population is above `1,000,000` or below `1,000,000`.  We can do so with the following:"
   ]
  },
  {
   "cell_type": "code",
   "execution_count": 4,
   "id": "ecd249d6-a759-43aa-838b-a6ff27719495",
   "metadata": {},
   "outputs": [],
   "source": [
    "population = 2_000_000 # 800_000"
   ]
  },
  {
   "cell_type": "code",
   "execution_count": 5,
   "id": "88b09f26-d4d6-4832-ae60-46f15e373c8c",
   "metadata": {},
   "outputs": [
    {
     "name": "stdout",
     "output_type": "stream",
     "text": [
      "large population\n"
     ]
    }
   ],
   "source": [
    "if population > 1_000_000:\n",
    "    print('large population')\n",
    "else:\n",
    "    print('not so large')"
   ]
  },
  {
   "cell_type": "markdown",
   "id": "4caccf33-edb5-4f58-a5ff-28e9ee6a4b07",
   "metadata": {},
   "source": [
    "If we run the two cells above, we'll see that we print out `large population`.  Next change the population in the first cell to `800_000` and we should see an output of `not so large`."
   ]
  },
  {
   "cell_type": "markdown",
   "id": "63ecfb84-bdff-418e-acd8-6524dcaa9292",
   "metadata": {},
   "source": [
    "Ok, so the above statement is an if statement, and if we focus on the first line `if population > 1_000_000:`, we see that it contains the following:"
   ]
  },
  {
   "cell_type": "markdown",
   "id": "7dad5b99-fe92-41cb-b8b4-0a9698da87d3",
   "metadata": {},
   "source": [
    "```python\n",
    "population > 1_000_000\n",
    "```"
   ]
  },
  {
   "cell_type": "markdown",
   "id": "1adce96c-420f-48d3-95be-33921d49b899",
   "metadata": {},
   "source": [
    "That component -- `population > 1_000_000` is asking a question -- is the population greater than one million.  And if we run the code, Python provides the answer in the form of True or False."
   ]
  },
  {
   "cell_type": "code",
   "execution_count": 18,
   "id": "00c89976-d3bc-4a26-a466-8fc7d46e3d46",
   "metadata": {},
   "outputs": [],
   "source": [
    "population = 20_000_000"
   ]
  },
  {
   "cell_type": "markdown",
   "id": "c5d33582-76d9-448f-91af-3297332ebbb9",
   "metadata": {},
   "source": [
    "> Set the population above to 20,000,000.  Then below, ask if it's above `1,000,000`."
   ]
  },
  {
   "cell_type": "code",
   "execution_count": 13,
   "id": "61a14d4e-dece-47ad-b2b5-bd446f290c04",
   "metadata": {},
   "outputs": [
    {
     "data": {
      "text/plain": [
       "True"
      ]
     },
     "execution_count": 13,
     "metadata": {},
     "output_type": "execute_result"
    }
   ],
   "source": [
    "population > 1_000_000"
   ]
  },
  {
   "cell_type": "markdown",
   "id": "67542bff-8961-442d-9e51-ddaa790d7d79",
   "metadata": {},
   "source": [
    "The code `population > 1_000_000` is an example of a boolean expression.  And a boolean expression always returns one of two values -- True or False.  For example, here is another boolean statement.  "
   ]
  },
  {
   "cell_type": "code",
   "execution_count": 14,
   "id": "2eff232a-3994-4565-ac43-7ea17ec9454b",
   "metadata": {},
   "outputs": [
    {
     "data": {
      "text/plain": [
       "False"
      ]
     },
     "execution_count": 14,
     "metadata": {},
     "output_type": "execute_result"
    }
   ],
   "source": [
    "population < 1_000_000"
   ]
  },
  {
   "cell_type": "markdown",
   "id": "dcba69fc-c9f6-4955-991e-c1440c29af76",
   "metadata": {},
   "source": [
    "### Returning to If"
   ]
  },
  {
   "cell_type": "markdown",
   "id": "4ef80fb9-2512-4a0e-a038-dec6308ac13d",
   "metadata": {},
   "source": [
    "Now let's take another look at our if else statement."
   ]
  },
  {
   "cell_type": "code",
   "execution_count": 19,
   "id": "1073ce89-ad3e-4238-9b61-30704a32366f",
   "metadata": {},
   "outputs": [],
   "source": [
    "population = 1_000_000"
   ]
  },
  {
   "cell_type": "code",
   "execution_count": 20,
   "id": "6701a184-f5ed-4205-8ffb-977c0b863163",
   "metadata": {},
   "outputs": [
    {
     "name": "stdout",
     "output_type": "stream",
     "text": [
      "not so large\n"
     ]
    }
   ],
   "source": [
    "if population > 1_000_000:\n",
    "    print('large population')\n",
    "else:\n",
    "    print('not so large')"
   ]
  },
  {
   "cell_type": "markdown",
   "id": "e9802e02-3c0c-45a0-ab17-fbf973d3595a",
   "metadata": {},
   "source": [
    "So our if statement consists of the following pattern:"
   ]
  },
  {
   "cell_type": "markdown",
   "id": "f3d07ef8-5d13-41a1-aab8-ab09ef20af35",
   "metadata": {},
   "source": [
    "```python\n",
    "if boolean_expression:\n",
    "    # do when boolean is True\n",
    "else:\n",
    "    # do when boolean is False\n",
    "```"
   ]
  },
  {
   "cell_type": "markdown",
   "id": "9227be4a-e8d9-4452-9966-bc63f2af5277",
   "metadata": {},
   "source": [
    "In other words, we have the keyword if followed by our expression and a `:`.  Then we tab in to write what we would like to occur when the expression is True.  In the line below `else:` we write what occurs when the expression returns False."
   ]
  },
  {
   "cell_type": "markdown",
   "id": "31cf3722-845d-4893-9f7b-5e5e0a6f0dd1",
   "metadata": {},
   "source": [
    "So now try to write an if else statement below that displays `large state` if the area is greater than `70_000` miles and `small state` otherwise."
   ]
  },
  {
   "cell_type": "code",
   "execution_count": 22,
   "id": "f47c6e4b-4dba-4047-b305-48bb9daa75fd",
   "metadata": {},
   "outputs": [],
   "source": [
    "area = 100_000"
   ]
  },
  {
   "cell_type": "code",
   "execution_count": 24,
   "id": "97cf0fbc-df2f-457d-9389-a1bc0e6891ae",
   "metadata": {},
   "outputs": [
    {
     "name": "stdout",
     "output_type": "stream",
     "text": [
      "large state\n"
     ]
    }
   ],
   "source": [
    "if area > 70_000:\n",
    "    print('large state')\n",
    "else:\n",
    "    print('small state')\n",
    "    \n",
    "# large state"
   ]
  },
  {
   "cell_type": "markdown",
   "id": "6473c47b-3a48-4243-b1a3-fd64d20f69c1",
   "metadata": {
    "tags": []
   },
   "source": [
    "### A challenge"
   ]
  },
  {
   "cell_type": "markdown",
   "id": "dc1a98d4-7ffd-48ac-ba06-54bc19339187",
   "metadata": {},
   "source": [
    "1. Working with dictionaries"
   ]
  },
  {
   "cell_type": "markdown",
   "id": "a238f656-730c-4167-8513-f2b0485fe06f",
   "metadata": {},
   "source": [
    "Now let's go back to working with our city data.  "
   ]
  },
  {
   "cell_type": "code",
   "execution_count": 38,
   "id": "bad45fc3-5952-45bf-bc1c-26d95fd4a100",
   "metadata": {},
   "outputs": [],
   "source": [
    "city = {'2020rank': 1,\n",
    "  'City': 'New York[d]',\n",
    "  'State': 'New York',\n",
    "  '2020census': 8_804_190}"
   ]
  },
  {
   "cell_type": "code",
   "execution_count": 41,
   "id": "48c45023-96b3-42ba-bf75-42ce42c321e4",
   "metadata": {},
   "outputs": [],
   "source": [
    "# city = {'2020rank': 2,\n",
    "#   'City': 'Los Angeles',\n",
    "#   'State': 'California',\n",
    "#   '2020census': 3_898_747}\n",
    "\n",
    "# city = {'City': 'Chicago',\n",
    "#   'State': 'Illinois',\n",
    "#   '2020census': 2746388}"
   ]
  },
  {
   "cell_type": "markdown",
   "id": "d8935830-6ed4-4cf9-9b47-08086f2590b1",
   "metadata": {},
   "source": [
    "Write code below that will only print the City if the population is over `3_000_000`, otherwise it will print `too small`.  First try the code with the first city New York, which should be printed.  And then try it again with los angeles, which should also be printed.  And finally with Chicago, which should not be printed."
   ]
  },
  {
   "cell_type": "code",
   "execution_count": 40,
   "id": "280f063a-4fe3-40c0-8a20-a8c319261c19",
   "metadata": {},
   "outputs": [
    {
     "name": "stdout",
     "output_type": "stream",
     "text": [
      "too small\n"
     ]
    }
   ],
   "source": [
    "# Write code here\n",
    "\n",
    "if city['2020census'] > 3_000_000:\n",
    "    print(city['City'])\n",
    "else:\n",
    "    print('too small')"
   ]
  },
  {
   "cell_type": "markdown",
   "id": "fc173bde-eadd-4d47-8f95-cc5d04675757",
   "metadata": {},
   "source": [
    "2. Working with a list of dictionaries"
   ]
  },
  {
   "cell_type": "code",
   "execution_count": null,
   "id": "d304bf63-ee25-4ed8-9439-3a9930d2995e",
   "metadata": {},
   "outputs": [],
   "source": []
  }
 ],
 "metadata": {
  "kernelspec": {
   "display_name": "Python 3 (ipykernel)",
   "language": "python",
   "name": "python3"
  },
  "language_info": {
   "codemirror_mode": {
    "name": "ipython",
    "version": 3
   },
   "file_extension": ".py",
   "mimetype": "text/x-python",
   "name": "python",
   "nbconvert_exporter": "python",
   "pygments_lexer": "ipython3",
   "version": "3.10.6"
  }
 },
 "nbformat": 4,
 "nbformat_minor": 5
}
