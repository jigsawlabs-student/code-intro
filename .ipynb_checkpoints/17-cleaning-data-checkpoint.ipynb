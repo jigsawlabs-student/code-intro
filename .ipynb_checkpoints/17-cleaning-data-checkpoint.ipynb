{
 "cells": [
  {
   "cell_type": "code",
   "execution_count": null,
   "id": "c051408f-71a2-4df0-89a2-eb02b34f05b3",
   "metadata": {},
   "outputs": [],
   "source": []
  },
  {
   "cell_type": "markdown",
   "id": "d1b0b2d5-a289-417b-9d6e-8388d7cabfbb",
   "metadata": {},
   "source": [
    "### Cleaning our Data"
   ]
  },
  {
   "cell_type": "markdown",
   "id": "8382fee1-3d8a-49ed-8fe2-61f87f7e6d9c",
   "metadata": {},
   "source": [
    "So above we learned about `and` and `or` statements.  And we saw that one way to work with our messy data is to account for it with our `or` statements."
   ]
  },
  {
   "cell_type": "code",
   "execution_count": null,
   "id": "8ca6607e-1630-4b40-8866-ce71c1cbf513",
   "metadata": {},
   "outputs": [],
   "source": [
    "musical_usernames = []\n",
    "\n",
    "for user in users:\n",
    "    if user['Industry'] == 'Music' or user['Industry'] == 'music':\n",
    "        musical_usernames.append(user['Name'])"
   ]
  },
  {
   "cell_type": "markdown",
   "id": "bb54045f-7c71-41de-8d44-95c71990a3db",
   "metadata": {},
   "source": [
    "But an even better way to work with messy data is to clean it up.  This way, we don't have to remember that industries like music are sometimes upper case and sometimes lower case.\n",
    "\n",
    "So how do we clean our data?  Well it depends on the exact problem we are dealing with.  Here, our problem is that sometimes our industry is capitalized and sometimes it is not.  \n",
    "\n",
    "So let's ask Google how to capitalize a string -- the programmers word for text."
   ]
  },
  {
   "cell_type": "markdown",
   "id": "a6af05b1-6d48-4939-bd35-c1ec67507eaf",
   "metadata": {},
   "source": [
    "<img src=\"./cap-string.png\" width=\"70%\">"
   ]
  },
  {
   "cell_type": "markdown",
   "id": "92040870-52b7-4bbf-accf-9a214a973f5f",
   "metadata": {},
   "source": [
    "And we can test it out for ourselves."
   ]
  },
  {
   "cell_type": "code",
   "execution_count": null,
   "id": "50c686c5-3635-4d87-b1d2-c8299acac434",
   "metadata": {},
   "outputs": [
    {
     "data": {
      "text/plain": [
       "'Music'"
      ]
     },
     "execution_count": 9,
     "metadata": {},
     "output_type": "execute_result"
    }
   ],
   "source": [
    "'music'.capitalize()"
   ]
  },
  {
   "cell_type": "markdown",
   "id": "95de6afb-12c2-4cb1-bb34-92c2dfb61cdd",
   "metadata": {},
   "source": [
    "And when our text is already capitalized, we just get back an identical string."
   ]
  },
  {
   "cell_type": "code",
   "execution_count": null,
   "id": "99a12a2d-3401-4e6d-ada1-76a912d2bfa9",
   "metadata": {},
   "outputs": [
    {
     "data": {
      "text/plain": [
       "'Music'"
      ]
     },
     "execution_count": 15,
     "metadata": {},
     "output_type": "execute_result"
    }
   ],
   "source": [
    "'Music'.capitalize()"
   ]
  },
  {
   "cell_type": "markdown",
   "id": "1f685e8e-f09c-42c9-9aca-28abc2f61ba8",
   "metadata": {},
   "source": [
    "So now if we have adele, and we need to change her industry -- how do we replace the industry with the capitalized version?"
   ]
  },
  {
   "cell_type": "code",
   "execution_count": null,
   "id": "7444153a-441d-4e9f-8412-a300de458895",
   "metadata": {},
   "outputs": [],
   "source": [
    "adele = {'Name': 'Adele',\n",
    "  'Followers': 27488867,\n",
    "  'Following': 0,\n",
    "  'Tweets': 310,\n",
    "  'Nationality/headquarters': 'U.K',\n",
    "  'Industry': 'music'}"
   ]
  },
  {
   "cell_type": "markdown",
   "id": "c00a8de0-9333-47d6-8735-d7aef5024a34",
   "metadata": {},
   "source": [
    "Well remember that we select the industry with the bracket accessor. "
   ]
  },
  {
   "cell_type": "code",
   "execution_count": null,
   "id": "459d5701-248d-4ceb-a3bb-9ae4ed2196fb",
   "metadata": {},
   "outputs": [
    {
     "data": {
      "text/plain": [
       "'music'"
      ]
     },
     "execution_count": 16,
     "metadata": {},
     "output_type": "execute_result"
    }
   ],
   "source": [
    "adele['Industry']"
   ]
  },
  {
   "cell_type": "markdown",
   "id": "f832042d-3c12-46fe-833d-394107047d5c",
   "metadata": {},
   "source": [
    "And we can update the industry like so."
   ]
  },
  {
   "cell_type": "code",
   "execution_count": null,
   "id": "f9ca89d2-39ef-47c1-bc86-b53d3b3e696e",
   "metadata": {},
   "outputs": [],
   "source": [
    "adele['Industry'] = 'something else'"
   ]
  },
  {
   "cell_type": "code",
   "execution_count": null,
   "id": "4bbc5341-2312-4b7d-91d5-85564ebecb98",
   "metadata": {},
   "outputs": [
    {
     "data": {
      "text/plain": [
       "'something else'"
      ]
     },
     "execution_count": 26,
     "metadata": {},
     "output_type": "execute_result"
    }
   ],
   "source": [
    "adele['Industry']"
   ]
  },
  {
   "cell_type": "markdown",
   "id": "d2628e86-b950-4ba4-8476-50096c423c23",
   "metadata": {},
   "source": [
    "So to update an industry to the capitalized version it would be the following:"
   ]
  },
  {
   "cell_type": "code",
   "execution_count": null,
   "id": "406cd793-f92e-41ec-bca7-7fd708b78ad3",
   "metadata": {},
   "outputs": [],
   "source": [
    "user = {'Name': 'Adele',\n",
    "  'Industry': 'music'}"
   ]
  },
  {
   "cell_type": "code",
   "execution_count": null,
   "id": "7572df5a-8da5-4435-9ddf-889bdd39af21",
   "metadata": {},
   "outputs": [
    {
     "data": {
      "text/plain": [
       "'Music'"
      ]
     },
     "execution_count": 27,
     "metadata": {},
     "output_type": "execute_result"
    }
   ],
   "source": [
    "                   \n",
    "user['Industry'] = user['Industry'].capitalize()\n",
    "                    # 'music'.capitalize()\n",
    "user['Industry']"
   ]
  },
  {
   "cell_type": "markdown",
   "id": "bb57cb41-493d-420f-b351-47c7430d9397",
   "metadata": {},
   "source": [
    "And if we want to capitalize all of our industry data we can do so with the following:"
   ]
  },
  {
   "cell_type": "code",
   "execution_count": null,
   "id": "831a8352-6453-4e87-b91a-98ea68497a44",
   "metadata": {},
   "outputs": [],
   "source": [
    "for user in users:\n",
    "    # set the user's industry to equal the user's industry, capitalized\n",
    "    user['Industry'] = user['Industry'].capitalize()"
   ]
  },
  {
   "cell_type": "markdown",
   "id": "d9faca3b-b61f-490f-93a6-882e59c74c4e",
   "metadata": {},
   "source": [
    "The above will go through each dictionary and update the industry to be the capitalized version.  What if that industry is already capitalized, then still assigns the value to be that capitalized version."
   ]
  },
  {
   "cell_type": "code",
   "execution_count": null,
   "id": "a9eb7133-a784-420e-b92f-811ec7f14876",
   "metadata": {},
   "outputs": [
    {
     "data": {
      "text/plain": [
       "'Music'"
      ]
     },
     "execution_count": 30,
     "metadata": {},
     "output_type": "execute_result"
    }
   ],
   "source": [
    "'Music'.capitalize()"
   ]
  },
  {
   "cell_type": "markdown",
   "id": "14f482ee-686a-4f87-9f20-36aa8dd0e026",
   "metadata": {},
   "source": [
    "So once we capitalize everything, we can see that now our data is consistent."
   ]
  },
  {
   "cell_type": "code",
   "execution_count": null,
   "id": "03b08e7a-99b3-4a38-bf02-0db40d116b96",
   "metadata": {},
   "outputs": [
    {
     "data": {
      "text/plain": [
       "['Politics', 'Music', 'Music', 'Music', 'Music']"
      ]
     },
     "execution_count": 31,
     "metadata": {},
     "output_type": "execute_result"
    }
   ],
   "source": [
    "industries = []\n",
    "for user in users:\n",
    "    industries.append(user['Industry'])\n",
    "    \n",
    "industries[:5]"
   ]
  },
  {
   "cell_type": "code",
   "execution_count": null,
   "id": "71f53acb-4eee-41b4-a179-d967ff033861",
   "metadata": {},
   "outputs": [
    {
     "name": "stdout",
     "output_type": "stream",
     "text": [
      "{'Politics', 'Television', 'News', 'Sports', 'Publishing industry', 'Space agency', 'Business', 'Technology ', 'Music', 'Films/entertainment'}\n"
     ]
    }
   ],
   "source": [
    "print(set(industries))"
   ]
  },
  {
   "cell_type": "markdown",
   "id": "02cd1aa9-9d08-41fc-957d-300efd2ba930",
   "metadata": {},
   "source": [
    "And because we cleaned our data, we can look for musicians, while being confident that music will always be capitalized."
   ]
  },
  {
   "cell_type": "code",
   "execution_count": null,
   "id": "90013557-bdb0-447c-aed4-262f46b0b4a2",
   "metadata": {},
   "outputs": [],
   "source": [
    "musical_usernames = []\n",
    "\n",
    "for user in users:\n",
    "    if user['Industry'] == 'Music':\n",
    "        musical_usernames.append(user['Name'])"
   ]
  },
  {
   "cell_type": "code",
   "execution_count": null,
   "id": "38ed06a2-6aa7-4836-971e-3e1336b3735f",
   "metadata": {},
   "outputs": [
    {
     "data": {
      "text/plain": [
       "['KATY PERRY', 'Justin Bieber', 'Rihanna', 'Taylor Swift', 'Lady Gaga']"
      ]
     },
     "execution_count": 36,
     "metadata": {},
     "output_type": "execute_result"
    }
   ],
   "source": [
    "musical_usernames[:5]"
   ]
  },
  {
   "cell_type": "markdown",
   "id": "4817acaf-d39d-439a-a811-f824f1e81db2",
   "metadata": {},
   "source": [
    "So as you can see, making our data consistent initially can make simplify our queries later on."
   ]
  }
 ],
 "metadata": {
  "kernelspec": {
   "display_name": "Python 3 (ipykernel)",
   "language": "python",
   "name": "python3"
  },
  "language_info": {
   "codemirror_mode": {
    "name": "ipython",
    "version": 3
   },
   "file_extension": ".py",
   "mimetype": "text/x-python",
   "name": "python",
   "nbconvert_exporter": "python",
   "pygments_lexer": "ipython3",
   "version": "3.10.6"
  }
 },
 "nbformat": 4,
 "nbformat_minor": 5
}
