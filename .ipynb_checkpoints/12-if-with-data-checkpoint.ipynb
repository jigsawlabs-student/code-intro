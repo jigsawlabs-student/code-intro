{
 "cells": [
  {
   "cell_type": "markdown",
   "id": "c7c795fe-a699-447c-90b0-baa15e365a90",
   "metadata": {},
   "source": [
    "# Back to Live data"
   ]
  },
  {
   "cell_type": "markdown",
   "id": "a44e576a-6ccd-427b-bf6d-134027062911",
   "metadata": {},
   "source": [
    "### Introduction"
   ]
  },
  {
   "cell_type": "markdown",
   "id": "9159471a-2e0a-4ce7-b150-30a727c4c6c1",
   "metadata": {},
   "source": [
    "In the last lesson, we learned about how to use boolean expressions to ask questions of our data."
   ]
  },
  {
   "cell_type": "code",
   "execution_count": 2,
   "id": "c71051da-0e8c-48c6-94f1-7dfaf4506d04",
   "metadata": {},
   "outputs": [
    {
     "data": {
      "text/plain": [
       "True"
      ]
     },
     "execution_count": 2,
     "metadata": {},
     "output_type": "execute_result"
    }
   ],
   "source": [
    "population = 200_000\n",
    "\n",
    "population > 100_000"
   ]
  },
  {
   "cell_type": "markdown",
   "id": "43d9824a-f3ce-4f2b-853d-b0a629e39ed4",
   "metadata": {},
   "source": [
    "And then how our if else statement would perform different operations based on what our boolean expression returned."
   ]
  },
  {
   "cell_type": "code",
   "execution_count": 3,
   "id": "5de5be4a-2994-4551-9380-7eead2b1cbc2",
   "metadata": {},
   "outputs": [
    {
     "name": "stdout",
     "output_type": "stream",
     "text": [
      "too large\n"
     ]
    }
   ],
   "source": [
    "if population > 100_000:\n",
    "    print('too large')\n",
    "else:\n",
    "    print('too small')"
   ]
  },
  {
   "cell_type": "markdown",
   "id": "8173c55b-9d17-4c6f-bd9e-7181415825fc",
   "metadata": {},
   "source": [
    "In this lesson, we'll go back to working with our live data -- beginning with a single dictionary, and then a list of dictionaries.  "
   ]
  },
  {
   "cell_type": "markdown",
   "id": "ebc50f76-4350-46c9-bea0-a10f889945cf",
   "metadata": {},
   "source": [
    "## But first, a challenge"
   ]
  },
  {
   "cell_type": "markdown",
   "id": "a238f656-730c-4167-8513-f2b0485fe06f",
   "metadata": {},
   "source": [
    "Ok, so now we'll give code so that you can assign the `city` variable to three different cities, beginning with New York."
   ]
  },
  {
   "cell_type": "code",
   "execution_count": 38,
   "id": "bad45fc3-5952-45bf-bc1c-26d95fd4a100",
   "metadata": {},
   "outputs": [],
   "source": [
    "city = {'City': 'New York[d]',\n",
    "  'State': 'New York',\n",
    "  '2020census': 8_804_190}"
   ]
  },
  {
   "cell_type": "code",
   "execution_count": 4,
   "id": "48c45023-96b3-42ba-bf75-42ce42c321e4",
   "metadata": {},
   "outputs": [],
   "source": [
    "# city = {'City': 'Los Angeles',\n",
    "#   'State': 'California',\n",
    "#   '2020census': 3_898_747}\n",
    "\n",
    "# city = {'City': 'Chicago',\n",
    "#   'State': 'Illinois',\n",
    "#   '2020census': 2746388}"
   ]
  },
  {
   "cell_type": "markdown",
   "id": "d8935830-6ed4-4cf9-9b47-08086f2590b1",
   "metadata": {},
   "source": [
    "Write code below that will only print the City if the population is over `3_000_000`, otherwise it will print `too small`.\n",
    "\n",
    "> First try the code with the first city New York, which should be printed.  And then try it again with Los Angeles, which should also be printed.  And finally with Chicago, which should not be printed."
   ]
  },
  {
   "cell_type": "code",
   "execution_count": 40,
   "id": "280f063a-4fe3-40c0-8a20-a8c319261c19",
   "metadata": {},
   "outputs": [
    {
     "name": "stdout",
     "output_type": "stream",
     "text": [
      "too small\n"
     ]
    }
   ],
   "source": [
    "# Write code here\n",
    "\n"
   ]
  },
  {
   "cell_type": "markdown",
   "id": "a83c550c-d148-42e3-af1d-71f9b2ebbc9e",
   "metadata": {},
   "source": [
    "## The answer, and moving on"
   ]
  },
  {
   "cell_type": "markdown",
   "id": "0359061f-5252-4300-81b3-d5434c0703a4",
   "metadata": {},
   "source": [
    "Ok, so we can solving the above by repeatedly answering questions of our data.  For example, let's set our city to New York."
   ]
  },
  {
   "cell_type": "code",
   "execution_count": 2,
   "id": "fb39e5b0-b90d-4270-8e88-3f201189a0d2",
   "metadata": {},
   "outputs": [],
   "source": [
    "city = {'City': 'New York[d]',\n",
    "  'State': 'New York',\n",
    "  '2020census': 8_804_190}"
   ]
  },
  {
   "cell_type": "markdown",
   "id": "11d24300-dd6c-4908-8f86-fca65bf33da1",
   "metadata": {},
   "source": [
    "Then, us determining if the city's population is over `3_000_000` just involves asking a series of questions."
   ]
  },
  {
   "cell_type": "code",
   "execution_count": 3,
   "id": "21e7b7d7-cdfd-48b6-a094-ad17191775da",
   "metadata": {},
   "outputs": [
    {
     "data": {
      "text/plain": [
       "True"
      ]
     },
     "execution_count": 3,
     "metadata": {},
     "output_type": "execute_result"
    }
   ],
   "source": [
    "# first find the population\n",
    "city['2020census'] \n",
    "# 8804190\n",
    "\n",
    "# then see if the population is over 3_000_000\n",
    "city['2020census'] > 3_000_000"
   ]
  },
  {
   "cell_type": "markdown",
   "id": "0d0af626-a072-4775-aba0-8f75eaf3c57a",
   "metadata": {},
   "source": [
    "After answering those questions, we can fill in the if else statement."
   ]
  },
  {
   "cell_type": "code",
   "execution_count": 9,
   "id": "43ca0555-82d9-4c68-aac1-5efb1482df6e",
   "metadata": {},
   "outputs": [
    {
     "name": "stdout",
     "output_type": "stream",
     "text": [
      "New York[d]\n"
     ]
    }
   ],
   "source": [
    "if city['2020census'] > 3_000_000:\n",
    "    print(city['City'])\n",
    "else:\n",
    "    print('too small')"
   ]
  },
  {
   "cell_type": "markdown",
   "id": "2c12a526-0559-4b63-bfdc-e2f2d3e1b29a",
   "metadata": {},
   "source": [
    "## Removing the else"
   ]
  },
  {
   "cell_type": "markdown",
   "id": "78dc296f-462b-424d-8ddd-e8039287c743",
   "metadata": {},
   "source": [
    "In our problem above, it is pretty silly to `print('too small')` when we hit our `else` statement.  Instead, we would just prefer to do nothing. \n",
    "\n",
    "> Unfortunately, if we have an `else` statement with nothing below, Python will complain."
   ]
  },
  {
   "cell_type": "code",
   "execution_count": 11,
   "id": "6f0de1af-0063-421a-818c-b88c105db4e3",
   "metadata": {},
   "outputs": [
    {
     "ename": "SyntaxError",
     "evalue": "incomplete input (1657403283.py, line 4)",
     "output_type": "error",
     "traceback": [
      "\u001b[0;36m  Input \u001b[0;32mIn [11]\u001b[0;36m\u001b[0m\n\u001b[0;31m    \u001b[0m\n\u001b[0m    ^\u001b[0m\n\u001b[0;31mSyntaxError\u001b[0m\u001b[0;31m:\u001b[0m incomplete input\n"
     ]
    }
   ],
   "source": [
    "if city['2020census'] > 3_000_000:\n",
    "    print(city['City'])\n",
    "else:\n",
    "    "
   ]
  },
  {
   "cell_type": "markdown",
   "id": "e4611192-8c64-4384-87d7-53215c0445a7",
   "metadata": {},
   "source": [
    "But it turns out, we are ok if we remove the else statement all together."
   ]
  },
  {
   "cell_type": "code",
   "execution_count": 14,
   "id": "abfa15d9-df8f-40d6-b0bb-1419dfe1c05a",
   "metadata": {},
   "outputs": [
    {
     "name": "stdout",
     "output_type": "stream",
     "text": [
      "New York[d]\n"
     ]
    }
   ],
   "source": [
    "city = {'City': 'New York[d]',\n",
    "  'State': 'New York',\n",
    "  '2020census': 8_804_190}\n",
    "\n",
    "# city = {'City': 'Chicago',\n",
    "#   'State': 'Illinois',\n",
    "#   '2020census': 2746388}\n",
    "\n",
    "if city['2020census'] > 3_000_000:\n",
    "    print(city['City'])"
   ]
  },
  {
   "cell_type": "markdown",
   "id": "b1ebc771-29cc-43a3-874a-02a8f062c57c",
   "metadata": {},
   "source": [
    "So above we are saying if the population is over 3 million, print the city name, and otherwise do nothing.  And we accomplish this \"doing of nothing\", by removing the else clause all together."
   ]
  },
  {
   "cell_type": "markdown",
   "id": "ae32da9a-b1dd-4735-a189-328d567aff89",
   "metadata": {},
   "source": [
    "## Working with a list of dictionaries"
   ]
  },
  {
   "cell_type": "markdown",
   "id": "fc173bde-eadd-4d47-8f95-cc5d04675757",
   "metadata": {},
   "source": [
    "So now that we have used an if else statement with a dictionary.  Let's try another task.  Let's start with our list of cities, and then only add the names of the cities that have a population over 1 million. "
   ]
  },
  {
   "cell_type": "markdown",
   "id": "1feb8537-651e-47c7-970f-bf4d9dd27ee3",
   "metadata": {},
   "source": [
    "> First we get our list of cities."
   ]
  },
  {
   "cell_type": "code",
   "execution_count": 4,
   "id": "d304bf63-ee25-4ed8-9439-3a9930d2995e",
   "metadata": {},
   "outputs": [],
   "source": [
    "import pandas as pd\n",
    "\n",
    "url = 'https://en.wikipedia.org/wiki/List_of_United_States_cities_by_population'\n",
    "tables = pd.read_html(url)\n",
    "cities_table = tables[4]\n",
    "cities = cities_table.to_dict('records')"
   ]
  },
  {
   "cell_type": "markdown",
   "id": "ada6807b-118e-4b26-b180-efcf9a96da62",
   "metadata": {},
   "source": [
    "Remember, that each city is a dictionary."
   ]
  },
  {
   "cell_type": "code",
   "execution_count": 8,
   "id": "ef1abd55-f8b0-4413-95d8-7ea9d721c824",
   "metadata": {},
   "outputs": [
    {
     "data": {
      "text/plain": [
       "[{'2021rank': 1,\n",
       "  'City': 'New York[d]',\n",
       "  'State[c]': 'New York',\n",
       "  '2021estimate': 8467513,\n",
       "  '2020census': 8804190,\n",
       "  'Change': '−3.82%',\n",
       "  '2020 land area': '300.5\\xa0sq\\xa0mi',\n",
       "  '2020 land area.1': '778.3\\xa0km2',\n",
       "  '2020 population density': '29,298/sq\\xa0mi',\n",
       "  '2020 population density.1': '11,312/km2',\n",
       "  'Location': '.mw-parser-output .geo-default,.mw-parser-output .geo-dms,.mw-parser-output .geo-dec{display:inline}.mw-parser-output .geo-nondefault,.mw-parser-output .geo-multi-punct{display:none}.mw-parser-output .longitude,.mw-parser-output .latitude{white-space:nowrap}40°40′N 73°56′W\\ufeff / \\ufeff40.66°N 73.93°W'},\n",
       " {'2021rank': 2,\n",
       "  'City': 'Los Angeles',\n",
       "  'State[c]': 'California',\n",
       "  '2021estimate': 3849297,\n",
       "  '2020census': 3898747,\n",
       "  'Change': '−1.27%',\n",
       "  '2020 land area': '469.5\\xa0sq\\xa0mi',\n",
       "  '2020 land area.1': '1,216.0\\xa0km2',\n",
       "  '2020 population density': '8,304/sq\\xa0mi',\n",
       "  '2020 population density.1': '3,206/km2',\n",
       "  'Location': '34°01′N 118°25′W\\ufeff / \\ufeff34.01°N 118.41°W'}]"
      ]
     },
     "execution_count": 8,
     "metadata": {},
     "output_type": "execute_result"
    }
   ],
   "source": [
    "cities[:2]"
   ]
  },
  {
   "cell_type": "markdown",
   "id": "fc9a4d12-c5eb-4e10-a055-2081fc022fb1",
   "metadata": {},
   "source": [
    "Now let's create a list of the `city_names` whose population is over `1_000_000`.  If not over `1_000_000`, then do nothing. We'll walk through the answer below."
   ]
  },
  {
   "cell_type": "code",
   "execution_count": 15,
   "id": "6ab7aba5-b31d-47d6-b258-20a66f416025",
   "metadata": {},
   "outputs": [],
   "source": [
    "city_names = []\n",
    "for city in cities:\n",
    "    if city['2020census'] > 1_000_000:\n",
    "        city_names.append(city['City'])"
   ]
  },
  {
   "cell_type": "code",
   "execution_count": 18,
   "id": "c2faaeec-fdfd-4f5b-a754-344d32dd8f88",
   "metadata": {},
   "outputs": [
    {
     "name": "stdout",
     "output_type": "stream",
     "text": [
      "['New York[d]', 'Los Angeles', 'Chicago', 'Houston', 'Phoenix', 'Philadelphia[e]', 'San Antonio', 'San Diego', 'Dallas', 'San Jose']\n"
     ]
    }
   ],
   "source": [
    "print(city_names)\n",
    "\n",
    "# ['New York[d]', 'Los Angeles', 'Chicago', 'Houston', 'Phoenix', 'Philadelphia[e]', \n",
    "# 'San Antonio', 'San Diego', 'Dallas', 'San Jose']"
   ]
  },
  {
   "cell_type": "markdown",
   "id": "0d82c3c2-fd61-4f07-a675-fa98228126dd",
   "metadata": {},
   "source": [
    "## How we do it"
   ]
  },
  {
   "cell_type": "markdown",
   "id": "349ad2fd-19e8-4f73-b8fc-2880465a3a4a",
   "metadata": {},
   "source": [
    "Let's start with a single city.  "
   ]
  },
  {
   "cell_type": "code",
   "execution_count": 19,
   "id": "a3d67a76-4968-422c-b3ac-032afdf68a8b",
   "metadata": {},
   "outputs": [],
   "source": [
    "city = {'2021rank': 2,\n",
    "  'City': 'Los Angeles',\n",
    "  'State[c]': 'California',\n",
    "  '2021estimate': 3849297,\n",
    "  '2020census': 3898747}"
   ]
  },
  {
   "cell_type": "markdown",
   "id": "0683474c-46b2-4379-8eeb-a50fbfb454f7",
   "metadata": {},
   "source": [
    "And if we only want to add the city name of our cities that are larger than a million, we can accomplish this with the following: "
   ]
  },
  {
   "cell_type": "code",
   "execution_count": 21,
   "id": "caf45a42-8ac0-4740-b1d2-0bde4078b71c",
   "metadata": {},
   "outputs": [
    {
     "data": {
      "text/plain": [
       "['Los Angeles']"
      ]
     },
     "execution_count": 21,
     "metadata": {},
     "output_type": "execute_result"
    }
   ],
   "source": [
    "city_names = []\n",
    "\n",
    "if city['2020census'] > 1_000_000:\n",
    "    city_names.append(city['City'])\n",
    "    \n",
    "city_names"
   ]
  },
  {
   "cell_type": "markdown",
   "id": "ce9e5617-467c-4aa6-9a5d-9b3ae97b21fa",
   "metadata": {},
   "source": [
    "Really, it's the same code as in our first problem above.  The only difference is that we are adding our large city to the list, instead of printing it out.\n",
    "\n",
    "And now that we have performed our code properly for one city, we can use a loop to perform this for every city."
   ]
  },
  {
   "cell_type": "code",
   "execution_count": 23,
   "id": "4c9e6a14-a262-430e-8069-8369ccc087da",
   "metadata": {},
   "outputs": [],
   "source": [
    "city_names = []\n",
    "\n",
    "for city in cities:\n",
    "    if city['2020census'] > 1_000_000:\n",
    "        city_name = city['City']\n",
    "        city_names.append(city['City'])"
   ]
  },
  {
   "cell_type": "code",
   "execution_count": 25,
   "id": "1d2c54bb-a3ab-49e6-9ff4-438cde1b362c",
   "metadata": {},
   "outputs": [
    {
     "name": "stdout",
     "output_type": "stream",
     "text": [
      "['New York[d]', 'Los Angeles', 'Chicago', 'Houston', 'Phoenix', 'Philadelphia[e]', 'San Antonio', 'San Diego', 'Dallas', 'San Jose']\n"
     ]
    }
   ],
   "source": [
    "print(city_names)"
   ]
  },
  {
   "cell_type": "markdown",
   "id": "fd10ea9e-7e2b-41e8-888e-b6a9a2adb64f",
   "metadata": {},
   "source": [
    "And we can read the code above, like so."
   ]
  },
  {
   "cell_type": "code",
   "execution_count": 26,
   "id": "eaa2a727-5f06-45b4-b9a4-978dea82f639",
   "metadata": {},
   "outputs": [],
   "source": [
    "city_names = []\n",
    "\n",
    "# for each dictionary in our list of dictionaries\n",
    "for city in cities:\n",
    "    # select the population, and if it's over 1_000_000\n",
    "    if city['2020census'] > 1_000_000:\n",
    "        # add the city name to out list of city_names\n",
    "        city_name = city['City']\n",
    "        city_names.append(city['City'])"
   ]
  },
  {
   "cell_type": "markdown",
   "id": "413b4fc6-6084-482c-bf7a-b80db4cd5fb9",
   "metadata": {},
   "source": [
    "What we just accomplished above is called filtering.  We filtered through our list for cities that meet a population threshold.  If you think about data analytics, being able to filter our data is critically important.  For example, think about when you visit a  website like Facebook or Linkedin -- they don't show you all users but instead show you a subset of users interesting to you.  And that is likely done by looping through their data and just selecting the data that meets certain criteria."
   ]
  },
  {
   "cell_type": "markdown",
   "id": "95b66c95-f206-46bb-9e1c-e887b74d53fb",
   "metadata": {},
   "source": [
    "### Summary"
   ]
  },
  {
   "cell_type": "markdown",
   "id": "78dbbbcf-84aa-43ed-a99d-b09809278707",
   "metadata": {},
   "source": [
    "In this lesson, we saw how we can work with dictionaries and lists of dictionaries with `if` `else` statements.  First, we saw that we can eliminate the else statement altogether, if we wish to do nothing when our code does not meet a certain condition.  "
   ]
  },
  {
   "cell_type": "markdown",
   "id": "0273ae3e-d9ae-4517-a738-83dd13fb2f08",
   "metadata": {},
   "source": [
    "> So code like this..."
   ]
  },
  {
   "cell_type": "code",
   "execution_count": 27,
   "id": "90c5aacd-0c3d-475c-9dca-1d78f7a5f626",
   "metadata": {},
   "outputs": [
    {
     "name": "stdout",
     "output_type": "stream",
     "text": [
      "too small\n"
     ]
    }
   ],
   "source": [
    "if city['2020census'] > 3_000_000:\n",
    "    print(city['City'])\n",
    "else:\n",
    "    print('too small')"
   ]
  },
  {
   "cell_type": "markdown",
   "id": "04471729-634a-46cd-ba09-dfabf8527eb3",
   "metadata": {},
   "source": [
    "> Can be changed to just an `if` statement:"
   ]
  },
  {
   "cell_type": "code",
   "execution_count": 28,
   "id": "1130a55f-eb05-4434-944e-6dd7690a052b",
   "metadata": {},
   "outputs": [],
   "source": [
    "if city['2020census'] > 3_000_000:\n",
    "    print(city['City'])"
   ]
  },
  {
   "cell_type": "markdown",
   "id": "2251adde-4f6b-4093-aaeb-4d556f574c36",
   "metadata": {},
   "source": [
    "We then saw how we can only add items to a list if they meet a certain criteria.  And can simplify this problem by first trying this with a single element."
   ]
  },
  {
   "cell_type": "code",
   "execution_count": 29,
   "id": "6627be14-e625-42f8-bf47-e3de1554260b",
   "metadata": {},
   "outputs": [],
   "source": [
    "city_names = []\n",
    "\n",
    "\n",
    "if city['2020census'] > 1_000_000:\n",
    "    city_name = city['City']\n",
    "    city_names.append(city['City'])"
   ]
  },
  {
   "cell_type": "markdown",
   "id": "01f86626-f3ed-435f-b833-a1197073dc08",
   "metadata": {},
   "source": [
    "And then looping through all of the elements."
   ]
  },
  {
   "cell_type": "code",
   "execution_count": 30,
   "id": "c2a444a0-78e2-44dc-826d-5ddcc0b8657d",
   "metadata": {},
   "outputs": [],
   "source": [
    "city_names = []\n",
    "\n",
    "for city in cities:\n",
    "    if city['2020census'] > 1_000_000:\n",
    "        city_name = city['City']\n",
    "        city_names.append(city['City'])"
   ]
  }
 ],
 "metadata": {
  "kernelspec": {
   "display_name": "Python 3 (ipykernel)",
   "language": "python",
   "name": "python3"
  },
  "language_info": {
   "codemirror_mode": {
    "name": "ipython",
    "version": 3
   },
   "file_extension": ".py",
   "mimetype": "text/x-python",
   "name": "python",
   "nbconvert_exporter": "python",
   "pygments_lexer": "ipython3",
   "version": "3.10.6"
  }
 },
 "nbformat": 4,
 "nbformat_minor": 5
}
