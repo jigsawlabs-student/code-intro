{
 "cells": [
  {
   "cell_type": "markdown",
   "metadata": {},
   "source": [
    "# Make it easy"
   ]
  },
  {
   "cell_type": "markdown",
   "metadata": {},
   "source": [
    "### Introduction"
   ]
  },
  {
   "cell_type": "markdown",
   "metadata": {},
   "source": [
    "We just moved through two tricky topics: loops and nested data structures.  Now believe it or not, loops and nested data structures challenge experienced developers as well as those just starting out.  The difference is that more experienced developers are armed with techniques for making these problems easier.  \n",
    "\n",
    "I promise you that experienced programmers use these techniques all of the time.\n",
    "\n",
    "Even if you can solve the problems in these next lessons without these tips, practice them now so that you can lean on them when problems become more difficult.  Trust me."
   ]
  },
  {
   "cell_type": "markdown",
   "metadata": {},
   "source": [
    "### Working with Nested Data"
   ]
  },
  {
   "cell_type": "markdown",
   "metadata": {},
   "source": [
    "In the last lesson, we saw that our data often comes in the form a nested dictionary."
   ]
  },
  {
   "cell_type": "code",
   "execution_count": 3,
   "metadata": {},
   "outputs": [],
   "source": [
    "jobs = [\n",
    "    {'title': 'Senior Developer', 'company': 'Postmates'},\n",
    "    {'title': 'Junior Developer', 'company': 'Bento Box'}\n",
    "]"
   ]
  },
  {
   "cell_type": "markdown",
   "metadata": {},
   "source": [
    "In the future, we may encounter data that is nested even further."
   ]
  },
  {
   "cell_type": "code",
   "execution_count": 4,
   "metadata": {},
   "outputs": [],
   "source": [
    "jobs = [\n",
    "    {'title': 'Senior Developer', 'company': 'Postmates', 'skills_required': ['loops', 'strings', 'lists']},\n",
    "    {'title': 'Junior Developer', 'company': 'Bento Box', 'skills_required': ['numbers', 'dictionaries']}\n",
    "]"
   ]
  },
  {
   "cell_type": "markdown",
   "metadata": {},
   "source": [
    "In coding, when problems get harder, the initial instinct is to move faster.  Hard problems can make us nervous, and we want to find out as fast as possible whether or not we can solve them.\n",
    "\n",
    "Experienced programmers do the opposite.  When problems become harder they slow down and find ways to make the problem easier."
   ]
  },
  {
   "cell_type": "markdown",
   "metadata": {},
   "source": [
    "1. Break it into steps"
   ]
  },
  {
   "cell_type": "markdown",
   "metadata": {},
   "source": [
    "Let's say we want to select the first skill required in the first job.  We can solve this problem by breaking it into three problems."
   ]
  },
  {
   "cell_type": "markdown",
   "metadata": {},
   "source": [
    "* Select the first job."
   ]
  },
  {
   "cell_type": "code",
   "execution_count": 5,
   "metadata": {},
   "outputs": [
    {
     "data": {
      "text/plain": [
       "{'title': 'Senior Developer',\n",
       " 'company': 'Postmates',\n",
       " 'skills_required': ['loops', 'strings', 'lists']}"
      ]
     },
     "execution_count": 5,
     "metadata": {},
     "output_type": "execute_result"
    }
   ],
   "source": [
    "jobs[0]"
   ]
  },
  {
   "cell_type": "markdown",
   "metadata": {},
   "source": [
    "* Select the skills required from the dictionary"
   ]
  },
  {
   "cell_type": "code",
   "execution_count": 6,
   "metadata": {},
   "outputs": [
    {
     "data": {
      "text/plain": [
       "['loops', 'strings', 'lists']"
      ]
     },
     "execution_count": 6,
     "metadata": {},
     "output_type": "execute_result"
    }
   ],
   "source": [
    "jobs[0]['skills_required']"
   ]
  },
  {
   "cell_type": "markdown",
   "metadata": {},
   "source": [
    "* Select the first element from the list."
   ]
  },
  {
   "cell_type": "code",
   "execution_count": 7,
   "metadata": {},
   "outputs": [
    {
     "data": {
      "text/plain": [
       "'loops'"
      ]
     },
     "execution_count": 7,
     "metadata": {},
     "output_type": "execute_result"
    }
   ],
   "source": [
    "jobs[0]['skills_required'][0]"
   ]
  },
  {
   "cell_type": "markdown",
   "metadata": {},
   "source": [
    "Practice with breaking down problems into steps is what coding is all about.  Experienced programmers don't solve hard problems by becoming smarter.  They solve hard problems by making the problem easier."
   ]
  },
  {
   "cell_type": "markdown",
   "metadata": {},
   "source": [
    "Use this technique to access the second skill required from the second job."
   ]
  },
  {
   "cell_type": "code",
   "execution_count": 12,
   "metadata": {},
   "outputs": [],
   "source": [
    "jobs = [\n",
    "    {'title': 'Senior Developer', 'company': 'Postmates', 'skills_required': ['loops', 'strings', 'lists']},\n",
    "    {'title': 'Junior Developer', 'company': 'Bento Box', 'skills_required': ['numbers', 'dictionaries']}\n",
    "]"
   ]
  },
  {
   "cell_type": "code",
   "execution_count": 1,
   "metadata": {},
   "outputs": [],
   "source": [
    "\n",
    "# 'strings'"
   ]
  },
  {
   "cell_type": "markdown",
   "metadata": {},
   "source": [
    "2. Get feedback"
   ]
  },
  {
   "cell_type": "markdown",
   "metadata": {},
   "source": [
    "Once you break something into steps, get feedback from the computer every step of the way.  So when you select that first element from the list, press `shift + return` to make sure you did it correctly.  Doing so not only confirms you did it correctly, but it shows you the next component you are working with, a dictionary.  Getting this feedback loop from the computer helps us become unstuck.  You don't need to create a new cell to press shift + return.  Just press `shift + return` between updating the code in your cell."
   ]
  },
  {
   "cell_type": "code",
   "execution_count": 8,
   "metadata": {},
   "outputs": [
    {
     "data": {
      "text/plain": [
       "'loops'"
      ]
     },
     "execution_count": 8,
     "metadata": {},
     "output_type": "execute_result"
    }
   ],
   "source": [
    "jobs[0]['skills_required'][0]"
   ]
  },
  {
   "cell_type": "markdown",
   "metadata": {},
   "source": [
    "So the above line should have involved three `shift + returns`."
   ]
  },
  {
   "cell_type": "markdown",
   "metadata": {},
   "source": [
    "### Breaking down Loops"
   ]
  },
  {
   "cell_type": "markdown",
   "metadata": {},
   "source": [
    "It may not be totally obvious how to break down problems with loops into steps.  After all we can't just write the top line of a loop, and then press `shift + return`.  Python will break."
   ]
  },
  {
   "cell_type": "code",
   "execution_count": 11,
   "metadata": {},
   "outputs": [
    {
     "ename": "SyntaxError",
     "evalue": "unexpected EOF while parsing (<ipython-input-11-06ee34a57517>, line 2)",
     "output_type": "error",
     "traceback": [
      "\u001b[0;36m  File \u001b[0;32m\"<ipython-input-11-06ee34a57517>\"\u001b[0;36m, line \u001b[0;32m2\u001b[0m\n\u001b[0;31m    for cupcake in cupcakes:\u001b[0m\n\u001b[0m                            ^\u001b[0m\n\u001b[0;31mSyntaxError\u001b[0m\u001b[0;31m:\u001b[0m unexpected EOF while parsing\n"
     ]
    }
   ],
   "source": [
    "cupcakes = ['vanilla', 'chocolate', 'strawberry']\n",
    "for cupcake in cupcakes:"
   ]
  },
  {
   "cell_type": "markdown",
   "metadata": {},
   "source": [
    "But writing the first line and then writing the second line isn't really what makes loops hard anyway.  What makes loops tricky is trying to work with an entire collection at once.  So here's how we make this simple.  "
   ]
  },
  {
   "cell_type": "markdown",
   "metadata": {},
   "source": [
    "1. First, solve the problem with just one element"
   ]
  },
  {
   "cell_type": "markdown",
   "metadata": {},
   "source": [
    "So if you're asked to loop through the entire list of cupcakes printing the `'try the'` followed by the cupcake, first solve the problem on just one element.  Then solve it with *every* element.  Let's walk you through this."
   ]
  },
  {
   "cell_type": "code",
   "execution_count": 13,
   "metadata": {},
   "outputs": [],
   "source": [
    "cupcakes = ['vanilla', 'chocolate', 'strawberry']"
   ]
  },
  {
   "cell_type": "code",
   "execution_count": 15,
   "metadata": {},
   "outputs": [
    {
     "data": {
      "text/plain": [
       "'vanilla'"
      ]
     },
     "execution_count": 15,
     "metadata": {},
     "output_type": "execute_result"
    }
   ],
   "source": [
    "first_cupcake = cupcakes[0]\n",
    "first_cupcake"
   ]
  },
  {
   "cell_type": "code",
   "execution_count": 17,
   "metadata": {},
   "outputs": [
    {
     "name": "stdout",
     "output_type": "stream",
     "text": [
      "try the vanilla\n"
     ]
    }
   ],
   "source": [
    "print('try the ' + first_cupcake)"
   ]
  },
  {
   "cell_type": "markdown",
   "metadata": {},
   "source": [
    "Now that it's solved with one element, let's just copy and paste our working line of code and make it the second line of our `for loop`. "
   ]
  },
  {
   "cell_type": "code",
   "execution_count": 18,
   "metadata": {},
   "outputs": [
    {
     "name": "stdout",
     "output_type": "stream",
     "text": [
      "try the vanilla\n",
      "try the vanilla\n",
      "try the vanilla\n"
     ]
    }
   ],
   "source": [
    "for cupcake in cupcakes:\n",
    "    print('try the ' + first_cupcake)"
   ]
  },
  {
   "cell_type": "markdown",
   "metadata": {},
   "source": [
    "Uh oh, we need to change variable in the second line to `cupcake`, our block variable."
   ]
  },
  {
   "cell_type": "code",
   "execution_count": 19,
   "metadata": {},
   "outputs": [
    {
     "name": "stdout",
     "output_type": "stream",
     "text": [
      "try the vanilla\n",
      "try the chocolate\n",
      "try the strawberry\n"
     ]
    }
   ],
   "source": [
    "for cupcake in cupcakes:\n",
    "    print('try the ' + cupcake)"
   ]
  },
  {
   "cell_type": "markdown",
   "metadata": {},
   "source": [
    "Below, we solved capitalizing our statement from earlier.  Wrap it in a `for loop` and change the variable from `first_cupcake` to do this for every element. "
   ]
  },
  {
   "cell_type": "markdown",
   "metadata": {},
   "source": [
    "> Press shift + return below."
   ]
  },
  {
   "cell_type": "code",
   "execution_count": null,
   "metadata": {},
   "outputs": [],
   "source": [
    "cupcakes = ['vanilla', 'chocolate', 'strawberry']"
   ]
  },
  {
   "cell_type": "code",
   "execution_count": 3,
   "metadata": {},
   "outputs": [
    {
     "ename": "NameError",
     "evalue": "name 'first_cupcake' is not defined",
     "output_type": "error",
     "traceback": [
      "\u001b[0;31m---------------------------------------------------------------------------\u001b[0m",
      "\u001b[0;31mNameError\u001b[0m                                 Traceback (most recent call last)",
      "\u001b[0;32m<ipython-input-3-81b62a15a788>\u001b[0m in \u001b[0;36m<module>\u001b[0;34m\u001b[0m\n\u001b[0;32m----> 1\u001b[0;31m \u001b[0mprint\u001b[0m\u001b[0;34m(\u001b[0m\u001b[0;34m'Try The '\u001b[0m \u001b[0;34m+\u001b[0m \u001b[0mfirst_cupcake\u001b[0m\u001b[0;34m.\u001b[0m\u001b[0mcapitalize\u001b[0m\u001b[0;34m(\u001b[0m\u001b[0;34m)\u001b[0m\u001b[0;34m)\u001b[0m\u001b[0;34m\u001b[0m\u001b[0;34m\u001b[0m\u001b[0m\n\u001b[0m",
      "\u001b[0;31mNameError\u001b[0m: name 'first_cupcake' is not defined"
     ]
    }
   ],
   "source": [
    "print('Try The ' + first_cupcake.capitalize())"
   ]
  },
  {
   "cell_type": "markdown",
   "metadata": {},
   "source": [
    "2. Seeing is believing"
   ]
  },
  {
   "cell_type": "markdown",
   "metadata": {},
   "source": [
    "In the next lesson, we'll break down looping through a list of dictionaries.  One thing that makes looping through dictionaries tricky is that it can be difficult to keep track of what each element is."
   ]
  },
  {
   "cell_type": "code",
   "execution_count": 23,
   "metadata": {},
   "outputs": [],
   "source": [
    "jobs = [\n",
    "    {'title': 'Senior Developer', 'company': 'Postmates', 'skills_required': ['loops', 'strings', 'lists']},\n",
    "    {'title': 'Junior Developer', 'company': 'Bento Box', 'skills_required': ['numbers', 'dictionaries']}\n",
    "]"
   ]
  },
  {
   "cell_type": "markdown",
   "metadata": {},
   "source": [
    "A good way to solve this is to have a print statement help us out."
   ]
  },
  {
   "cell_type": "code",
   "execution_count": 24,
   "metadata": {},
   "outputs": [
    {
     "name": "stdout",
     "output_type": "stream",
     "text": [
      "{'title': 'Senior Developer', 'company': 'Postmates', 'skills_required': ['loops', 'strings', 'lists']}\n",
      "{'title': 'Junior Developer', 'company': 'Bento Box', 'skills_required': ['numbers', 'dictionaries']}\n"
     ]
    }
   ],
   "source": [
    "for job in jobs:\n",
    "    print(job)"
   ]
  },
  {
   "cell_type": "markdown",
   "metadata": {},
   "source": [
    "So our `for loop` moves through each element.  And because we are printing our block variable, `job`, we know what job represents - a dictionary.  "
   ]
  },
  {
   "cell_type": "markdown",
   "metadata": {},
   "source": [
    "At this point, we can make things even more concrete by adding in a comment of what the job represents."
   ]
  },
  {
   "cell_type": "code",
   "execution_count": 25,
   "metadata": {},
   "outputs": [
    {
     "name": "stdout",
     "output_type": "stream",
     "text": [
      "{'title': 'Senior Developer', 'company': 'Postmates', 'skills_required': ['loops', 'strings', 'lists']}\n",
      "{'title': 'Junior Developer', 'company': 'Bento Box', 'skills_required': ['numbers', 'dictionaries']}\n"
     ]
    }
   ],
   "source": [
    "for job in jobs:\n",
    "    # job -> {'title': 'Senior Developer', 'company': 'Postmates', 'skills_required': ['loops', 'strings', 'lists']}\n",
    "    print(job)"
   ]
  },
  {
   "cell_type": "markdown",
   "metadata": {},
   "source": [
    "So the comment above is telling me that my block variable represents a dictionary, and I have commented out the first dictionary it represents, before moving onto the second one. "
   ]
  },
  {
   "cell_type": "markdown",
   "metadata": {},
   "source": [
    "And now because my block variable is right in front of me as a dictionary, I know how to access information from it. "
   ]
  },
  {
   "cell_type": "code",
   "execution_count": 27,
   "metadata": {},
   "outputs": [
    {
     "name": "stdout",
     "output_type": "stream",
     "text": [
      "Senior Developer\n",
      "Junior Developer\n"
     ]
    }
   ],
   "source": [
    "for job in jobs:\n",
    "    # job -> {'title': 'Senior Developer', 'company': 'Postmates', 'skills_required': ['loops', 'strings', 'lists']}\n",
    "    print(job['title'])"
   ]
  },
  {
   "cell_type": "markdown",
   "metadata": {},
   "source": [
    "But we'll work through this in the next lesson."
   ]
  },
  {
   "cell_type": "markdown",
   "metadata": {},
   "source": [
    "### Summary"
   ]
  },
  {
   "cell_type": "markdown",
   "metadata": {},
   "source": [
    "In this lesson, we reviewed nested dictionaries and loops, and learned some coding tips for making the problems in front of easier.  Oftentimes, the instinct may be to move faster through tasks we are unsure we can accomplish.  Instead, think like an experienced programmer - make the problem easier.  Here's how."
   ]
  },
  {
   "cell_type": "markdown",
   "metadata": {},
   "source": [
    "1. Break it into steps\n",
    "2. Get feedback"
   ]
  },
  {
   "cell_type": "markdown",
   "metadata": {},
   "source": [
    "> Eg. From the first job, select the first skill required."
   ]
  },
  {
   "cell_type": "code",
   "execution_count": 28,
   "metadata": {},
   "outputs": [
    {
     "data": {
      "text/plain": [
       "'loops'"
      ]
     },
     "execution_count": 28,
     "metadata": {},
     "output_type": "execute_result"
    }
   ],
   "source": [
    "jobs[0]['skills_required'][0] # at least three steps"
   ]
  },
  {
   "cell_type": "markdown",
   "metadata": {},
   "source": [
    "Here, feedback means pressing shift + enter before completing the problem, but for each of the three steps."
   ]
  },
  {
   "cell_type": "markdown",
   "metadata": {},
   "source": [
    "3. Seeing is believing"
   ]
  },
  {
   "cell_type": "markdown",
   "metadata": {},
   "source": [
    "One good thing about pressing `shift + enter` is it often shows us the output.  Remember how assigning a variable can be confusing.  That's because we can't see the result.  If you are unsure what something is look. "
   ]
  },
  {
   "cell_type": "code",
   "execution_count": 29,
   "metadata": {},
   "outputs": [
    {
     "data": {
      "text/plain": [
       "[{'title': 'Senior Developer',\n",
       "  'company': 'Postmates',\n",
       "  'skills_required': ['loops', 'strings', 'lists']},\n",
       " {'title': 'Junior Developer',\n",
       "  'company': 'Bento Box',\n",
       "  'skills_required': ['numbers', 'dictionaries']}]"
      ]
     },
     "execution_count": 29,
     "metadata": {},
     "output_type": "execute_result"
    }
   ],
   "source": [
    "jobs"
   ]
  },
  {
   "cell_type": "markdown",
   "metadata": {},
   "source": [
    "In loops, this means use a print statement."
   ]
  },
  {
   "cell_type": "code",
   "execution_count": 30,
   "metadata": {},
   "outputs": [
    {
     "name": "stdout",
     "output_type": "stream",
     "text": [
      "{'title': 'Senior Developer', 'company': 'Postmates', 'skills_required': ['loops', 'strings', 'lists']}\n",
      "{'title': 'Junior Developer', 'company': 'Bento Box', 'skills_required': ['numbers', 'dictionaries']}\n"
     ]
    }
   ],
   "source": [
    "for job in jobs:\n",
    "    print(job)"
   ]
  },
  {
   "cell_type": "markdown",
   "metadata": {},
   "source": [
    "4.Do one, then all"
   ]
  },
  {
   "cell_type": "markdown",
   "metadata": {},
   "source": [
    "Need to print out the title for every job in the loop, but find this hard?  Then forget about that for now, and just work with one element.  "
   ]
  },
  {
   "cell_type": "code",
   "execution_count": 31,
   "metadata": {},
   "outputs": [
    {
     "data": {
      "text/plain": [
       "{'title': 'Senior Developer',\n",
       " 'company': 'Postmates',\n",
       " 'skills_required': ['loops', 'strings', 'lists']}"
      ]
     },
     "execution_count": 31,
     "metadata": {},
     "output_type": "execute_result"
    }
   ],
   "source": [
    "first_job = jobs[0]\n",
    "first_job"
   ]
  },
  {
   "cell_type": "code",
   "execution_count": 34,
   "metadata": {},
   "outputs": [
    {
     "name": "stdout",
     "output_type": "stream",
     "text": [
      "Senior Developer\n"
     ]
    }
   ],
   "source": [
    "print(first_job['title'])"
   ]
  },
  {
   "cell_type": "markdown",
   "metadata": {},
   "source": [
    "Now copy and paste below and wrap it in a loop."
   ]
  },
  {
   "cell_type": "code",
   "execution_count": 35,
   "metadata": {},
   "outputs": [
    {
     "name": "stdout",
     "output_type": "stream",
     "text": [
      "Senior Developer\n",
      "Junior Developer\n"
     ]
    }
   ],
   "source": [
    "for job in jobs:\n",
    "    # change the block variable first_job -> job\n",
    "    print(job['title'])"
   ]
  },
  {
   "cell_type": "markdown",
   "metadata": {},
   "source": [
    "<right> \n",
    "<a href=\"https://colab.research.google.com/github/jigsawlabs-student/code-intro/blob/master/8-looping-through-live-data.ipynb\">\n",
    "<img src=\"https://storage.cloud.google.com/curriculum-assets/curriculum-assets.nosync/mom-files/pngfuel.com.png\" align=\"right\" style=\"padding-right: 20px\" width=\"10%\">\n",
    "    </a>\n",
    "</right>"
   ]
  },
  {
   "cell_type": "markdown",
   "metadata": {},
   "source": [
    "<center>\n",
    "<a href=\"https://www.jigsawlabs.io/free\" style=\"position: center\"><img src=\"https://storage.cloud.google.com/curriculum-assets/curriculum-assets.nosync/mom-files/jigsaw-labs.png\" width=\"15%\" style=\"text-align: center\"></a>\n",
    "</center>"
   ]
  }
 ],
 "metadata": {
  "kernelspec": {
   "display_name": "Python 3",
   "language": "python",
   "name": "python3"
  },
  "language_info": {
   "codemirror_mode": {
    "name": "ipython",
    "version": 3
   },
   "file_extension": ".py",
   "mimetype": "text/x-python",
   "name": "python",
   "nbconvert_exporter": "python",
   "pygments_lexer": "ipython3",
   "version": "3.7.4"
  }
 },
 "nbformat": 4,
 "nbformat_minor": 4
}
