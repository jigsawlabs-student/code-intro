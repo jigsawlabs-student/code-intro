{
 "cells": [
  {
   "cell_type": "markdown",
   "metadata": {},
   "source": [
    "# Welcome "
   ]
  },
  {
   "cell_type": "markdown",
   "metadata": {},
   "source": [
    "<img src=\"ralph_wave.gif\" width=\"50%\">"
   ]
  },
  {
   "cell_type": "markdown",
   "metadata": {},
   "source": [
    "> Don't see the picture above?  Click `Sign In` on the top right to sign in with Google."
   ]
  },
  {
   "cell_type": "markdown",
   "metadata": {},
   "source": [
    "## We have some questions"
   ]
  },
  {
   "cell_type": "markdown",
   "metadata": {},
   "source": [
    "Let's start with the first two questions everyone has when learning to code.\n",
    "\n",
    "**1. Can I do it?**\n",
    "\n",
    "**2. Is it even worth it?**"
   ]
  },
  {
   "cell_type": "markdown",
   "metadata": {},
   "source": [
    "### Can you do it?"
   ]
  },
  {
   "cell_type": "markdown",
   "metadata": {},
   "source": [
    "Yes.  Coding isn't so bad.  Some may even say it's fun."
   ]
  },
  {
   "cell_type": "markdown",
   "metadata": {},
   "source": [
    "See the gray cell below?  There are two ways we can execute the code.\n",
    "\n",
    "The first way is by clicking the gray `play` button that you see if you hover over the square brackets in the  leftside of the cell.\n",
    "\n",
    "This is the second.  Click inside of the gray box below.  Then hold down the `shift` key with your left hand, and `press return` with the other hand **while still holding down that shift key**."
   ]
  },
  {
   "cell_type": "markdown",
   "metadata": {},
   "source": [
    "> **Note:** You will get a **warning** from Google, the first time you execute a cell of code.  Click **Run Anyway**."
   ]
  },
  {
   "cell_type": "code",
   "execution_count": 2,
   "metadata": {},
   "outputs": [],
   "source": [
    "3 + 10"
   ]
  },
  {
   "cell_type": "markdown",
   "metadata": {},
   "source": [
    "> Click on the cell above, and then press `shift + return`."
   ]
  },
  {
   "cell_type": "markdown",
   "metadata": {},
   "source": [
    "You can also watch the video below, to see how a pro does it."
   ]
  },
  {
   "cell_type": "markdown",
   "metadata": {},
   "source": [
    "<img src=\"https://github.com/jigsawlabs/curriculum-assets/blob/master/introduction-to-apis/7-just-a-bit-of-python/jupyter-python.gif?raw=true\" width=\"40%\">"
   ]
  },
  {
   "cell_type": "markdown",
   "metadata": {},
   "source": [
    "**Ok, now let's do something a bit more interesting.**"
   ]
  },
  {
   "cell_type": "markdown",
   "metadata": {},
   "source": [
    "Let's say that we are in the music business, and we we want to see where people travel to after a music concert.  Learning this could tell us more about our audience, like where they live, or like to hang out.  We decide to look at New York City's taxi trip data, which is available <a href=\"https://data.cityofnewyork.us/resource/biws-g3hs.json?pulocationid=186\" target=\"_blank\"> here</a>, and specify taxi trips near Madison Square Garden with the [`pulocationid` (pickup location id)](https://data.cityofnewyork.us/Transportation/NYC-Taxi-Zones/d3c5-ddgc)."
   ]
  },
  {
   "cell_type": "markdown",
   "metadata": {},
   "source": [
    "But it helps to know a bit of programming to more easily explore it."
   ]
  },
  {
   "cell_type": "markdown",
   "metadata": {},
   "source": [
    "> Press `shift + return` on the cell below to collect this data."
   ]
  },
  {
   "cell_type": "code",
   "execution_count": 11,
   "metadata": {},
   "outputs": [],
   "source": [
    "import pandas as pd\n",
    "url = \"https://data.cityofnewyork.us/resource/biws-g3hs.json?pulocationid=186\"\n",
    "df = pd.read_json(url)\n",
    "df[:2]"
   ]
  },
  {
   "cell_type": "markdown",
   "metadata": {},
   "source": [
    "> We just selected two of the trips near Madison Square Garden.  \n",
    "> But we could view more trips by changing the number in `df[:2]` to something larger (and then `shift + return`) again.  "
   ]
  },
  {
   "cell_type": "markdown",
   "metadata": {},
   "source": [
    "Or let's say we to find information about Billie Eilish albums on Itunes.  For that, we can search the ITunes API for Billie Eilish albums, limiting to the first returned result.\n",
    "\n",
    "> Press `shift + return` on the cell below."
   ]
  },
  {
   "cell_type": "code",
   "execution_count": 17,
   "metadata": {},
   "outputs": [
    {
     "data": {
      "text/plain": [
       "[{'resultCount': 1,\n",
       "  'results': {'wrapperType': 'collection',\n",
       "   'collectionType': 'Album',\n",
       "   'artistId': 1065981054,\n",
       "   'collectionId': 1444871456,\n",
       "   'amgArtistId': 3177510,\n",
       "   'artistName': 'Billie Eilish',\n",
       "   'collectionName': 'Up Next Session: Billie Eilish (Live) - Single',\n",
       "   'collectionCensoredName': 'Up Next Session: Billie Eilish (Live) - Single',\n",
       "   'artistViewUrl': 'https://music.apple.com/us/artist/billie-eilish/1065981054?uo=4',\n",
       "   'collectionViewUrl': 'https://music.apple.com/us/album/up-next-session-billie-eilish-live-single/1444871456?uo=4',\n",
       "   'artworkUrl60': 'https://is3-ssl.mzstatic.com/image/thumb/Music124/v4/8d/3d/e0/8d3de0c4-478f-cc92-9819-a267bbbab38a/source/60x60bb.jpg',\n",
       "   'artworkUrl100': 'https://is3-ssl.mzstatic.com/image/thumb/Music124/v4/8d/3d/e0/8d3de0c4-478f-cc92-9819-a267bbbab38a/source/100x100bb.jpg',\n",
       "   'collectionPrice': 2.99,\n",
       "   'collectionExplicitness': 'notExplicit',\n",
       "   'trackCount': 3,\n",
       "   'copyright': '℗ 2017 Darkroom/Interscope Records',\n",
       "   'country': 'USA',\n",
       "   'currency': 'USD',\n",
       "   'releaseDate': '2017-09-20T07:00:00Z',\n",
       "   'primaryGenreName': 'Alternative'}}]"
      ]
     },
     "execution_count": 17,
     "metadata": {},
     "output_type": "execute_result"
    }
   ],
   "source": [
    "import pandas as pd\n",
    "url = \"https://itunes.apple.com/search?term=billie+eilish&entity=album&limit=1\"\n",
    "df = pd.read_json(url)\n",
    "df.to_dict('records')"
   ]
  },
  {
   "cell_type": "markdown",
   "metadata": {},
   "source": [
    "If you look our the two blocks of code above you can see that they are quite similar.  And you may even be able to get a sense of what the code is doing.  \n",
    "> But of course, we'll later walk through each line of code to really understand them.  \n",
    "\n",
    "The point is this:"
   ]
  },
  {
   "cell_type": "markdown",
   "metadata": {},
   "source": [
    "**Yes**, you can do it."
   ]
  },
  {
   "cell_type": "markdown",
   "metadata": {},
   "source": [
    "## But is coding worth it?"
   ]
  },
  {
   "cell_type": "markdown",
   "metadata": {},
   "source": [
    "Here's my story.  I started coding while working in a market research role.  One of my coworkers knew a bit of coding, and I saw that it was easier for him to both **find information**, and also to **take action** with this information.  That's what motivated me to code -- it was only afterwards that I fell in love with it. "
   ]
  },
  {
   "cell_type": "markdown",
   "metadata": {},
   "source": [
    "That is what we'll learn over these next lessons -- how coding can help us find information and take action.  But more importantly, we'll learn the coding *fundamentals* to develop our skills afterwards. "
   ]
  },
  {
   "cell_type": "markdown",
   "metadata": {},
   "source": [
    "Steve Jobs offers another reason for learning to code:"
   ]
  },
  {
   "cell_type": "markdown",
   "metadata": {},
   "source": [
    "> \"In my perspective ... science and computer science is a liberal art, it's something everyone should know how to use, at least, and harness in their life. It's not something that should be relegated to 5 percent of the population over in the corner. It's something that everybody should be exposed to and everyone should have mastery of to some extent.\"\n",
    ">\n",
    "> [Steve Jobs (Fresh Air 1996 Interview)](https://www.npr.org/2011/10/06/141115121/steve-jobs-computer-science-is-a-liberal-art)"
   ]
  },
  {
   "cell_type": "markdown",
   "metadata": {},
   "source": [
    "## But why Python?"
   ]
  },
  {
   "cell_type": "markdown",
   "metadata": {},
   "source": [
    "Python is a great language for beginners to work with.  It is a powerful and easy to understand language, that's also quite popular.  Below is a chart from a [2020 stackoverflow survey](https://insights.stackoverflow.com/survey/2020#technology-programming-scripting-and-markup-languages-professional-developers) showing the most popular programming languages.  There's Python - right near the top."
   ]
  },
  {
   "cell_type": "markdown",
   "metadata": {},
   "source": [
    "> <img src=\"python-pop.png\" width=\"70%\">"
   ]
  },
  {
   "cell_type": "markdown",
   "metadata": {},
   "source": [
    "A large reason why Python is so popular is because of the various uses for it.  We can use it to develop websites, or to perform data analysis.  "
   ]
  },
  {
   "cell_type": "markdown",
   "metadata": {},
   "source": [
    "### Conclusion"
   ]
  },
  {
   "cell_type": "markdown",
   "metadata": {},
   "source": [
    "Over the next lessons, we'll get up and running in Python.  We'll do so in a way where we not only learn the fundamentals of coding, but also learn how to apply coding to solve real life problems.  Let's get started.  \n",
    "\n",
    "Click the yellow next below."
   ]
  },
  {
   "cell_type": "markdown",
   "metadata": {},
   "source": [
    "> **Note**: If you are on a phone, the next buttton may not work.  So click on the Jigsaw Labs icon to go to the table of contents."
   ]
  },
  {
   "cell_type": "markdown",
   "metadata": {},
   "source": [
    "<right> \n",
    "<a href=\"https://colab.research.google.com/github/jigsawlabs-student/code-intro/blob/master/1-visual-variables.ipynb\">\n",
    "<img src=\"next-yellow.jpg\" align=\"right\" style=\"padding-right: 20px\" width=\"10%\">\n",
    "    </a>\n",
    "</right>"
   ]
  },
  {
   "cell_type": "markdown",
   "metadata": {},
   "source": [
    "<center>\n",
    "<a href=\"https://www.jigsawlabs.io\" style=\"position: center\"><img src=\"jigsaw-icon.png\" width=\"15%\" style=\"text-align: center\"></a>\n",
    "</center>"
   ]
  }
 ],
 "metadata": {
  "kernelspec": {
   "display_name": "Python 3",
   "language": "python",
   "name": "python3"
  },
  "language_info": {
   "codemirror_mode": {
    "name": "ipython",
    "version": 3
   },
   "file_extension": ".py",
   "mimetype": "text/x-python",
   "name": "python",
   "nbconvert_exporter": "python",
   "pygments_lexer": "ipython3",
   "version": "3.8.8"
  }
 },
 "nbformat": 4,
 "nbformat_minor": 4
}
