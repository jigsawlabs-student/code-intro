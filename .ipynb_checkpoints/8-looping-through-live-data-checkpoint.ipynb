{
 "cells": [
  {
   "cell_type": "markdown",
   "metadata": {},
   "source": [
    "# Looping Through Live Data"
   ]
  },
  {
   "cell_type": "markdown",
   "metadata": {},
   "source": [
    "### Introduction"
   ]
  },
  {
   "cell_type": "markdown",
   "metadata": {},
   "source": [
    "In this lesson, it's time to work with some live data gathered from Wikipedia! "
   ]
  },
  {
   "cell_type": "markdown",
   "metadata": {},
   "source": [
    "### Getting our Data"
   ]
  },
  {
   "cell_type": "markdown",
   "metadata": {},
   "source": [
    "Ok, now let's get some data from our [Wikipedia page of city populations](https://en.wikipedia.org/wiki/List_of_United_States_cities_by_population)."
   ]
  },
  {
   "cell_type": "markdown",
   "metadata": {},
   "source": [
    "<img src=\"https://storage.cloud.google.com/curriculum-assets/curriculum-assets.nosync/mom-files/cities-chart.png\">"
   ]
  },
  {
   "cell_type": "markdown",
   "metadata": {},
   "source": [
    "Now as we would expect, this data will come as a list of dictionaries.  Each row above represents a different dictionary of key value pairs, and we place each of these rows in a list."
   ]
  },
  {
   "cell_type": "markdown",
   "metadata": {},
   "source": [
    "```python\n",
    "cities = [\n",
    "    {'City': 'New York', '2018estimate': 8398748},\n",
    "    {'City': 'Los Angelos', '2018estimate': 3990456}\n",
    "]\n",
    "```"
   ]
  },
  {
   "cell_type": "markdown",
   "metadata": {},
   "source": [
    "It's time to gather our data in the cell below.  Let's skip over what this code is doing until the next lesson.  For now, the important thing is how to work with this data that we collect."
   ]
  },
  {
   "cell_type": "markdown",
   "metadata": {},
   "source": [
    "> Press shift + return on the cell below."
   ]
  },
  {
   "cell_type": "code",
   "execution_count": 81,
   "metadata": {},
   "outputs": [],
   "source": [
    "import pandas as pd\n",
    "tables = pd.read_html('https://en.wikipedia.org/wiki/List_of_United_States_cities_by_population')\n",
    "cities_df = tables[4]\n",
    "cities = cities_df.to_dict('records')"
   ]
  },
  {
   "cell_type": "markdown",
   "metadata": {},
   "source": [
    "We expect that this code is a list of dictionaries, with each row of data being represented as a separate dictionary.  Let's just slice the first two elements from the list to take a look."
   ]
  },
  {
   "cell_type": "markdown",
   "metadata": {},
   "source": [
    "> Press shift + enter."
   ]
  },
  {
   "cell_type": "code",
   "execution_count": 82,
   "metadata": {},
   "outputs": [
    {
     "data": {
      "text/plain": [
       "[{'2018rank': 1,\n",
       "  'City': 'New York[d]',\n",
       "  'State[c]': 'New York',\n",
       "  '2018estimate': 8398748,\n",
       "  '2010Census': 8175133,\n",
       "  'Change': '+2.74%',\n",
       "  '2016 land area': '301.5\\xa0sq\\xa0mi',\n",
       "  '2016 land area.1': '780.9\\xa0km2',\n",
       "  '2016 population density': '28,317/sq\\xa0mi',\n",
       "  '2016 population density.1': '10,933/km2',\n",
       "  'Location': '40°39′49″N 73°56′19″W\\ufeff / \\ufeff40.6635°N 73.9387°W'},\n",
       " {'2018rank': 2,\n",
       "  'City': 'Los Angeles',\n",
       "  'State[c]': 'California',\n",
       "  '2018estimate': 3990456,\n",
       "  '2010Census': 3792621,\n",
       "  'Change': '+5.22%',\n",
       "  '2016 land area': '468.7\\xa0sq\\xa0mi',\n",
       "  '2016 land area.1': '1,213.9\\xa0km2',\n",
       "  '2016 population density': '8,484/sq\\xa0mi',\n",
       "  '2016 population density.1': '3,276/km2',\n",
       "  'Location': '34°01′10″N 118°24′39″W\\ufeff / \\ufeff34.0194°N 118.4108°W'}]"
      ]
     },
     "execution_count": 82,
     "metadata": {},
     "output_type": "execute_result"
    }
   ],
   "source": [
    "cities[0:2]"
   ]
  },
  {
   "cell_type": "markdown",
   "metadata": {},
   "source": [
    "Next, let's get some practice by selecting just the data we want from this list.  Our list is stored in the variable `cities`.  Select the `2018estimate` of the first city."
   ]
  },
  {
   "cell_type": "code",
   "execution_count": 92,
   "metadata": {},
   "outputs": [],
   "source": [
    "first_pop = None\n",
    "first_pop\n",
    "\n",
    "# 8398748"
   ]
  },
  {
   "cell_type": "markdown",
   "metadata": {},
   "source": [
    "Then select the `2018estimate` population of the second city."
   ]
  },
  {
   "cell_type": "code",
   "execution_count": 91,
   "metadata": {},
   "outputs": [],
   "source": [
    "second_pop = None\n",
    "second_pop\n",
    "# 3990456"
   ]
  },
  {
   "cell_type": "markdown",
   "metadata": {},
   "source": [
    "> You can listen to me and my mom work through the second answer together."
   ]
  },
  {
   "cell_type": "code",
   "execution_count": 106,
   "metadata": {},
   "outputs": [],
   "source": [
    "beginning = \"https://storage.googleapis.com/curriculum-assets/curriculum-assets.nosync/mom-files/\"\n",
    "\n",
    "import IPython.display as ipd\n",
    "ipd.Audio(beginning + \"live-nested-data.wav\")"
   ]
  },
  {
   "cell_type": "markdown",
   "metadata": {},
   "source": [
    "### Our goal"
   ]
  },
  {
   "cell_type": "markdown",
   "metadata": {},
   "source": [
    "Now, our goal is to get the population not just of one city but **of every city**.  This is a common task in programming.  Our dictionaries often comes to us with lots of information we don't need, so we need to loop through each dictionary to just to get to the information that we want. \n",
    "\n",
    "Here's how."
   ]
  },
  {
   "cell_type": "markdown",
   "metadata": {},
   "source": [
    "> We added some comments to show you what each variable is equal to as you move through the code."
   ]
  },
  {
   "cell_type": "code",
   "execution_count": 86,
   "metadata": {},
   "outputs": [
    {
     "name": "stdout",
     "output_type": "stream",
     "text": [
      "New York[d]\n",
      "Los Angeles\n"
     ]
    }
   ],
   "source": [
    "two_cities = cities[0:2]\n",
    "two_cities\n",
    "# [\n",
    "#     {'City': 'New York', '2018estimate': 8398748}\n",
    "#    {'City': 'Los Angelos', '2018estimate': 3308748}\n",
    "# ]\n",
    "\n",
    "for top_city in two_cities:\n",
    "    # top_city -> {'City': 'New York', '2018estimate': 8398748}\n",
    "    city_name = top_city['City']\n",
    "    print(city_name)"
   ]
  },
  {
   "cell_type": "markdown",
   "metadata": {},
   "source": [
    "The key thing to realize in the code above is that each element of the list is a dictionary.  So our `for loop` grabs each dictionary one by one, calls it `top_city`, and then selects just the information it wants from that city."
   ]
  },
  {
   "cell_type": "markdown",
   "metadata": {},
   "source": [
    "<img src=\"https://storage.googleapis.com/curriculum-assets/curriculum-assets.nosync/intro-to-coding/mailboxes.jpg\" width = 30%>"
   ]
  },
  {
   "cell_type": "markdown",
   "metadata": {},
   "source": [
    "If we think of our set of mailboxes being the list of dictionaries again.  Then with a for loop, we no longer have to worry about selecting the correct mailbox.  Our `for loop`, opens each mailbox, one by one, and gives us access to that mailbox with the name of the `block variable`, `top_city`.  Then, we repeatedly ask each mailbox for the same information."
   ]
  },
  {
   "cell_type": "markdown",
   "metadata": {},
   "source": [
    "With that in mind try to talk through what happens in each line of code below."
   ]
  },
  {
   "cell_type": "code",
   "execution_count": 79,
   "metadata": {},
   "outputs": [
    {
     "name": "stdout",
     "output_type": "stream",
     "text": [
      "New York[d]\n",
      "Los Angeles\n"
     ]
    }
   ],
   "source": [
    "#two_cities =   [\n",
    "#     {'City': 'New York', '2018estimate': 8398748},\n",
    "#     {'City': 'Los Angelos', '2018estimate': 3990456},\n",
    "#     {'City': 'Chicago', '2018estimate': 2700000}\n",
    "# ]\n",
    "\n",
    "two_cities = cities[0:2]\n",
    "\n",
    "for top_city in two_cities:\n",
    "    # top_city -> {'City': 'New York', '2018estimate': 8398748}\n",
    "    city_name = top_city['City']\n",
    "    print(city_name)\n"
   ]
  },
  {
   "cell_type": "markdown",
   "metadata": {},
   "source": [
    "> The code above can be confusing so here's some extra explanation if you need.  "
   ]
  },
  {
   "cell_type": "code",
   "execution_count": 107,
   "metadata": {},
   "outputs": [],
   "source": [
    "beginning = \"https://storage.googleapis.com/curriculum-assets/curriculum-assets.nosync/mom-files/\"\n",
    "\n",
    "import IPython.display as ipd\n",
    "ipd.Audio(beginning + \"explain-looping-through.wav\")"
   ]
  },
  {
   "cell_type": "markdown",
   "metadata": {},
   "source": [
    "Ok, now it's your turn.  Loop through the first six cities selecting just the `2018estimate` population from each one.  We get you started by slicing the first `six_cities` as a list."
   ]
  },
  {
   "cell_type": "code",
   "execution_count": 94,
   "metadata": {},
   "outputs": [],
   "source": [
    "six_cities = cities[0:6]\n",
    "#  [\n",
    "#     {'City': 'New York', '2018estimate': 8398748},\n",
    "#     {'City': 'Los Angelos', '2018estimate': 3990456},\n",
    "#    ...\n",
    "# ]\n",
    "# write your code in the lines below\n",
    "\n",
    "\n",
    "\n",
    "\n",
    "# for each city in our list of cities \n",
    "# select and print out the 2018estimate from the city"
   ]
  },
  {
   "cell_type": "markdown",
   "metadata": {},
   "source": [
    "> In the cell below, I copied the code from above for you to reference.  Audio is further below."
   ]
  },
  {
   "cell_type": "code",
   "execution_count": null,
   "metadata": {},
   "outputs": [],
   "source": [
    "two_cities = cities[0:2]\n",
    "\n",
    "for top_city in two_cities:\n",
    "    # top_city -> {'City': 'New York', '2018estimate': 8398748}\n",
    "    city_name = top_city['City']\n",
    "    print(city_name)\n"
   ]
  },
  {
   "cell_type": "markdown",
   "metadata": {},
   "source": [
    "> Audio of my mom working through our above problem."
   ]
  },
  {
   "cell_type": "code",
   "execution_count": 109,
   "metadata": {},
   "outputs": [],
   "source": [
    "beginning = \"https://storage.googleapis.com/curriculum-assets/curriculum-assets.nosync/mom-files/\"\n",
    "\n",
    "import IPython.display as ipd\n",
    "ipd.Audio(beginning + \"looping-live-prob.wav\")"
   ]
  },
  {
   "cell_type": "markdown",
   "metadata": {},
   "source": [
    "### Summary"
   ]
  },
  {
   "cell_type": "markdown",
   "metadata": {},
   "source": [
    "In this lesson we learned how to start with a list of dictionaries, and go through each one to select just the data that we want, and print out that data.  \n",
    "\n",
    "```python\n",
    "for each_city in cities:\n",
    "    city_pop = each_city['2018estimate']\n",
    "    print(city_pop)\n",
    "```\n",
    "\n",
    "The key point is to realize that our block variable `each_city` represents each dictionary.  So in the code above, we access the population value for the dictionary and then print out that value, and thne do the same for the second dictionary, and so on.  \n",
    "\n",
    "In the next lesson, we'll see how to hold onto those values of populations by adding them to a list of populations, and also adding each city name to a list of names.  Then we can use these two lists to create plots of our data."
   ]
  },
  {
   "cell_type": "markdown",
   "metadata": {},
   "source": [
    "<right> \n",
    "<a href=\"https://colab.research.google.com/github/jigsawlabs-student/code-intro/blob/master/9-loops-to-lists.ipynb\">\n",
    "<img src=\"https://storage.cloud.google.com/curriculum-assets/curriculum-assets.nosync/mom-files/pngfuel.com.png\" align=\"right\" style=\"padding-right: 20px\" width=\"10%\">\n",
    "    </a>\n",
    "</right>"
   ]
  },
  {
   "cell_type": "markdown",
   "metadata": {},
   "source": [
    "<center>\n",
    "<a href=\"https://www.jigsawlabs.io/free\" style=\"position: center\"><img src=\"https://storage.cloud.google.com/curriculum-assets/curriculum-assets.nosync/mom-files/jigsaw-labs.png\" width=\"15%\" style=\"text-align: center\"></a>\n",
    "</center>"
   ]
  },
  {
   "cell_type": "markdown",
   "metadata": {},
   "source": [
    "### Answers"
   ]
  },
  {
   "cell_type": "code",
   "execution_count": 97,
   "metadata": {},
   "outputs": [
    {
     "name": "stdout",
     "output_type": "stream",
     "text": [
      "8398748\n",
      "3990456\n",
      "2705994\n",
      "2325502\n",
      "1660272\n",
      "1584138\n"
     ]
    }
   ],
   "source": [
    "six_cities = cities[0:6]\n",
    "\n",
    "for city in six_cities:\n",
    "    pop = city['2018estimate']\n",
    "    print(pop)"
   ]
  }
 ],
 "metadata": {
  "kernelspec": {
   "display_name": "Python 3",
   "language": "python",
   "name": "python3"
  },
  "language_info": {
   "codemirror_mode": {
    "name": "ipython",
    "version": 3
   },
   "file_extension": ".py",
   "mimetype": "text/x-python",
   "name": "python",
   "nbconvert_exporter": "python",
   "pygments_lexer": "ipython3",
   "version": "3.7.4"
  }
 },
 "nbformat": 4,
 "nbformat_minor": 4
}
