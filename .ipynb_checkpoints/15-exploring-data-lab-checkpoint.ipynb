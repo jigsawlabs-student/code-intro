{
 "cells": [
  {
   "cell_type": "markdown",
   "id": "1cf0bb00-7607-4013-8148-0c81911da2d1",
   "metadata": {},
   "source": [
    "# Advanced Queries and Messy Data Lab"
   ]
  },
  {
   "cell_type": "markdown",
   "id": "6ed07034-dd7c-48dc-96f4-2bcc6ed23029",
   "metadata": {},
   "source": [
    "### Introduction"
   ]
  },
  {
   "cell_type": "markdown",
   "id": "108da89b-126a-48ca-93da-9a20fb926c3f",
   "metadata": {},
   "source": [
    "In this lesson, we'll work with some economic data derived from Wikipedia's dataset on [per capita GDP](https://en.wikipedia.org/wiki/List_of_countries_by_GDP_(nominal)_per_capita).  Let's get started."
   ]
  },
  {
   "cell_type": "markdown",
   "id": "9b96dbc7-51eb-4ed6-9543-bbb05f07032d",
   "metadata": {},
   "source": [
    "### Loading our data"
   ]
  },
  {
   "cell_type": "code",
   "execution_count": 148,
   "id": "956bc61a-f822-475c-a89b-ae8e797270bf",
   "metadata": {},
   "outputs": [],
   "source": [
    "countries_df =  pd.read_csv('countries.csv')"
   ]
  },
  {
   "cell_type": "code",
   "execution_count": 130,
   "id": "4f3d0405-64f9-4782-afb2-9e4985068d78",
   "metadata": {},
   "outputs": [],
   "source": [
    "countries = countries_df.to_dict('records')"
   ]
  },
  {
   "cell_type": "markdown",
   "id": "aa0a7c8d-2501-430a-90f6-9ba76f5ebb15",
   "metadata": {},
   "source": [
    "So looking at our data above, we can see that each dictionary is a separate country.  For each country we have listed the Country, Region, GDP, and Year.  The GDP is the average GDP per person, so we can see that in Liechtenstein, the average GDP is `169,049`.  Let's just admire that for a second."
   ]
  },
  {
   "cell_type": "markdown",
   "id": "d79afb66-7c9e-4910-9844-cf7e677db8b9",
   "metadata": {},
   "source": [
    "### Exploring our Text Data "
   ]
  },
  {
   "cell_type": "markdown",
   "id": "8257afd2-5b6e-46f8-b955-028f0c767476",
   "metadata": {},
   "source": [
    "Ok, so before doing initial analysis, it's a good idea to get an overview of our data.  Let's start by creating a unique collection of all of the regions in our dataset."
   ]
  },
  {
   "cell_type": "code",
   "execution_count": 136,
   "id": "5165e97b-64fe-44c4-a187-a9e319de1883",
   "metadata": {},
   "outputs": [
    {
     "data": {
      "text/plain": [
       "{'Africa', 'Americas', 'Asia', 'Europe', 'Oceania', 'World'}"
      ]
     },
     "execution_count": 136,
     "metadata": {},
     "output_type": "execute_result"
    }
   ],
   "source": [
    "regions = []\n",
    "for country in countries:\n",
    "    regions.append(country['Region'])\n",
    "    \n",
    "set(regions)\n",
    "\n",
    "# {'Africa', 'Americas', 'Asia', 'Europe', 'Oceania', 'World'}"
   ]
  },
  {
   "cell_type": "markdown",
   "id": "2ff84e37-93da-4b5f-b6f0-e943f4cf873e",
   "metadata": {},
   "source": [
    "Ok, so we can see that the Americas -- both North and South is considered one region.  And that we have the mysterious region of `World`."
   ]
  },
  {
   "cell_type": "markdown",
   "id": "3ade4b30-34e1-4245-aa9a-c162a90ed068",
   "metadata": {},
   "source": [
    "Let's a get a list of the countries who are listed under World, so we can get a better sense of what that is about."
   ]
  },
  {
   "cell_type": "code",
   "execution_count": 140,
   "id": "75ada1f2-6cdc-42e1-a45d-a7491b5c5ece",
   "metadata": {},
   "outputs": [
    {
     "data": {
      "text/plain": [
       "[{'Country': 'Worl', 'Region': 'World', 'Gdp': 12263.0, 'Year': 2021.0}]"
      ]
     },
     "execution_count": 140,
     "metadata": {},
     "output_type": "execute_result"
    }
   ],
   "source": [
    "world_countries = []\n",
    "for country in countries:\n",
    "    if country['Region'] == 'World':\n",
    "        world_countries.append(country)\n",
    "        \n",
    "world_countries"
   ]
  },
  {
   "cell_type": "markdown",
   "id": "1034a833-0eab-4406-9377-86ff3a448e71",
   "metadata": {},
   "source": [
    "Ok, so this looks like it is the average world GDP for the year 2021.  Eventually, we can try to find the average GDP in our dataset to make sure it lines up.  Or we can just ask Google the world per capita GDP."
   ]
  },
  {
   "cell_type": "markdown",
   "id": "7769d565-3e69-499b-8df0-3ec5f8b21097",
   "metadata": {},
   "source": [
    "<img src=\"./per-capita.png\" width=\"60%\">"
   ]
  },
  {
   "cell_type": "markdown",
   "id": "1299a4b6-4bb5-4276-93b7-954f762ca828",
   "metadata": {},
   "source": [
    "Let's also just see the size of our dataset -- so we can see if we really do have a lot of countries listed."
   ]
  },
  {
   "cell_type": "code",
   "execution_count": 164,
   "id": "4388e097-3660-43f1-b085-d37efa3c0965",
   "metadata": {},
   "outputs": [
    {
     "data": {
      "text/plain": [
       "222"
      ]
     },
     "execution_count": 164,
     "metadata": {},
     "output_type": "execute_result"
    }
   ],
   "source": [
    "len(countries)"
   ]
  },
  {
   "cell_type": "markdown",
   "id": "fc83a1cf-f616-42ca-9df6-6b69d22d2748",
   "metadata": {},
   "source": [
    "Wikipedia says there are only 195 countries.  So this is something to keep in mind.  It may mean that we have some duplicate entries, or that some items (like World) do not represent countries at all.  It could also just be that the number of countries differs based on the list of data -- although the difference here appears pretty large."
   ]
  },
  {
   "cell_type": "markdown",
   "id": "eb62f7cf-77c9-47b8-b45e-95ba14be87eb",
   "metadata": {},
   "source": [
    "### Exploring Numeric Data"
   ]
  },
  {
   "cell_type": "markdown",
   "id": "a944703c-8495-47e4-9fb9-ca1822b97732",
   "metadata": {},
   "source": [
    "Ok, so we've looked to see that various regions are included.  Now let's confirm GDP data makes sense.  This is slightly more difficult because there can be a range of different GDPs.  So it probably does not make sense to get a unique list of all GDPs.  One thing we can do is look at the upper and lower range of our data."
   ]
  },
  {
   "cell_type": "markdown",
   "id": "88a07a1e-15ba-467f-9b27-1a726d5bcc60",
   "metadata": {},
   "source": [
    "For example, we can get a list of all of minimum and maximum values of our GDP.  This  way we can ensure that our data makes sense.  To do so we can't just ask the minimum of a list of dictionaries."
   ]
  },
  {
   "cell_type": "code",
   "execution_count": 155,
   "id": "4743c740-53b7-46dc-9048-c3daa93eb2e4",
   "metadata": {},
   "outputs": [
    {
     "data": {
      "text/plain": [
       "[{'Country': 'Liechtenstein',\n",
       "  'Region': 'Europe',\n",
       "  'Gdp': 169049.0,\n",
       "  'Year': 2019.0},\n",
       " {'Country': 'Monaco', 'Region': 'Europe', 'Gdp': 173688.0, 'Year': 2020.0}]"
      ]
     },
     "execution_count": 155,
     "metadata": {},
     "output_type": "execute_result"
    }
   ],
   "source": [
    "countries[:2]"
   ]
  },
  {
   "cell_type": "markdown",
   "id": "66f35ea4-f80e-416b-9bf4-e6dc17ae9753",
   "metadata": {},
   "source": [
    "This is because Python wouldn't know which of these attributes it is trying to find the minimum of.  Instead, we need to first create a list of GDPs."
   ]
  },
  {
   "cell_type": "code",
   "execution_count": 156,
   "id": "2b670432-5022-4f3b-8e5b-26e9ea0c7cb0",
   "metadata": {},
   "outputs": [
    {
     "data": {
      "text/plain": [
       "[169049.0, 173688.0, 135683.0, 110870.0, 99152.0]"
      ]
     },
     "execution_count": 156,
     "metadata": {},
     "output_type": "execute_result"
    }
   ],
   "source": [
    "gdps = []\n",
    "for country in countries:\n",
    "    gdps.append(country['Gdp'])\n",
    "    \n",
    "gdps[:5]"
   ]
  },
  {
   "cell_type": "markdown",
   "id": "4c72d148-6948-45bc-9982-d5a824b464ca",
   "metadata": {},
   "source": [
    "And now that we have just one list of numbers, we can find the minimum in that list."
   ]
  },
  {
   "cell_type": "code",
   "execution_count": 157,
   "id": "d3ed1964-7b57-48eb-ab49-215fd568129f",
   "metadata": {},
   "outputs": [
    {
     "data": {
      "text/plain": [
       "237.0"
      ]
     },
     "execution_count": 157,
     "metadata": {},
     "output_type": "execute_result"
    }
   ],
   "source": [
    "min(gdps)"
   ]
  },
  {
   "cell_type": "markdown",
   "id": "3a63823b-dcb4-4fe4-b95a-eba20247ae90",
   "metadata": {},
   "source": [
    "And the maximum."
   ]
  },
  {
   "cell_type": "code",
   "execution_count": 158,
   "id": "461f3859-e1f6-4dc1-bcae-b718003e49f3",
   "metadata": {},
   "outputs": [
    {
     "data": {
      "text/plain": [
       "173688.0"
      ]
     },
     "execution_count": 158,
     "metadata": {},
     "output_type": "execute_result"
    }
   ],
   "source": [
    "max(gdps)"
   ]
  },
  {
   "cell_type": "markdown",
   "id": "8aa238e7-15d6-43a9-876c-6002c89245d4",
   "metadata": {},
   "source": [
    "Now do the same thing for year.  Find the minimum year in the dataset using the same pattern."
   ]
  },
  {
   "cell_type": "code",
   "execution_count": 160,
   "id": "aa419565-3232-458d-9801-7d74abae09ea",
   "metadata": {},
   "outputs": [],
   "source": [
    "years = []\n",
    "for country in countries:\n",
    "    years.append(country['Year'])\n"
   ]
  },
  {
   "cell_type": "code",
   "execution_count": 162,
   "id": "9d14cec9-ab58-4f65-ab50-f5a7914248d0",
   "metadata": {},
   "outputs": [
    {
     "data": {
      "text/plain": [
       "2007.0"
      ]
     },
     "execution_count": 162,
     "metadata": {},
     "output_type": "execute_result"
    }
   ],
   "source": [
    "min(year)\n",
    "\n",
    "# 2007.0"
   ]
  },
  {
   "cell_type": "code",
   "execution_count": 163,
   "id": "0563c87e-9c25-4691-a20e-cbd12ef76346",
   "metadata": {},
   "outputs": [
    {
     "data": {
      "text/plain": [
       "2021.0"
      ]
     },
     "execution_count": 163,
     "metadata": {},
     "output_type": "execute_result"
    }
   ],
   "source": [
    "max(year) # 2021.0"
   ]
  },
  {
   "cell_type": "markdown",
   "id": "b6fd2174-2ade-4be8-be9c-115d6a469ca1",
   "metadata": {},
   "source": [
    "Ok, so that's surprising, and could lead to incorrect conclusions to have data from such different years."
   ]
  },
  {
   "cell_type": "markdown",
   "id": "d68c0918-8f14-4de0-9f6b-310a4474c4a9",
   "metadata": {},
   "source": [
    "### Searching through data"
   ]
  },
  {
   "cell_type": "markdown",
   "id": "7c819296-4e2e-4eb6-85da-92eb5a5fd22c",
   "metadata": {},
   "source": [
    "Ok, so now that we've gotten a sense of our data it's time to ask questions of our data.  We know that our data is from various years, so let's reduce our data to only those dictionaries that have a year of 2019 or greater."
   ]
  },
  {
   "cell_type": "code",
   "execution_count": 182,
   "id": "8f1fd6c6-fb11-42ce-968a-78e00d4202ef",
   "metadata": {},
   "outputs": [],
   "source": [
    "recent_countries = []\n",
    "\n",
    "for country in countries:\n",
    "    if country['Year'] > 2019:\n",
    "        recent_countries.append(country)"
   ]
  },
  {
   "cell_type": "code",
   "execution_count": 185,
   "id": "6012cb70-ec2b-4ba4-9a8a-69a28b16e0c2",
   "metadata": {},
   "outputs": [
    {
     "name": "stdout",
     "output_type": "stream",
     "text": [
      "[{'Country': 'Monaco', 'Region': 'Europe', 'Gdp': 173688.0, 'Year': 2020.0}, {'Country': 'Luxembourg', 'Region': 'Europe', 'Gdp': 135683.0, 'Year': 2021.0}, {'Country': 'Bermuda', 'Region': 'Americas', 'Gdp': 110870.0, 'Year': 2021.0}, {'Country': 'Ireland', 'Region': 'Europe', 'Gdp': 99152.0, 'Year': 2021.0}]\n"
     ]
    }
   ],
   "source": [
    "print(recent_countries[:4])\n",
    "\n",
    "# [{'Country': 'Monaco', 'Region': 'Europe', 'Gdp': 173688.0, 'Year': 2020.0},\n",
    "# {'Country': 'Luxembourg', 'Region': 'Europe', 'Gdp': 135683.0, 'Year': 2021.0}, \n",
    "# {'Country': 'Bermuda', 'Region': 'Americas', 'Gdp': 110870.0, 'Year': 2021.0}, \n",
    "# {'Country': 'Ireland', 'Region': 'Europe', 'Gdp': 99152.0, 'Year': 2021.0}]"
   ]
  },
  {
   "cell_type": "markdown",
   "id": "de574c1f-422e-4537-aa8d-e5c6da317317",
   "metadata": {},
   "source": [
    "We can see that we still have a majority of our countries."
   ]
  },
  {
   "cell_type": "code",
   "execution_count": 181,
   "id": "9e066b9f-3c07-4ea3-9275-5146d2b61567",
   "metadata": {},
   "outputs": [
    {
     "data": {
      "text/plain": [
       "203"
      ]
     },
     "execution_count": 181,
     "metadata": {},
     "output_type": "execute_result"
    }
   ],
   "source": [
    "len(recent_countries)"
   ]
  },
  {
   "cell_type": "markdown",
   "id": "77cc8e48-d816-4b9d-bef5-279db1cdb47a",
   "metadata": {},
   "source": [
    "Then let's find all of the countries in Europe that have a per capita GDP under `20,000`."
   ]
  },
  {
   "cell_type": "code",
   "execution_count": 186,
   "id": "5fd432a0-4fdd-472c-96be-3d8f35fb79db",
   "metadata": {},
   "outputs": [],
   "source": [
    "country_names = []\n",
    "for country in countries:\n",
    "    if country['Gdp'] < 20_000 and country['Region'] == 'Europe':\n",
    "        country_names.append(country['Country'])"
   ]
  },
  {
   "cell_type": "code",
   "execution_count": 187,
   "id": "757da1c5-1104-433e-99ea-2c02f765d160",
   "metadata": {},
   "outputs": [
    {
     "name": "stdout",
     "output_type": "stream",
     "text": [
      "['Poland', 'Hungary', 'Croatia', 'Romania', 'Russia', 'Bulgaria', 'Montenegro', 'Serbia', 'Belarus', 'Bosnia and Herzegovina', 'North Macedonia', 'Albania', 'Moldova', 'Kosovo', 'Ukraine']\n"
     ]
    }
   ],
   "source": [
    "print(country_names)"
   ]
  },
  {
   "cell_type": "markdown",
   "id": "993bd414-809d-42b7-95cf-8705cab49082",
   "metadata": {},
   "source": [
    "From here, let's find a unique collection of regions that have a country with GDP over 80,000."
   ]
  },
  {
   "cell_type": "code",
   "execution_count": 188,
   "id": "44e8bcf1-156c-40c8-a09e-d43165af2aa5",
   "metadata": {},
   "outputs": [],
   "source": [
    "wealthy_regions = []\n",
    "for country in countries:\n",
    "    if country['Gdp'] > 80_000:\n",
    "        wealthy_regions.append(country['Region'])"
   ]
  },
  {
   "cell_type": "code",
   "execution_count": 189,
   "id": "61ebecb4-06e1-49c7-b0e7-ab9ca94a791d",
   "metadata": {},
   "outputs": [
    {
     "data": {
      "text/plain": [
       "{'Americas', 'Europe'}"
      ]
     },
     "execution_count": 189,
     "metadata": {},
     "output_type": "execute_result"
    }
   ],
   "source": [
    "set(wealthy_regions)"
   ]
  },
  {
   "cell_type": "markdown",
   "id": "c700dd15-11d6-4e56-aedf-65bc94a1c35a",
   "metadata": {},
   "source": [
    "So we can see that both the Americas and Europe meets that criteria.  From there, let's see how many wealthy_countries there are in the Americas."
   ]
  },
  {
   "cell_type": "code",
   "execution_count": 193,
   "id": "ca562952-00ef-4a11-b25a-d1a6fba1bce1",
   "metadata": {},
   "outputs": [],
   "source": [
    "wealthy_american_countries = []\n",
    "for country in countries:\n",
    "    if country['Gdp'] > 80_000 and country['Region'] == 'Americas':\n",
    "        wealthy_american_countries.append(country['Country'])"
   ]
  },
  {
   "cell_type": "code",
   "execution_count": 195,
   "id": "8aa7f2e5-d7da-48dd-94e2-2a654cbbb5b8",
   "metadata": {},
   "outputs": [
    {
     "data": {
      "text/plain": [
       "2"
      ]
     },
     "execution_count": 195,
     "metadata": {},
     "output_type": "execute_result"
    }
   ],
   "source": [
    "len(wealthy_american_countries)\n",
    "\n",
    "# 2"
   ]
  },
  {
   "cell_type": "markdown",
   "id": "7a07c3e0-18e8-4f34-81d6-d01e9431c492",
   "metadata": {},
   "source": [
    "And now find the number of countries in Europe with a GDP over `80_000`."
   ]
  },
  {
   "cell_type": "code",
   "execution_count": 196,
   "id": "45f7027b-6c68-461f-9122-85a031326ef4",
   "metadata": {},
   "outputs": [],
   "source": [
    "wealthy_european_countries = []\n",
    "for country in countries:\n",
    "    if country['Gdp'] > 80_000 and country['Region'] == 'Europe':\n",
    "        wealthy_european_countries.append(country['Country'])"
   ]
  },
  {
   "cell_type": "code",
   "execution_count": 198,
   "id": "87d574a2-8b23-4684-baa4-9000c2921404",
   "metadata": {},
   "outputs": [
    {
     "data": {
      "text/plain": [
       "7"
      ]
     },
     "execution_count": 198,
     "metadata": {},
     "output_type": "execute_result"
    }
   ],
   "source": [
    "len(wealthy_european_countries)"
   ]
  },
  {
   "cell_type": "markdown",
   "id": "40c82493-4197-4038-b3db-d858c0906f04",
   "metadata": {},
   "source": [
    "And we can see that there are seven `wealthy_european_countries`."
   ]
  },
  {
   "cell_type": "markdown",
   "id": "f386b9f3-96ec-4765-9a6a-aa220d9eb854",
   "metadata": {},
   "source": [
    "From here, let's find the average income of countries in Europe."
   ]
  },
  {
   "cell_type": "code",
   "execution_count": 212,
   "id": "5fd89a9a-9da0-4f1c-97c9-9c577110465f",
   "metadata": {},
   "outputs": [],
   "source": [
    "european_country_incomes = []\n",
    "for country in countries:\n",
    "    if country['Region'] == 'Europe':\n",
    "        european_country_incomes.append(country['Gdp'])"
   ]
  },
  {
   "cell_type": "code",
   "execution_count": 213,
   "id": "fa33e14a-61c1-42fc-8ca6-a2d772b7c37b",
   "metadata": {},
   "outputs": [
    {
     "data": {
      "text/plain": [
       "44181.87234042553"
      ]
     },
     "execution_count": 213,
     "metadata": {},
     "output_type": "execute_result"
    }
   ],
   "source": [
    "sum(european_country_incomes)/len(european_country_incomes)\n",
    "\n",
    "# 44181.87234042553"
   ]
  },
  {
   "cell_type": "markdown",
   "id": "985c3806-2dcc-4fd8-8f16-16159f62c0fc",
   "metadata": {},
   "source": [
    "And note that we can see the difference between the maximum and minimum country in Europe just by subtracting the max from the min."
   ]
  },
  {
   "cell_type": "code",
   "execution_count": 216,
   "id": "21d0ba9e-abab-4234-9acc-77f7b4abdfa1",
   "metadata": {},
   "outputs": [
    {
     "data": {
      "text/plain": [
       "168852.0"
      ]
     },
     "execution_count": 216,
     "metadata": {},
     "output_type": "execute_result"
    }
   ],
   "source": [
    "max(european_country_incomes) - min(european_country_incomes)"
   ]
  },
  {
   "cell_type": "markdown",
   "id": "a0d99c4a-6307-40bb-894c-e5951ca38380",
   "metadata": {},
   "source": [
    "Quite a difference."
   ]
  },
  {
   "cell_type": "markdown",
   "id": "4d8b1005-1a92-4947-a893-006d8bd1964c",
   "metadata": {},
   "source": [
    "### Summary"
   ]
  },
  {
   "cell_type": "markdown",
   "id": "f9e16f93-540d-4ecd-9b6f-17f32a23f52c",
   "metadata": {},
   "source": [
    "In this lesson, we practiced working with advanced queries and performing calculations in Python.  We did so by just selecting a subset of our data, converting that data into lists when necessary, and then performing calculations on those lists. "
   ]
  },
  {
   "cell_type": "markdown",
   "id": "a3aa6712-6826-4723-a39a-b74141e69a24",
   "metadata": {},
   "source": [
    "### Answers"
   ]
  },
  {
   "cell_type": "code",
   "execution_count": 219,
   "id": "879a9d29-ef8e-43b7-ab9a-0d3902e3f970",
   "metadata": {},
   "outputs": [
    {
     "data": {
      "text/plain": [
       "{'Africa', 'Americas', 'Asia', 'Europe', 'Oceania', 'World'}"
      ]
     },
     "execution_count": 219,
     "metadata": {},
     "output_type": "execute_result"
    }
   ],
   "source": [
    "regions = []\n",
    "for country in countries:\n",
    "    regions.append(country['Region'])\n",
    "    \n",
    "set(regions)"
   ]
  },
  {
   "cell_type": "code",
   "execution_count": 220,
   "id": "601c1c87-3522-4c8f-bc3a-b5dc1f088495",
   "metadata": {},
   "outputs": [
    {
     "data": {
      "text/plain": [
       "[{'Country': 'Worl', 'Region': 'World', 'Gdp': 12263.0, 'Year': 2021.0}]"
      ]
     },
     "execution_count": 220,
     "metadata": {},
     "output_type": "execute_result"
    }
   ],
   "source": [
    "world_countries = []\n",
    "for country in countries:\n",
    "    if country['Region'] == 'World':\n",
    "        world_countries.append(country)\n",
    "        \n",
    "world_countries"
   ]
  },
  {
   "cell_type": "code",
   "execution_count": 221,
   "id": "5612cb2e-4e79-4cab-ae96-fc0f07e158f7",
   "metadata": {},
   "outputs": [
    {
     "data": {
      "text/plain": [
       "222"
      ]
     },
     "execution_count": 221,
     "metadata": {},
     "output_type": "execute_result"
    }
   ],
   "source": [
    "len(countries)"
   ]
  },
  {
   "cell_type": "code",
   "execution_count": 222,
   "id": "4e498a7f-3861-4778-9366-ebc8a6732be4",
   "metadata": {},
   "outputs": [],
   "source": [
    "years = []\n",
    "for country in countries:\n",
    "    years.append(country['Year'])\n"
   ]
  },
  {
   "cell_type": "code",
   "execution_count": 224,
   "id": "1a5a3be9-e536-42ef-9969-a5e5dc44c65b",
   "metadata": {},
   "outputs": [
    {
     "data": {
      "text/plain": [
       "2007.0"
      ]
     },
     "execution_count": 224,
     "metadata": {},
     "output_type": "execute_result"
    }
   ],
   "source": [
    "min(years)"
   ]
  },
  {
   "cell_type": "code",
   "execution_count": 223,
   "id": "a436ad37-32d7-4b5e-8549-2fd822cb0f51",
   "metadata": {},
   "outputs": [
    {
     "data": {
      "text/plain": [
       "2021.0"
      ]
     },
     "execution_count": 223,
     "metadata": {},
     "output_type": "execute_result"
    }
   ],
   "source": [
    "max(years)"
   ]
  },
  {
   "cell_type": "code",
   "execution_count": 218,
   "id": "57115bcd-ea9d-48d2-a2cb-bb90cce6d263",
   "metadata": {},
   "outputs": [
    {
     "data": {
      "text/plain": [
       "2"
      ]
     },
     "execution_count": 218,
     "metadata": {},
     "output_type": "execute_result"
    }
   ],
   "source": [
    "wealthy_american_countries = []\n",
    "for country in countries:\n",
    "    if country['Gdp'] > 80_000 and country['Region'] == 'Americas':\n",
    "        wealthy_american_countries.append(country['Country'])\n",
    "len(wealthy_american_countries)"
   ]
  },
  {
   "cell_type": "code",
   "execution_count": 225,
   "id": "7c00f924-246b-4f24-9a50-93eec319dc23",
   "metadata": {},
   "outputs": [
    {
     "data": {
      "text/plain": [
       "7"
      ]
     },
     "execution_count": 225,
     "metadata": {},
     "output_type": "execute_result"
    }
   ],
   "source": [
    "wealthy_european_countries = []\n",
    "for country in countries:\n",
    "    if country['Gdp'] > 80_000 and country['Region'] == 'Europe':\n",
    "        wealthy_european_countries.append(country['Country'])\n",
    "\n",
    "len(wealthy_european_countries)"
   ]
  },
  {
   "cell_type": "code",
   "execution_count": 227,
   "id": "526406b1-bdb3-4605-b7d8-43eb3a802b90",
   "metadata": {},
   "outputs": [
    {
     "data": {
      "text/plain": [
       "44181.87234042553"
      ]
     },
     "execution_count": 227,
     "metadata": {},
     "output_type": "execute_result"
    }
   ],
   "source": [
    "european_country_incomes = []\n",
    "for country in countries:\n",
    "    if country['Region'] == 'Europe':\n",
    "        european_country_incomes.append(country['Gdp'])\n",
    "        \n",
    "sum(european_country_incomes)/len(european_country_incomes)"
   ]
  },
  {
   "cell_type": "code",
   "execution_count": 228,
   "id": "d3b05ac6-7a44-43b9-a6d2-548ff5d650e8",
   "metadata": {},
   "outputs": [
    {
     "data": {
      "text/plain": [
       "168852.0"
      ]
     },
     "execution_count": 228,
     "metadata": {},
     "output_type": "execute_result"
    }
   ],
   "source": [
    "max(european_country_incomes) - min(european_country_incomes)"
   ]
  },
  {
   "cell_type": "code",
   "execution_count": null,
   "id": "2c28138d-8a52-41c1-8705-8266ba987cf6",
   "metadata": {},
   "outputs": [],
   "source": []
  }
 ],
 "metadata": {
  "kernelspec": {
   "display_name": "Python 3 (ipykernel)",
   "language": "python",
   "name": "python3"
  },
  "language_info": {
   "codemirror_mode": {
    "name": "ipython",
    "version": 3
   },
   "file_extension": ".py",
   "mimetype": "text/x-python",
   "name": "python",
   "nbconvert_exporter": "python",
   "pygments_lexer": "ipython3",
   "version": "3.10.6"
  }
 },
 "nbformat": 4,
 "nbformat_minor": 5
}
