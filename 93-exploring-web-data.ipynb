{
 "cells": [
  {
   "cell_type": "markdown",
   "metadata": {},
   "source": [
    "# Gathering Data From the Web"
   ]
  },
  {
   "cell_type": "markdown",
   "metadata": {},
   "source": [
    "### Introduction"
   ]
  },
  {
   "cell_type": "markdown",
   "metadata": {},
   "source": [
    "Ok, now we are ready to gather some real live data from the web.  We're on a good streak - our spirits are good.  Let's go get a job."
   ]
  },
  {
   "cell_type": "markdown",
   "metadata": {},
   "source": [
    "### Get a job, bob"
   ]
  },
  {
   "cell_type": "markdown",
   "metadata": {},
   "source": [
    "One excellent place for finding technical jobs is on Github.  If we go to Github [the correct github page](https://jobs.github.com/positions.json?description=python&location=new+york), we see something like the following:"
   ]
  },
  {
   "cell_type": "markdown",
   "metadata": {},
   "source": [
    "<img src=\"./github-jobs.png\" width=\"70%\">"
   ]
  },
  {
   "cell_type": "markdown",
   "metadata": {},
   "source": [
    "That is a list of jobs for Python developers."
   ]
  },
  {
   "cell_type": "markdown",
   "metadata": {},
   "source": [
    "Let's go get that data, and then we'll explain what we did."
   ]
  },
  {
   "cell_type": "code",
   "execution_count": 5,
   "metadata": {},
   "outputs": [
    {
     "data": {
      "text/plain": [
       "{'resultCount': 50,\n",
       " 'results': {'wrapperType': 'track',\n",
       "  'kind': 'music-video',\n",
       "  'artistId': 1419227,\n",
       "  'collectionId': 939779719,\n",
       "  'trackId': 939779783,\n",
       "  'artistName': 'Beyoncé',\n",
       "  'collectionName': 'BEYONCÉ (More Only) - EP',\n",
       "  'trackName': '1+1',\n",
       "  'collectionCensoredName': 'BEYONCÉ (More Only) - EP',\n",
       "  'trackCensoredName': '1+1 (Live from Mrs. Carter Show World Tour)',\n",
       "  'artistViewUrl': 'https://music.apple.com/us/artist/beyonc%C3%A9/1419227?uo=4',\n",
       "  'collectionViewUrl': 'https://music.apple.com/us/music-video/1-1-live-from-mrs-carter-show-world-tour/939779783?uo=4',\n",
       "  'trackViewUrl': 'https://music.apple.com/us/music-video/1-1-live-from-mrs-carter-show-world-tour/939779783?uo=4',\n",
       "  'previewUrl': 'https://video-ssl.itunes.apple.com/itunes-assets/Video128/v4/b1/77/09/b177099e-8896-f8e8-fbd0-32a07043a198/mzvf_4178862957106535709.640x480.h264lc.U.p.m4v',\n",
       "  'artworkUrl30': 'https://is1-ssl.mzstatic.com/image/thumb/Video3/v4/e5/ab/42/e5ab42d9-ce31-160f-d5c7-668b9a0200a2/source/30x30bb.jpg',\n",
       "  'artworkUrl60': 'https://is1-ssl.mzstatic.com/image/thumb/Video3/v4/e5/ab/42/e5ab42d9-ce31-160f-d5c7-668b9a0200a2/source/60x60bb.jpg',\n",
       "  'artworkUrl100': 'https://is1-ssl.mzstatic.com/image/thumb/Video3/v4/e5/ab/42/e5ab42d9-ce31-160f-d5c7-668b9a0200a2/source/100x100bb.jpg',\n",
       "  'collectionPrice': 8.99,\n",
       "  'trackPrice': 1.99,\n",
       "  'releaseDate': '2011-05-25T07:00:00Z',\n",
       "  'collectionExplicitness': 'explicit',\n",
       "  'trackExplicitness': 'notExplicit',\n",
       "  'discCount': 2,\n",
       "  'discNumber': 2,\n",
       "  'trackCount': 16,\n",
       "  'trackNumber': 7,\n",
       "  'trackTimeMillis': 287635,\n",
       "  'country': 'USA',\n",
       "  'currency': 'USD',\n",
       "  'primaryGenreName': 'Pop'}}"
      ]
     },
     "execution_count": 5,
     "metadata": {},
     "output_type": "execute_result"
    }
   ],
   "source": [
    "import pandas as pd\n",
    "\n",
    "url = \"https://itunes.apple.com/search?term=beyonce&entity=musicVideo\"\n",
    "\n",
    "jobs_df = pd.read_json(url)\n",
    "jobs = jobs_df.to_dict('records')\n",
    "jobs[0]"
   ]
  },
  {
   "cell_type": "code",
   "execution_count": null,
   "metadata": {},
   "outputs": [],
   "source": []
  }
 ],
 "metadata": {
  "kernelspec": {
   "display_name": "Python 3",
   "language": "python",
   "name": "python3"
  },
  "language_info": {
   "codemirror_mode": {
    "name": "ipython",
    "version": 3
   },
   "file_extension": ".py",
   "mimetype": "text/x-python",
   "name": "python",
   "nbconvert_exporter": "python",
   "pygments_lexer": "ipython3",
   "version": "3.7.4"
  }
 },
 "nbformat": 4,
 "nbformat_minor": 4
}
