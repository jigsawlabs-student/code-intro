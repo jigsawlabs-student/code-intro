{
 "cells": [
  {
   "cell_type": "markdown",
   "metadata": {},
   "source": [
    "# Working with Nested Data"
   ]
  },
  {
   "cell_type": "markdown",
   "metadata": {},
   "source": [
    "### Introduction"
   ]
  },
  {
   "cell_type": "markdown",
   "metadata": {},
   "source": [
    "Believe it or not, we are now ready to work with data from the web."
   ]
  },
  {
   "cell_type": "markdown",
   "metadata": {},
   "source": [
    "Do you feel ready?  Good."
   ]
  },
  {
   "cell_type": "markdown",
   "metadata": {},
   "source": [
    "## Getting Our Data"
   ]
  },
  {
   "cell_type": "markdown",
   "metadata": {},
   "source": [
    "When we get data in the real world, it often comes in the same format: a list of dictionaries.  Good thing for us, we know lists and we know dictionaries.\n",
    "\n",
    "Let's see this by way of example.  Below is the web address of a website that allows programmers to find jobs."
   ]
  },
  {
   "cell_type": "markdown",
   "metadata": {},
   "source": [
    "\"https://jobs.github.com/positions.json?description=python&location=new+york\""
   ]
  },
  {
   "cell_type": "markdown",
   "metadata": {},
   "source": [
    "If we go there, we'll see something like the following:"
   ]
  },
  {
   "cell_type": "markdown",
   "metadata": {},
   "source": [
    "<img src=\"https://storage.cloud.google.com/curriculum-assets/curriculum-assets.nosync/mom-files/github-jobs.png\" width=\"50%\">"
   ]
  },
  {
   "cell_type": "markdown",
   "metadata": {},
   "source": [
    "> When we go to that URL above, and getting back information, we are accessing an API.  APIs are really cool because they allow programmers to access information gathered by other companies.  For example, above we are getting a list of job openings from Github's API.  If you'd like to see different kinds of data we can get from APIs, [click here](https://github.com/public-apis/public-apis)."
   ]
  },
  {
   "cell_type": "markdown",
   "metadata": {},
   "source": [
    "Ok, so that mix of green and blue text above may look like a mess, but really it is just a list of dictionaries."
   ]
  },
  {
   "cell_type": "markdown",
   "metadata": {},
   "source": [
    "```python\n",
    "[\n",
    "    {'title': 'Senior Developer', 'company': 'Postmates'},\n",
    "    {'title': 'Junior Developer', 'company': 'Bento Box'}\n",
    "]\n",
    "```"
   ]
  },
  {
   "cell_type": "markdown",
   "metadata": {},
   "source": [
    "And while reading through all of that green and blue text is not sustainable, asking questions of a list of dictionaries is.  In fact, we do it all of the time in programming."
   ]
  },
  {
   "cell_type": "markdown",
   "metadata": {},
   "source": [
    "Let's learn how to ask questions of a list of dictionaries.  It's great training working with data from the Internet."
   ]
  },
  {
   "cell_type": "markdown",
   "metadata": {},
   "source": [
    "## Let's get a job"
   ]
  },
  {
   "cell_type": "markdown",
   "metadata": {},
   "source": [
    "* First review"
   ]
  },
  {
   "cell_type": "markdown",
   "metadata": {},
   "source": [
    "Remember with a dictionary, we use the squiggly brackets to create the dictionary `{}`."
   ]
  },
  {
   "cell_type": "code",
   "execution_count": 1,
   "metadata": {},
   "outputs": [],
   "source": [
    "developer_job = {'company': 'Postmates', 'title': 'senior developer'}"
   ]
  },
  {
   "cell_type": "markdown",
   "metadata": {},
   "source": [
    "> Press shift + enter to assign the dictionary to `developer_job`."
   ]
  },
  {
   "cell_type": "markdown",
   "metadata": {},
   "source": [
    "And we use the square brackets to access data from a dictionary."
   ]
  },
  {
   "cell_type": "code",
   "execution_count": 2,
   "metadata": {},
   "outputs": [
    {
     "data": {
      "text/plain": [
       "'Postmates'"
      ]
     },
     "execution_count": 2,
     "metadata": {},
     "output_type": "execute_result"
    }
   ],
   "source": [
    "developer_job['company']"
   ]
  },
  {
   "cell_type": "markdown",
   "metadata": {},
   "source": [
    "As we said, we think of this as asking questions of our dictionary.  Hey `developer_job`, what is the `'title'` of the job? \n",
    "\n",
    "And our dictionary responds with `senior developer`."
   ]
  },
  {
   "cell_type": "markdown",
   "metadata": {},
   "source": [
    "* Now for nested data"
   ]
  },
  {
   "cell_type": "markdown",
   "metadata": {},
   "source": [
    "Ok, now below we assign a a list of jobs to the variable `jobs`."
   ]
  },
  {
   "cell_type": "code",
   "execution_count": 101,
   "metadata": {},
   "outputs": [
    {
     "data": {
      "text/plain": [
       "[{'company': 'Postmates', 'title': 'Senior Developer'},\n",
       " {'company': 'Bento Box', 'title': 'Python Programmer'}]"
      ]
     },
     "execution_count": 101,
     "metadata": {},
     "output_type": "execute_result"
    }
   ],
   "source": [
    "jobs = [\n",
    "    {'company': 'Postmates', 'title': 'Senior Developer'},\n",
    "    {'company': 'Bento Box', 'title': 'Python Programmer'}\n",
    "]\n",
    "jobs"
   ]
  },
  {
   "cell_type": "markdown",
   "metadata": {},
   "source": [
    "Remember that we use the index to retreive a specific element from a list.  Ok, let's ask our list above for the first job."
   ]
  },
  {
   "cell_type": "markdown",
   "metadata": {},
   "source": [
    "> Press shift + return below."
   ]
  },
  {
   "cell_type": "code",
   "execution_count": 135,
   "metadata": {},
   "outputs": [
    {
     "data": {
      "text/plain": [
       "{'company': 'Postmates', 'title': 'Senior Developer'}"
      ]
     },
     "execution_count": 135,
     "metadata": {},
     "output_type": "execute_result"
    }
   ],
   "source": [
    "jobs[0]"
   ]
  },
  {
   "cell_type": "markdown",
   "metadata": {},
   "source": [
    "> It gives us the first element in the list, the dictionary representing the job from `Postmates`."
   ]
  },
  {
   "cell_type": "markdown",
   "metadata": {},
   "source": [
    "Now, on your own, access the second element from the list of jobs in the cell below."
   ]
  },
  {
   "cell_type": "markdown",
   "metadata": {},
   "source": [
    "> Think about asking the `jobs` list a question.  If you're correct, you'll see the return value below the cell match what we have commented out."
   ]
  },
  {
   "cell_type": "code",
   "execution_count": 159,
   "metadata": {},
   "outputs": [],
   "source": [
    "\n",
    "\n",
    "# {'company': 'Bento Box', 'title': 'Python Programmer'}"
   ]
  },
  {
   "cell_type": "markdown",
   "metadata": {},
   "source": [
    "> Audio help.  Press shift + return to hear it below."
   ]
  },
  {
   "cell_type": "code",
   "execution_count": 168,
   "metadata": {},
   "outputs": [],
   "source": [
    "beginning = \"https://storage.googleapis.com/curriculum-assets/curriculum-assets.nosync/mom-files/\"\n",
    "\n",
    "import IPython.display as ipd\n",
    "ipd.Audio(beginning + \"nested-data-select-first.wav\")"
   ]
  },
  {
   "cell_type": "markdown",
   "metadata": {},
   "source": [
    "### More complicated"
   ]
  },
  {
   "cell_type": "markdown",
   "metadata": {},
   "source": [
    "Now let's try to dig further inside of this list."
   ]
  },
  {
   "cell_type": "code",
   "execution_count": 104,
   "metadata": {},
   "outputs": [
    {
     "data": {
      "text/plain": [
       "[{'company': 'Postmates', 'title': 'Senior Developer'},\n",
       " {'company': 'Bento Box', 'title': 'Python Programmer'}]"
      ]
     },
     "execution_count": 104,
     "metadata": {},
     "output_type": "execute_result"
    }
   ],
   "source": [
    "jobs = [\n",
    "    {'company': 'Postmates', 'title': 'Senior Developer'},\n",
    "    {'company': 'Bento Box', 'title': 'Python Programmer'}\n",
    "]\n",
    "jobs"
   ]
  },
  {
   "cell_type": "markdown",
   "metadata": {},
   "source": [
    "We'll start by trying to select the `title` of the **last element**, which is `Senior Developer`.  Notice that we can't do this directly.  All we have is a variable that points to the list of `jobs`.  \n",
    "\n",
    "But in that list of `jobs`, as it's last element is the dictionary representing the second job, and inside that dictionary is the `title` of `Python Programmer`."
   ]
  },
  {
   "cell_type": "markdown",
   "metadata": {},
   "source": [
    "So to get there, we need to ask two questions:"
   ]
  },
  {
   "cell_type": "markdown",
   "metadata": {},
   "source": [
    "1. Hey, `jobs`, what's your second element\n",
    "2. Hey second element, what's your `title`"
   ]
  },
  {
   "cell_type": "markdown",
   "metadata": {},
   "source": [
    "`jobs -> second job -> title`"
   ]
  },
  {
   "cell_type": "markdown",
   "metadata": {},
   "source": [
    "So that's the path we need to go through to access our data.  Let's try it."
   ]
  },
  {
   "cell_type": "markdown",
   "metadata": {},
   "source": [
    "1. Start with the list of jobs and ask for the second element"
   ]
  },
  {
   "cell_type": "code",
   "execution_count": 105,
   "metadata": {},
   "outputs": [
    {
     "data": {
      "text/plain": [
       "{'company': 'Bento Box', 'title': 'Python Programmer'}"
      ]
     },
     "execution_count": 105,
     "metadata": {},
     "output_type": "execute_result"
    }
   ],
   "source": [
    "jobs[1]"
   ]
  },
  {
   "cell_type": "markdown",
   "metadata": {},
   "source": [
    "2. Now that we have the second element, ask for the `title`"
   ]
  },
  {
   "cell_type": "code",
   "execution_count": 106,
   "metadata": {},
   "outputs": [
    {
     "data": {
      "text/plain": [
       "'Python Programmer'"
      ]
     },
     "execution_count": 106,
     "metadata": {},
     "output_type": "execute_result"
    }
   ],
   "source": [
    "jobs[1]['title']"
   ]
  },
  {
   "cell_type": "markdown",
   "metadata": {},
   "source": [
    "> Notice that there are no spaces in the line above."
   ]
  },
  {
   "cell_type": "markdown",
   "metadata": {},
   "source": [
    "### A little analogy"
   ]
  },
  {
   "cell_type": "markdown",
   "metadata": {},
   "source": [
    "So we accessed this information with the following logic:"
   ]
  },
  {
   "cell_type": "markdown",
   "metadata": {},
   "source": [
    "`jobs -> second job -> title`"
   ]
  },
  {
   "cell_type": "markdown",
   "metadata": {},
   "source": [
    "Now for an analogy.  Let's think of our data as a mailbox."
   ]
  },
  {
   "cell_type": "markdown",
   "metadata": {},
   "source": [
    "<img src=\"https://storage.googleapis.com/curriculum-assets/curriculum-assets.nosync/intro-to-coding/mailboxes.jpg\" width = 30%>"
   ]
  },
  {
   "cell_type": "code",
   "execution_count": 107,
   "metadata": {},
   "outputs": [
    {
     "data": {
      "text/plain": [
       "[{'company': 'Postmates', 'title': 'Senior Developer'},\n",
       " {'company': 'Bento Box', 'title': 'Python Programmer'}]"
      ]
     },
     "execution_count": 107,
     "metadata": {},
     "output_type": "execute_result"
    }
   ],
   "source": [
    "jobs = [\n",
    "    {'company': 'Postmates', 'title': 'Senior Developer'},\n",
    "    {'company': 'Bento Box', 'title': 'Python Programmer'}\n",
    "]\n",
    "jobs"
   ]
  },
  {
   "cell_type": "markdown",
   "metadata": {},
   "source": [
    "* The whole gray mailbox represents the list of **jobs**.  \n",
    "* Each door contains a different element in our list.  \n",
    "* Then inside the mailbox representing a specific job, there are different pieces of information about that job."
   ]
  },
  {
   "cell_type": "markdown",
   "metadata": {},
   "source": [
    "``jobs -> second job -> title``"
   ]
  },
  {
   "cell_type": "code",
   "execution_count": 108,
   "metadata": {},
   "outputs": [
    {
     "data": {
      "text/plain": [
       "'Python Programmer'"
      ]
     },
     "execution_count": 108,
     "metadata": {},
     "output_type": "execute_result"
    }
   ],
   "source": [
    "jobs[1]['title']"
   ]
  },
  {
   "cell_type": "markdown",
   "metadata": {},
   "source": [
    "Ok, now it's your turn to practice.  \n",
    "\n",
    "Once again, here is our list of jobs."
   ]
  },
  {
   "cell_type": "code",
   "execution_count": 110,
   "metadata": {},
   "outputs": [],
   "source": [
    "jobs = [{'company': 'Postmates', 'title': 'Senior Developer'},\n",
    " {'company': 'Bento Box', 'title': 'Python Programmer'}]"
   ]
  },
  {
   "cell_type": "markdown",
   "metadata": {},
   "source": [
    "Select the company related to the first job.  You'll see it's correct if pressing `shift + return` returns the string `'Postmates'`. "
   ]
  },
  {
   "cell_type": "code",
   "execution_count": 143,
   "metadata": {},
   "outputs": [
    {
     "data": {
      "text/plain": [
       "'Postmates'"
      ]
     },
     "execution_count": 143,
     "metadata": {},
     "output_type": "execute_result"
    }
   ],
   "source": [
    "\n",
    "\n",
    "# 'Postmates'"
   ]
  },
  {
   "cell_type": "markdown",
   "metadata": {},
   "source": [
    "> Walkthrough below.  Press shift + enter to hear audio."
   ]
  },
  {
   "cell_type": "code",
   "execution_count": 167,
   "metadata": {},
   "outputs": [],
   "source": [
    "beginning = \"https://storage.googleapis.com/curriculum-assets/curriculum-assets.nosync/mom-files/\"\n",
    "\n",
    "import IPython.display as ipd\n",
    "ipd.Audio(beginning + \"selecting-nested.wav\")"
   ]
  },
  {
   "cell_type": "markdown",
   "metadata": {},
   "source": [
    "If you were able to do this, congratulations :)  You are certainly on your way.  The reason why being able to work with nested data structures is so important is because we see them so often on the web.\n",
    "\n",
    "In fact let's go get some live jobs data right now."
   ]
  },
  {
   "cell_type": "markdown",
   "metadata": {},
   "source": [
    "### Wrapping Up"
   ]
  },
  {
   "cell_type": "code",
   "execution_count": 149,
   "metadata": {},
   "outputs": [],
   "source": [
    "import pandas as pd\n",
    "url = \"https://jobs.github.com/positions.json?description=python&location=new+york\"\n",
    "jobs_df = pd.read_json(url)\n",
    "internet_jobs = jobs_df.to_dict('records')"
   ]
  },
  {
   "cell_type": "markdown",
   "metadata": {},
   "source": [
    "> Press shift + return on the cell above.\n",
    "\n",
    "Guess what, we just gathered a list of jobs from the Internet.  Now if we look at the entire list we'll see that it's too much information to handle.  In fact, let's just look at the first dictionary."
   ]
  },
  {
   "cell_type": "code",
   "execution_count": 114,
   "metadata": {},
   "outputs": [
    {
     "data": {
      "text/plain": [
       "{'id': '62036836-5b6b-4e69-a9d5-805e3f4f4ff1',\n",
       " 'type': 'Full Time',\n",
       " 'url': 'https://jobs.github.com/positions/62036836-5b6b-4e69-a9d5-805e3f4f4ff1',\n",
       " 'created_at': Timestamp('2019-12-18 17:05:11+0000', tz='UTC'),\n",
       " 'company': 'Markacy',\n",
       " 'company_url': 'http://www.markacy.com',\n",
       " 'location': 'New York City, NY, USA',\n",
       " 'title': 'Senior Shopify Developer',\n",
       " 'description': '<p>We are looking for a Shopify Expert to join our rapidly growing team to implement and maintain functional web pages and third-party integrations for our clients.</p>\\n<p>Senior Web Developer responsibilities include working with Markacy leadership and client teams to understand, document requirements and execute weekly growth tests on the website to increase key client metrics. To be successful in this role, you should have extensive experience building web pages from scratch and in-depth knowledge of Shopify, WordPress, and other major CMS E-commerce platforms. You should also have experience using HotJar, Google Analytics, Google Optimize, etc., to understand site performance and identify opportunity areas to improve user friction and conversion rate.</p>\\n<p><em>Marketing Agency Experience Or Fast Paced Development Environment A Plus!\"</em></p>\\n<p><strong>Must live in NYC area</strong></p>\\n<p>Responsibilities</p>\\n<ul>\\n<li>\\n<p>Deliver top quality HTML, CSS, JQuery and JavaScript front-end code across a broad array of interactive web and mobile projects.</p>\\n</li>\\n<li>\\n<p>Build and maintain mobile-first templates for the content management system (CMS) used by our clients (primarily Shopify).</p>\\n</li>\\n<li>\\n<p>Ensure that all materials produced have a high degree of quality, accuracy, and timeliness and complies with client and Markacy standards.</p>\\n</li>\\n<li>\\n<p>Stay up-to-date on emerging technologies and contribute to the knowledge base at Markacy.</p>\\n</li>\\n<li>\\n<p>Ensure compliance with the Client policies.</p>\\n</li>\\n<li>\\n<p>Collaborate with other front-end and back-end developer team members to troubleshoot and solve coding issues.</p>\\n</li>\\n<li>\\n<p>Act as the team lead to manage work allocation, provide guidance when necessary, handle cross-departmental communication and solve problems to ensure client timelines are met.</p>\\n</li>\\n<li>\\n<p>Ability to leverage web analytics tools (HotJar, Google Analytics, Google Optimize, etc.) to measure and improve client site performance.</p>\\n</li>\\n<li>\\n<p>Work directly with Markacy leadership across client accounts to nominate weekly growth tests that will drive the high value for the brand.</p>\\n</li>\\n</ul>\\n<p>Qualifications</p>\\n<p>Bachelor\\'s degree or equivalent experience in Computer Science.\\nHands-on experience with various programming languages.\\n5+ years\\' of experience using HTML, CSS, and JavaScript.\\nProficiency in at least one server-side technology (Java, PHP, NodeJS, Python, Ruby).\\nAbility to multi-task, organize, and prioritize work.\\nAttention to detail and thinking through downstream dependencies during quality assurance tasks.\\nStrong communication and client-facing skills.\\nExperience integrating various API\\'s and third-party applications.\\nCreative design skills.</p>\\n<p>Requirements</p>\\n<p>Bachelor Degree.\\nExpert in Shopify and other standard CMS platforms.</p>\\n',\n",
       " 'how_to_apply': '<p>Email your resume to <a href=\"mailto:tucker.matheson@markacy.com\">tucker.matheson@markacy.com</a></p>\\n',\n",
       " 'company_logo': 'https://jobs.github.com/rails/active_storage/blobs/eyJfcmFpbHMiOnsibWVzc2FnZSI6IkJBaHBBcXg2IiwiZXhwIjpudWxsLCJwdXIiOiJibG9iX2lkIn19--5a61d4bd4e861cee4320903118c9c035505a49b0/Masthead-980x250.png'}"
      ]
     },
     "execution_count": 114,
     "metadata": {},
     "output_type": "execute_result"
    }
   ],
   "source": [
    "internet_jobs[0]"
   ]
  },
  {
   "cell_type": "markdown",
   "metadata": {},
   "source": [
    "  "
   ]
  },
  {
   "cell_type": "markdown",
   "metadata": {},
   "source": [
    "**But** it's just a dictionary, so we can use the same logic as before to select information from the first dictionary in the list -- `internet_jobs[0]['company']`."
   ]
  },
  {
   "cell_type": "code",
   "execution_count": 116,
   "metadata": {},
   "outputs": [
    {
     "data": {
      "text/plain": [
       "'Markacy'"
      ]
     },
     "execution_count": 116,
     "metadata": {},
     "output_type": "execute_result"
    }
   ],
   "source": [
    "internet_jobs[0]['company']"
   ]
  },
  {
   "cell_type": "markdown",
   "metadata": {},
   "source": [
    "> So you can see that by knowing how to navigate a list of dictionaries, we can browse data that comes from the Internet."
   ]
  },
  {
   "cell_type": "markdown",
   "metadata": {},
   "source": [
    "Try accessing the `company` from the second element in our `internet_jobs` list."
   ]
  },
  {
   "cell_type": "code",
   "execution_count": 150,
   "metadata": {},
   "outputs": [
    {
     "data": {
      "text/plain": [
       "'Aon Cyber Solutions'"
      ]
     },
     "execution_count": 150,
     "metadata": {},
     "output_type": "execute_result"
    }
   ],
   "source": []
  },
  {
   "cell_type": "markdown",
   "metadata": {},
   "source": [
    "And in fact, we can use a loop to print out a list of all of the companies we should reach out to.  "
   ]
  },
  {
   "cell_type": "code",
   "execution_count": 153,
   "metadata": {},
   "outputs": [
    {
     "name": "stdout",
     "output_type": "stream",
     "text": [
      "<p>Email your resume to <a href=\"mailto:tucker.matheson@markacy.com\">tucker.matheson@markacy.com</a></p>\n",
      "\n",
      "<p>APPLY HERE: <a href=\"https://us-strozfriedberg-aon.icims.com/jobs/24315/senior-developer/job\">https://us-strozfriedberg-aon.icims.com/jobs/24315/senior-developer/job</a></p>\n",
      "\n",
      "<p><a href=\"https://jobs.lever.co/sesamecare/26d259b5-5bcc-4ee9-a5d0-068d9c856381?lever-origin=applied&amp;lever-source%5B%5D=GitHub\">https://jobs.lever.co/sesamecare/26d259b5-5bcc-4ee9-a5d0-068d9c856381?lever-origin=applied&amp;lever-source%5B%5D=GitHub</a></p>\n",
      "\n",
      "<p>Apply Here: <a href=\"http://www.Click2apply.net/cyg9sy9m99zdm9v2\">http://www.Click2apply.net/cyg9sy9m99zdm9v2</a></p>\n",
      "\n"
     ]
    }
   ],
   "source": [
    "for job in internet_jobs:\n",
    "     print(job['how_to_apply'])"
   ]
  },
  {
   "cell_type": "markdown",
   "metadata": {},
   "source": [
    "> But we're getting ahead of ourselves.  We'll dedicate future lessons to looping through a list of dictionaries."
   ]
  },
  {
   "cell_type": "markdown",
   "metadata": {},
   "source": [
    "### Summary"
   ]
  },
  {
   "cell_type": "markdown",
   "metadata": {},
   "source": [
    "In this lesson, we saw how to work with nested data structures.  We saw that we can represent a table of data as a list of dictionaries."
   ]
  },
  {
   "cell_type": "code",
   "execution_count": 117,
   "metadata": {},
   "outputs": [],
   "source": [
    "jobs = [{'company': 'Postmates', 'title': 'Senior Developer'},\n",
    " {'company': 'Bento Box', 'title': 'Python Programmer'}]"
   ]
  },
  {
   "cell_type": "markdown",
   "metadata": {},
   "source": [
    "And we can select this data by working from the outside in.  So if we want to get the company of a specific job, we take the following path."
   ]
  },
  {
   "cell_type": "markdown",
   "metadata": {},
   "source": [
    "`jobs -> first job -> company`"
   ]
  },
  {
   "cell_type": "code",
   "execution_count": 118,
   "metadata": {},
   "outputs": [
    {
     "data": {
      "text/plain": [
       "'Postmates'"
      ]
     },
     "execution_count": 118,
     "metadata": {},
     "output_type": "execute_result"
    }
   ],
   "source": [
    "jobs[0]['company']"
   ]
  },
  {
   "cell_type": "markdown",
   "metadata": {},
   "source": [
    "If you feel like you need some more practice with this, take some time and practice.  In the next, lesson, we'll learn how to loop through our data."
   ]
  },
  {
   "cell_type": "markdown",
   "metadata": {},
   "source": [
    "> For more practice use knowledge about nested data structures to select the audio file you want to hear."
   ]
  },
  {
   "cell_type": "code",
   "execution_count": 154,
   "metadata": {},
   "outputs": [],
   "source": [
    "beginning = \"https://storage.googleapis.com/curriculum-assets/curriculum-assets.nosync/mom-files/\"\n",
    "\n",
    "scenes = [\n",
    "    {'audio': 'preposition-short.wav'},\n",
    "    {'audio': 'like-a-dinosaur.wav'}\n",
    "]"
   ]
  },
  {
   "cell_type": "code",
   "execution_count": 162,
   "metadata": {},
   "outputs": [],
   "source": [
    "selected_scene = None"
   ]
  },
  {
   "cell_type": "code",
   "execution_count": 166,
   "metadata": {},
   "outputs": [],
   "source": [
    "import IPython.display as ipd\n",
    "ipd.Audio(beginning + selected_scene)"
   ]
  },
  {
   "cell_type": "markdown",
   "metadata": {},
   "source": [
    "<right> \n",
    "<a href=\"https://colab.research.google.com/github/jigsawlabs-student/code-intro/blob/master/7-make-it-easy.ipynb\">\n",
    "<img src=\"https://storage.cloud.google.com/curriculum-assets/curriculum-assets.nosync/mom-files/pngfuel.com.png\" align=\"right\" style=\"padding-right: 20px\" width=\"10%\">\n",
    "    </a>\n",
    "</right>"
   ]
  },
  {
   "cell_type": "markdown",
   "metadata": {},
   "source": [
    "<center>\n",
    "<a href=\"https://www.jigsawlabs.io/free\" style=\"position: center\"><img src=\"https://storage.cloud.google.com/curriculum-assets/curriculum-assets.nosync/mom-files/jigsaw-labs.png\" width=\"15%\" style=\"text-align: center\"></a>\n",
    "</center>"
   ]
  },
  {
   "cell_type": "markdown",
   "metadata": {},
   "source": [
    "### Answers"
   ]
  },
  {
   "cell_type": "code",
   "execution_count": 164,
   "metadata": {},
   "outputs": [],
   "source": [
    "jobs = [{'company': 'Postmates', 'title': 'Senior Developer'},\n",
    " {'company': 'Bento Box', 'title': 'Python Programmer'}]"
   ]
  },
  {
   "cell_type": "code",
   "execution_count": 163,
   "metadata": {},
   "outputs": [
    {
     "data": {
      "text/plain": [
       "{'company': 'Bento Box', 'title': 'Python Programmer'}"
      ]
     },
     "execution_count": 163,
     "metadata": {},
     "output_type": "execute_result"
    }
   ],
   "source": [
    "jobs[1]"
   ]
  },
  {
   "cell_type": "code",
   "execution_count": 165,
   "metadata": {},
   "outputs": [
    {
     "data": {
      "text/plain": [
       "'Postmates'"
      ]
     },
     "execution_count": 165,
     "metadata": {},
     "output_type": "execute_result"
    }
   ],
   "source": [
    "jobs[0]['company']"
   ]
  },
  {
   "cell_type": "code",
   "execution_count": null,
   "metadata": {},
   "outputs": [],
   "source": [
    "internet_jobs[1]['company']"
   ]
  }
 ],
 "metadata": {
  "kernelspec": {
   "display_name": "Python 3",
   "language": "python",
   "name": "python3"
  },
  "language_info": {
   "codemirror_mode": {
    "name": "ipython",
    "version": 3
   },
   "file_extension": ".py",
   "mimetype": "text/x-python",
   "name": "python",
   "nbconvert_exporter": "python",
   "pygments_lexer": "ipython3",
   "version": "3.7.4"
  }
 },
 "nbformat": 4,
 "nbformat_minor": 4
}
