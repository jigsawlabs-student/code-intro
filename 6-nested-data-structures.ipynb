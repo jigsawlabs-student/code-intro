{
 "cells": [
  {
   "cell_type": "markdown",
   "metadata": {},
   "source": [
    "# Working with Nested Data"
   ]
  },
  {
   "cell_type": "markdown",
   "metadata": {},
   "source": [
    "### Introduction"
   ]
  },
  {
   "cell_type": "markdown",
   "metadata": {},
   "source": [
    "Believe it or not, we are now ready to work with data from the web."
   ]
  },
  {
   "cell_type": "markdown",
   "metadata": {},
   "source": [
    "Do you feel ready?  Good."
   ]
  },
  {
   "cell_type": "markdown",
   "metadata": {},
   "source": [
    "## Getting Our Data"
   ]
  },
  {
   "cell_type": "markdown",
   "metadata": {},
   "source": [
    "When we get data in the real world, it often comes in the same format: a list of dictionaries.  Good thing for us, we know lists and we know dictionaries.\n",
    "\n",
    "Let's see this by way of example.  Below is the web address of a website that lists jobs opening from the City of New York."
   ]
  },
  {
   "cell_type": "markdown",
   "metadata": {},
   "source": [
    "https://data.cityofnewyork.us/resource/kpav-sd4t.json"
   ]
  },
  {
   "cell_type": "markdown",
   "metadata": {},
   "source": [
    "If we go there, we'll see something like the following:"
   ]
  },
  {
   "cell_type": "markdown",
   "metadata": {},
   "source": [
    "<img src=\"./job_listings.png\" width=\"100%\">"
   ]
  },
  {
   "cell_type": "markdown",
   "metadata": {},
   "source": [
    "> When we go to that URL above, and getting back information, we are accessing an API.  APIs are really cool because they allow programmers to access information gathered by other companies.  For example, above we are getting a list of job openings from Github's API.  If you'd like to see different kinds of data we can get from APIs, [click here](https://github.com/public-apis/public-apis)."
   ]
  },
  {
   "cell_type": "markdown",
   "metadata": {},
   "source": [
    "Ok, so that mix of text above may look like a mess, but really it is just a list of dictionaries, where each dictionary is a separate position.  If we simplify it a little, the data takes the following form:"
   ]
  },
  {
   "cell_type": "markdown",
   "metadata": {},
   "source": [
    "```python\n",
    "[\n",
    "    {'agency': 'NYC Housing Authority', 'business_title': 'housing assistant'},\n",
    "    {'agency': 'Office of Management and Budget', 'business_title': 'senior analyst'}\n",
    "]\n",
    "```"
   ]
  },
  {
   "cell_type": "markdown",
   "metadata": {},
   "source": [
    "And while reading through all of the original data is not sustainable, asking questions of a list of dictionaries is.  In fact, we do it all of the time in programming."
   ]
  },
  {
   "cell_type": "markdown",
   "metadata": {},
   "source": [
    "So let's learn how to ask questions of a list of dictionaries as it's great training working with data from the Internet."
   ]
  },
  {
   "cell_type": "markdown",
   "metadata": {},
   "source": [
    "## Let's get a job"
   ]
  },
  {
   "cell_type": "markdown",
   "metadata": {},
   "source": [
    "* First review"
   ]
  },
  {
   "cell_type": "markdown",
   "metadata": {},
   "source": [
    "Remember with a dictionary, we use the squiggly brackets to create the dictionary `{}`."
   ]
  },
  {
   "cell_type": "code",
   "execution_count": 19,
   "metadata": {},
   "outputs": [],
   "source": [
    "nyc_job = {'agency': 'NYC Housing Authority', 'business_title': 'housing assistant'}"
   ]
  },
  {
   "cell_type": "markdown",
   "metadata": {},
   "source": [
    "> Press shift + enter to assign the dictionary to `developer_job`."
   ]
  },
  {
   "cell_type": "markdown",
   "metadata": {},
   "source": [
    "And we use the square brackets to access data from a dictionary."
   ]
  },
  {
   "cell_type": "code",
   "execution_count": 5,
   "metadata": {},
   "outputs": [
    {
     "data": {
      "text/plain": [
       "'housing assistant'"
      ]
     },
     "execution_count": 5,
     "metadata": {},
     "output_type": "execute_result"
    }
   ],
   "source": [
    "nyc_job['business_title']"
   ]
  },
  {
   "cell_type": "markdown",
   "metadata": {},
   "source": [
    "> As we said, we think of this as asking questions of our dictionary.  Hey `nyc_job`, what is the `'business_title'` of the job? \n",
    "\n",
    "And our dictionary responds with `housing assistant`."
   ]
  },
  {
   "cell_type": "markdown",
   "metadata": {},
   "source": [
    "* Now for nested data"
   ]
  },
  {
   "cell_type": "markdown",
   "metadata": {},
   "source": [
    "Ok, now below we assign a a list of jobs to the variable `jobs`."
   ]
  },
  {
   "cell_type": "code",
   "execution_count": 11,
   "metadata": {},
   "outputs": [
    {
     "data": {
      "text/plain": [
       "[{'agency': 'NYC Housing Authority', 'business_title': 'Housing Assistant'},\n",
       " {'agency': 'Office of Management and Budget',\n",
       "  'business_title': 'Senior Analyst'}]"
      ]
     },
     "execution_count": 11,
     "metadata": {},
     "output_type": "execute_result"
    }
   ],
   "source": [
    "jobs = [\n",
    "    {'agency': 'NYC Housing Authority', 'business_title': 'Housing Assistant'},\n",
    "    {'agency': 'Office of Management and Budget', 'business_title': 'Senior Analyst'}\n",
    "]\n",
    "\n",
    "jobs"
   ]
  },
  {
   "cell_type": "markdown",
   "metadata": {},
   "source": [
    "Remember that we use the index to retreive a specific element from a list.  Ok, let's ask our list above for the first job."
   ]
  },
  {
   "cell_type": "markdown",
   "metadata": {},
   "source": [
    "> Press shift + return below."
   ]
  },
  {
   "cell_type": "code",
   "execution_count": 7,
   "metadata": {},
   "outputs": [
    {
     "data": {
      "text/plain": [
       "{'agency': 'NYC Housing Authority', 'business_title': 'housing assistant'}"
      ]
     },
     "execution_count": 7,
     "metadata": {},
     "output_type": "execute_result"
    }
   ],
   "source": [
    "jobs[0]"
   ]
  },
  {
   "cell_type": "markdown",
   "metadata": {},
   "source": [
    "> It gives us the first element in the list, the dictionary representing the job from the `NYC Housing Authority`."
   ]
  },
  {
   "cell_type": "markdown",
   "metadata": {},
   "source": [
    "Now, on your own, access the second element from the list of jobs in the cell below."
   ]
  },
  {
   "cell_type": "markdown",
   "metadata": {},
   "source": [
    "> Think about asking the `jobs` list a question.  If you're correct, you'll see the return value below the cell match what we have commented out."
   ]
  },
  {
   "cell_type": "code",
   "execution_count": 8,
   "metadata": {},
   "outputs": [],
   "source": [
    "\n",
    "\n",
    "# {'agency': 'Office of Management and Budget',  'business_title': 'senior analyst'}"
   ]
  },
  {
   "cell_type": "markdown",
   "metadata": {},
   "source": [
    "### More complicated"
   ]
  },
  {
   "cell_type": "markdown",
   "metadata": {},
   "source": [
    "Now let's try to dig further inside of this list."
   ]
  },
  {
   "cell_type": "code",
   "execution_count": 12,
   "metadata": {},
   "outputs": [
    {
     "data": {
      "text/plain": [
       "[{'agency': 'NYC Housing Authority', 'business_title': 'Housing Assistant'},\n",
       " {'agency': 'Office of Management and Budget',\n",
       "  'business_title': 'Senior Analyst'}]"
      ]
     },
     "execution_count": 12,
     "metadata": {},
     "output_type": "execute_result"
    }
   ],
   "source": [
    "jobs = [\n",
    "    {'agency': 'NYC Housing Authority', 'business_title': 'Housing Assistant'},\n",
    "    {'agency': 'Office of Management and Budget', 'business_title': 'Senior Analyst'}\n",
    "]\n",
    "jobs"
   ]
  },
  {
   "cell_type": "markdown",
   "metadata": {},
   "source": [
    "We'll start by trying to select the `title` of the **last element**, which is `Senior Analyst`.  Notice that we can't do this directly.  All we are starting with is a variable that points to the list of `jobs`.  \n",
    "\n",
    "But in that list of `jobs`, as it's last element is the dictionary representing the second job, and inside that dictionary is the `business_title` of `Senior Analyst`."
   ]
  },
  {
   "cell_type": "markdown",
   "metadata": {},
   "source": [
    "So to get there, we need to ask two questions:"
   ]
  },
  {
   "cell_type": "markdown",
   "metadata": {},
   "source": [
    "1. Hey, `jobs`, what's your second element\n",
    "2. Hey second element, what's your `business_title`"
   ]
  },
  {
   "cell_type": "markdown",
   "metadata": {},
   "source": [
    "`jobs -> second job -> title`"
   ]
  },
  {
   "cell_type": "markdown",
   "metadata": {},
   "source": [
    "So that's the path we need to go through to access our data.  Let's try it."
   ]
  },
  {
   "cell_type": "markdown",
   "metadata": {},
   "source": [
    "1. Start with the list of jobs and ask for the second element"
   ]
  },
  {
   "cell_type": "code",
   "execution_count": 13,
   "metadata": {},
   "outputs": [
    {
     "data": {
      "text/plain": [
       "{'agency': 'Office of Management and Budget',\n",
       " 'business_title': 'Senior Analyst'}"
      ]
     },
     "execution_count": 13,
     "metadata": {},
     "output_type": "execute_result"
    }
   ],
   "source": [
    "jobs[1]"
   ]
  },
  {
   "cell_type": "markdown",
   "metadata": {},
   "source": [
    "2. Now that we have the second element, ask for the `business_title`"
   ]
  },
  {
   "cell_type": "code",
   "execution_count": 15,
   "metadata": {},
   "outputs": [
    {
     "data": {
      "text/plain": [
       "'Senior Analyst'"
      ]
     },
     "execution_count": 15,
     "metadata": {},
     "output_type": "execute_result"
    }
   ],
   "source": [
    "jobs[1]['business_title']"
   ]
  },
  {
   "cell_type": "markdown",
   "metadata": {},
   "source": [
    "> Notice that there are no spaces in the line above."
   ]
  },
  {
   "cell_type": "markdown",
   "metadata": {},
   "source": [
    "### A little analogy"
   ]
  },
  {
   "cell_type": "markdown",
   "metadata": {},
   "source": [
    "So we accessed this information with the following logic:"
   ]
  },
  {
   "cell_type": "markdown",
   "metadata": {},
   "source": [
    "`jobs -> second job -> business_title`"
   ]
  },
  {
   "cell_type": "markdown",
   "metadata": {},
   "source": [
    "Now for an analogy.  Let's think of our data as a mailbox."
   ]
  },
  {
   "cell_type": "markdown",
   "metadata": {},
   "source": [
    "<img src=\"mailboxes.jpg\" width = 30%>"
   ]
  },
  {
   "cell_type": "code",
   "execution_count": 16,
   "metadata": {},
   "outputs": [
    {
     "data": {
      "text/plain": [
       "[{'agency': 'NYC Housing Authority', 'business_title': 'Housing Assistant'},\n",
       " {'agency': 'Office of Management and Budget',\n",
       "  'business_title': 'Senior Analyst'}]"
      ]
     },
     "execution_count": 16,
     "metadata": {},
     "output_type": "execute_result"
    }
   ],
   "source": [
    "jobs = [\n",
    "    {'agency': 'NYC Housing Authority', 'business_title': 'Housing Assistant'},\n",
    "    {'agency': 'Office of Management and Budget', 'business_title': 'Senior Analyst'}\n",
    "]\n",
    "jobs"
   ]
  },
  {
   "cell_type": "markdown",
   "metadata": {},
   "source": [
    "* The whole gray mailbox represents the list of **jobs**.  \n",
    "* Each door contains a different element in our list.  \n",
    "* Then inside the mailbox representing a specific job, there are different pieces of information about that job."
   ]
  },
  {
   "cell_type": "markdown",
   "metadata": {},
   "source": [
    "``jobs -> second job -> title``"
   ]
  },
  {
   "cell_type": "code",
   "execution_count": 108,
   "metadata": {},
   "outputs": [
    {
     "data": {
      "text/plain": [
       "'Python Programmer'"
      ]
     },
     "execution_count": 108,
     "metadata": {},
     "output_type": "execute_result"
    }
   ],
   "source": [
    "jobs[1]['title']"
   ]
  },
  {
   "cell_type": "markdown",
   "metadata": {},
   "source": [
    "Ok, now it's your turn to practice.  Once again, here is our list of jobs."
   ]
  },
  {
   "cell_type": "code",
   "execution_count": 17,
   "metadata": {},
   "outputs": [],
   "source": [
    "jobs = [\n",
    "    {'agency': 'NYC Housing Authority', 'business_title': 'Housing Assistant'},\n",
    "    {'agency': 'Office of Management and Budget', 'business_title': 'Senior Analyst'}\n",
    "]"
   ]
  },
  {
   "cell_type": "markdown",
   "metadata": {},
   "source": [
    "Select the agency related to the first job.  You'll see it's correct if pressing `shift + return` returns the string `'NYC Housing Authority'`. "
   ]
  },
  {
   "cell_type": "code",
   "execution_count": 18,
   "metadata": {},
   "outputs": [],
   "source": [
    "\n",
    "\n",
    "# 'NYC Housing Authority'"
   ]
  },
  {
   "cell_type": "markdown",
   "metadata": {},
   "source": [
    "If you were able to do this, congratulations :)  You are certainly on your way.  The reason why being able to work with nested data structures is so important is because we see them so often on the web.\n",
    "\n",
    "In fact let's go get some live jobs data right now."
   ]
  },
  {
   "cell_type": "markdown",
   "metadata": {},
   "source": [
    "### Wrapping Up"
   ]
  },
  {
   "cell_type": "code",
   "execution_count": 21,
   "metadata": {},
   "outputs": [],
   "source": [
    "import pandas as pd\n",
    "url = \"https://data.cityofnewyork.us/resource/kpav-sd4t.json\"\n",
    "jobs_df = pd.read_json(url)\n",
    "internet_jobs = jobs_df.to_dict('records')"
   ]
  },
  {
   "cell_type": "markdown",
   "metadata": {},
   "source": [
    "> Press shift + return on the cell above.\n",
    "\n",
    "Guess what, we just gathered a list of jobs from the Internet.  Now if we look at the entire list we'll see that it's too much information to handle.  In fact, let's just look at the first dictionary."
   ]
  },
  {
   "cell_type": "code",
   "execution_count": null,
   "metadata": {},
   "outputs": [],
   "source": [
    "internet_jobs[0]"
   ]
  },
  {
   "cell_type": "markdown",
   "metadata": {},
   "source": [
    "  "
   ]
  },
  {
   "cell_type": "markdown",
   "metadata": {},
   "source": [
    "**But** it's just a dictionary, so we can use the same logic as before to select information from the first dictionary in the list -- `internet_jobs[0]['company']`."
   ]
  },
  {
   "cell_type": "code",
   "execution_count": null,
   "metadata": {},
   "outputs": [],
   "source": [
    "internet_jobs[0]['agency']"
   ]
  },
  {
   "cell_type": "markdown",
   "metadata": {},
   "source": [
    "> So you can see that by knowing how to navigate a list of dictionaries, we can browse data that comes from the Internet."
   ]
  },
  {
   "cell_type": "markdown",
   "metadata": {},
   "source": [
    "Try accessing the `agency` from the second element in our `internet_jobs` list."
   ]
  },
  {
   "cell_type": "code",
   "execution_count": null,
   "metadata": {},
   "outputs": [],
   "source": []
  },
  {
   "cell_type": "markdown",
   "metadata": {},
   "source": [
    "And in fact, we can use a loop to print out a list of all of the companies we should reach out to.  "
   ]
  },
  {
   "cell_type": "code",
   "execution_count": 153,
   "metadata": {},
   "outputs": [
    {
     "name": "stdout",
     "output_type": "stream",
     "text": [
      "<p>Email your resume to <a href=\"mailto:tucker.matheson@markacy.com\">tucker.matheson@markacy.com</a></p>\n",
      "\n",
      "<p>APPLY HERE: <a href=\"https://us-strozfriedberg-aon.icims.com/jobs/24315/senior-developer/job\">https://us-strozfriedberg-aon.icims.com/jobs/24315/senior-developer/job</a></p>\n",
      "\n",
      "<p><a href=\"https://jobs.lever.co/sesamecare/26d259b5-5bcc-4ee9-a5d0-068d9c856381?lever-origin=applied&amp;lever-source%5B%5D=GitHub\">https://jobs.lever.co/sesamecare/26d259b5-5bcc-4ee9-a5d0-068d9c856381?lever-origin=applied&amp;lever-source%5B%5D=GitHub</a></p>\n",
      "\n",
      "<p>Apply Here: <a href=\"http://www.Click2apply.net/cyg9sy9m99zdm9v2\">http://www.Click2apply.net/cyg9sy9m99zdm9v2</a></p>\n",
      "\n"
     ]
    }
   ],
   "source": [
    "for job in internet_jobs:\n",
    "     print(job['to_apply'])"
   ]
  },
  {
   "cell_type": "markdown",
   "metadata": {},
   "source": [
    "> But we're getting ahead of ourselves.  We'll dedicate future lessons to looping through a list of dictionaries."
   ]
  },
  {
   "cell_type": "markdown",
   "metadata": {},
   "source": [
    "### Summary"
   ]
  },
  {
   "cell_type": "markdown",
   "metadata": {},
   "source": [
    "In this lesson, we saw how to work with nested data structures.  We saw that we can represent a table of data as a list of dictionaries."
   ]
  },
  {
   "cell_type": "code",
   "execution_count": 117,
   "metadata": {},
   "outputs": [],
   "source": [
    "jobs = [\n",
    "    {'agency': 'NYC Housing Authority', 'business_title': 'Housing Assistant'},\n",
    "    {'agency': 'Office of Management and Budget', 'business_title': 'Senior Analyst'}\n",
    "]"
   ]
  },
  {
   "cell_type": "markdown",
   "metadata": {},
   "source": [
    "And we can select this data by working from the outside in.  So if we want to get the company of a specific job, we take the following path."
   ]
  },
  {
   "cell_type": "markdown",
   "metadata": {},
   "source": [
    "`jobs -> first job -> agency`"
   ]
  },
  {
   "cell_type": "code",
   "execution_count": 22,
   "metadata": {},
   "outputs": [
    {
     "data": {
      "text/plain": [
       "'NYC Housing Authority'"
      ]
     },
     "execution_count": 22,
     "metadata": {},
     "output_type": "execute_result"
    }
   ],
   "source": [
    "jobs[0]['agency']"
   ]
  },
  {
   "cell_type": "markdown",
   "metadata": {},
   "source": [
    "If you feel like you need some more practice with this, take some time and practice.  In the next, lesson, we'll learn how to loop through our data."
   ]
  },
  {
   "cell_type": "markdown",
   "metadata": {},
   "source": [
    "> For more practice click on the video below."
   ]
  },
  {
   "cell_type": "markdown",
   "metadata": {},
   "source": [
    "[Nested data review video](https://www.youtube.com/watch?v=OPry8oI-bg0&list=PLCG6Te769p1gkVJizwSmo6GoEI9oHoAPA&index=15&ab_channel=JigsawLabs)"
   ]
  },
  {
   "cell_type": "markdown",
   "metadata": {},
   "source": [
    "<right> \n",
    "<a href=\"https://colab.research.google.com/github/jigsawlabs-student/code-intro/blob/master/7-make-it-easy.ipynb\">\n",
    "<img src=\"next-yellow.jpg\" align=\"right\" style=\"padding-right: 20px\" width=\"10%\">\n",
    "    </a>\n",
    "</right>"
   ]
  },
  {
   "cell_type": "markdown",
   "metadata": {},
   "source": [
    "<center>\n",
    "<a href=\"https://www.jigsawlabs.io\" style=\"position: center\"><img src=\"jigsaw-icon.png\" width=\"15%\" style=\"text-align: center\"></a>\n",
    "</center>"
   ]
  },
  {
   "cell_type": "markdown",
   "metadata": {},
   "source": [
    "### Answers"
   ]
  },
  {
   "cell_type": "code",
   "execution_count": 164,
   "metadata": {},
   "outputs": [],
   "source": [
    "jobs = [{'company': 'Postmates', 'title': 'Senior Developer'},\n",
    " {'company': 'Bento Box', 'title': 'Python Programmer'}]"
   ]
  },
  {
   "cell_type": "code",
   "execution_count": 163,
   "metadata": {},
   "outputs": [
    {
     "data": {
      "text/plain": [
       "{'company': 'Bento Box', 'title': 'Python Programmer'}"
      ]
     },
     "execution_count": 163,
     "metadata": {},
     "output_type": "execute_result"
    }
   ],
   "source": [
    "jobs[1]"
   ]
  },
  {
   "cell_type": "code",
   "execution_count": 165,
   "metadata": {},
   "outputs": [
    {
     "data": {
      "text/plain": [
       "'Postmates'"
      ]
     },
     "execution_count": 165,
     "metadata": {},
     "output_type": "execute_result"
    }
   ],
   "source": [
    "jobs[0]['company']"
   ]
  },
  {
   "cell_type": "code",
   "execution_count": null,
   "metadata": {},
   "outputs": [],
   "source": [
    "internet_jobs[1]['company']"
   ]
  }
 ],
 "metadata": {
  "kernelspec": {
   "display_name": "Python 3",
   "language": "python",
   "name": "python3"
  },
  "language_info": {
   "codemirror_mode": {
    "name": "ipython",
    "version": 3
   },
   "file_extension": ".py",
   "mimetype": "text/x-python",
   "name": "python",
   "nbconvert_exporter": "python",
   "pygments_lexer": "ipython3",
   "version": "3.8.8"
  }
 },
 "nbformat": 4,
 "nbformat_minor": 4
}
