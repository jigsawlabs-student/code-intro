{
 "cells": [
  {
   "cell_type": "markdown",
   "id": "c7c795fe-a699-447c-90b0-baa15e365a90",
   "metadata": {},
   "source": [
    "# Advanced Queries With Data"
   ]
  },
  {
   "cell_type": "markdown",
   "id": "a44e576a-6ccd-427b-bf6d-134027062911",
   "metadata": {},
   "source": [
    "### Introduction"
   ]
  },
  {
   "cell_type": "markdown",
   "id": "a0eba4bd-1a88-421f-8e3a-df122cd1516a",
   "metadata": {},
   "source": [
    "In this lesson, we'll learn some strategies for working with messy data, so that we can better answer questions.  Along the way, we'll learn about the `and` and `or` operators, as well as cleaning our list of dictionaries."
   ]
  },
  {
   "cell_type": "markdown",
   "id": "3d982681-41fc-40d7-ab5a-9136d4574c94",
   "metadata": {},
   "source": [
    "### Loading our Data"
   ]
  },
  {
   "cell_type": "markdown",
   "id": "ca68e85d-d93e-4e4c-9c9e-dd6fb0cee937",
   "metadata": {},
   "source": [
    "Let's begin with loading our data from a CSV file and assigning our list of dictionaries to the variable `users`."
   ]
  },
  {
   "cell_type": "code",
   "execution_count": 2,
   "id": "76010c21-00dd-4c89-8b0e-f0c501b9fa37",
   "metadata": {},
   "outputs": [],
   "source": [
    "import pandas as pd\n",
    "\n",
    "df = pd.read_csv('./twitter_accounts.csv', thousands = ',')\n",
    "users = df.drop(columns = ['Rank', 'Activity', 'twitter handle']).to_dict('records')"
   ]
  },
  {
   "cell_type": "markdown",
   "id": "b6f6fce6-86d6-4d0d-9d24-2fab13e5ad8f",
   "metadata": {},
   "source": [
    "We can see that each user is a different twitter user."
   ]
  },
  {
   "cell_type": "code",
   "execution_count": 3,
   "id": "d600c6b1-94b4-45f3-86e9-0e1d4b0c2138",
   "metadata": {},
   "outputs": [
    {
     "data": {
      "text/plain": [
       "[{'Name': 'Barack Obama',\n",
       "  'Followers': 110890048,\n",
       "  'Following': 610113,\n",
       "  'Tweets': 15704,\n",
       "  'Nationality/headquarters': 'U.S.A',\n",
       "  'Industry': 'Politics'},\n",
       " {'Name': 'KATY PERRY',\n",
       "  'Followers': 108315414,\n",
       "  'Following': 222,\n",
       "  'Tweets': 10202,\n",
       "  'Nationality/headquarters': 'U.S.A',\n",
       "  'Industry': 'Music'}]"
      ]
     },
     "execution_count": 3,
     "metadata": {},
     "output_type": "execute_result"
    }
   ],
   "source": [
    "users[:2]"
   ]
  },
  {
   "cell_type": "markdown",
   "id": "65a8d01d-863b-426a-84a4-635c0ec2a3b4",
   "metadata": {},
   "source": [
    "Now one issue -- and a common issue with data, is that it is often inconsistent.  For example, let's get a list of the industries that each of our twitter users works in."
   ]
  },
  {
   "cell_type": "code",
   "execution_count": 5,
   "id": "b636dc61-2162-4e5d-b37e-2f2f4c6ff4aa",
   "metadata": {},
   "outputs": [],
   "source": [
    "industries = []\n",
    "\n",
    "for user in users:\n",
    "    industries.append(user['Industry'])"
   ]
  },
  {
   "cell_type": "code",
   "execution_count": 7,
   "id": "9ffb058f-cc41-402f-9d6f-820c141d78f8",
   "metadata": {},
   "outputs": [
    {
     "data": {
      "text/plain": [
       "['Politics', 'Music', 'Music', 'Music', 'Music', 'Sports']"
      ]
     },
     "execution_count": 7,
     "metadata": {},
     "output_type": "execute_result"
    }
   ],
   "source": [
    "industries[:6]"
   ]
  },
  {
   "cell_type": "markdown",
   "id": "7aca4411-70e4-4da1-a078-f0a901ea075f",
   "metadata": {},
   "source": [
    "And then we can turn this into a unique collection of industries, by passing this into Python's `set` function."
   ]
  },
  {
   "cell_type": "code",
   "execution_count": 14,
   "id": "90f71f6d-6421-463d-b8eb-351eafbd3300",
   "metadata": {},
   "outputs": [
    {
     "name": "stdout",
     "output_type": "stream",
     "text": [
      "{'Technology ', 'Films/Entertainment', 'news', 'Politics', 'News', 'Space Agency', 'music', 'Music', 'Publishing Industry', 'Sports', 'Television', 'Business', 'sports'}\n"
     ]
    }
   ],
   "source": [
    "# update the line below to get a unique set of industries\n",
    "unique_industries = set(industries)\n",
    "\n",
    "print(unique_industries)"
   ]
  },
  {
   "cell_type": "markdown",
   "id": "38a6159d-8178-4a6c-b6a7-6f0967099a66",
   "metadata": {},
   "source": [
    "As we discussed in the Twitter lab, by calling `set(industries)` we turn our list into a set -- where a set is a unique collection of elements.  So notice that above that each element in our collection is unique.\n",
    "\n",
    "Well kinda.."
   ]
  },
  {
   "cell_type": "markdown",
   "id": "dab89ebe-fe8f-4fe4-b22d-8530eb6fea3a",
   "metadata": {},
   "source": [
    "Notice that we have a couple of values listed twice -- once lowercased and once uppercased.  We can see this with Music, News and Sports."
   ]
  },
  {
   "cell_type": "markdown",
   "id": "07372e49-42c2-4df3-9b6a-d0a3c0702a16",
   "metadata": {},
   "source": [
    "### More advanced queries"
   ]
  },
  {
   "cell_type": "markdown",
   "id": "dc2fc34d-15a3-4ca2-ac95-19ede41c850e",
   "metadata": {},
   "source": [
    "Now let's say we want to find all of the twitter users whose industry is music.  If we try to find those in the music industry by seeing what matches `Music`, we'll miss all of the users who have music listed with a lowercase.  One way to solve for this is with an `or` statement.  We can use it like so."
   ]
  },
  {
   "cell_type": "code",
   "execution_count": 24,
   "id": "b046cdbd-ebd3-42b6-8793-682427a4d81b",
   "metadata": {},
   "outputs": [],
   "source": [
    "musical_usernames = []\n",
    "\n",
    "for user in users:\n",
    "    if user['Industry'] == 'Music' or user['Industry'] == 'music':\n",
    "        musical_usernames.append(user['Name'])"
   ]
  },
  {
   "cell_type": "code",
   "execution_count": 25,
   "id": "b9b2549d-851e-44f5-8afa-b8ed726745a0",
   "metadata": {},
   "outputs": [
    {
     "data": {
      "text/plain": [
       "['KATY PERRY', 'Justin Bieber', 'Rihanna']"
      ]
     },
     "execution_count": 25,
     "metadata": {},
     "output_type": "execute_result"
    }
   ],
   "source": [
    "musical_usernames[:3]"
   ]
  },
  {
   "cell_type": "markdown",
   "id": "918ad053-0339-4bd9-ba62-5733e41c5ef0",
   "metadata": {},
   "source": [
    "Let's focus on the if statement above."
   ]
  },
  {
   "cell_type": "markdown",
   "id": "0ace92d4-4bc0-4c47-9968-aec1014f2805",
   "metadata": {},
   "source": [
    "```python\n",
    "if user['Industry'] == 'Music' or user['Industry'] == 'music':\n",
    "    ...\n",
    "```"
   ]
  },
  {
   "cell_type": "markdown",
   "id": "7f6f3d96-b6ae-4316-acbb-ed3984e64b2f",
   "metadata": {},
   "source": [
    "So now our if statement is asking two questions -- does the industry equal `Music` or does the industry equal `music`.  If either expression returns True, the entire statement will evaluate to True."
   ]
  },
  {
   "cell_type": "markdown",
   "id": "7056b627-1957-4592-ae39-5870ea3ad18e",
   "metadata": {},
   "source": [
    "> We can see this below with our user of `KATY PERRY`."
   ]
  },
  {
   "cell_type": "code",
   "execution_count": 26,
   "id": "95fd0e64-2733-44b6-83cf-e0a3a57f969b",
   "metadata": {},
   "outputs": [
    {
     "data": {
      "text/plain": [
       "True"
      ]
     },
     "execution_count": 26,
     "metadata": {},
     "output_type": "execute_result"
    }
   ],
   "source": [
    "user = {'name': 'KATY PERRY', 'Industry': 'music'}\n",
    "\n",
    "user['Industry'] == 'Music' or user['Industry'] == 'music' # True"
   ]
  },
  {
   "cell_type": "markdown",
   "id": "56a4a39e-9f7e-4357-89b6-0ea12914904e",
   "metadata": {},
   "source": [
    "Ok, so this time it's your turn.  Use an `or` statement to find a list of all users who are in sports, whether sports is capitalized or lowercased.\n",
    "\n",
    "> Do not copy and paste the above statement -- we need to build muscle memory."
   ]
  },
  {
   "cell_type": "code",
   "execution_count": 35,
   "id": "5150ae65-50c7-4851-948d-d3adc910ee54",
   "metadata": {},
   "outputs": [
    {
     "data": {
      "text/plain": [
       "['Cristiano Ronaldo', 'Neymar Jr', 'LeBron James', 'SportsCenter', 'ESPN']"
      ]
     },
     "execution_count": 35,
     "metadata": {},
     "output_type": "execute_result"
    }
   ],
   "source": [
    "athletic_usernames = []\n",
    "\n",
    "# write code here\n",
    "        \n",
    "athletic_usernames[:5]\n",
    "\n",
    "# ['Cristiano Ronaldo', 'Neymar Jr', 'LeBron James', 'SportsCenter', 'ESPN']"
   ]
  },
  {
   "cell_type": "markdown",
   "id": "999cfbb1-059f-4b74-be92-f8793db1efa3",
   "metadata": {},
   "source": [
    "> Confirm that we have all 17 users above."
   ]
  },
  {
   "cell_type": "code",
   "execution_count": 36,
   "id": "3f0f17d7-3222-4e09-84f7-6d2f148d62ef",
   "metadata": {},
   "outputs": [
    {
     "data": {
      "text/plain": [
       "17"
      ]
     },
     "execution_count": 36,
     "metadata": {},
     "output_type": "execute_result"
    }
   ],
   "source": [
    "len(athletic_usernames)"
   ]
  },
  {
   "cell_type": "markdown",
   "id": "79b5de29-6516-40e8-b3ed-2f6ae6b156e9",
   "metadata": {},
   "source": [
    "Finally, while `or` allows us to will evaluate to True if either condition holds, the keyword `and` only returns True when **both** conditions evaluate to `True`.  For example, let's say we want to find users who have fewer than 10 followers *and* fewer than 500 tweets.  We can do so with the following:"
   ]
  },
  {
   "cell_type": "code",
   "execution_count": 50,
   "id": "05a72a04-2bb3-41b2-9064-7d1917f45046",
   "metadata": {},
   "outputs": [
    {
     "data": {
      "text/plain": [
       "[{'Name': 'Taylor Swift',\n",
       "  'Followers': 85520236,\n",
       "  'Following': 0,\n",
       "  'Tweets': 396,\n",
       "  'Nationality/headquarters': 'U.S.A',\n",
       "  'Industry': 'Music'},\n",
       " {'Name': 'Adele',\n",
       "  'Followers': 27488867,\n",
       "  'Following': 0,\n",
       "  'Tweets': 310,\n",
       "  'Nationality/headquarters': 'U.K',\n",
       "  'Industry': 'music'}]"
      ]
     },
     "execution_count": 50,
     "metadata": {},
     "output_type": "execute_result"
    }
   ],
   "source": [
    "low_activity_users = []\n",
    "\n",
    "for user in users:\n",
    "    if user['Following'] < 10 and user['Tweets'] < 500:\n",
    "        low_activity_users.append(user)\n",
    "        \n",
    "low_activity_users[:5]"
   ]
  },
  {
   "cell_type": "markdown",
   "id": "ea9c44ad-9bc2-4242-b9ca-9beaab1aa7d7",
   "metadata": {},
   "source": [
    "### Performing calculations"
   ]
  },
  {
   "cell_type": "markdown",
   "id": "44a9cf8d-7cf3-41ac-889f-26230ae820cb",
   "metadata": {},
   "source": [
    "Once we have our data in a list, we can ask some questions about the list.  For example, let's say that we want to find calculate *maximum* number of tweets across all of our users.  We can do so with the `max` function.  "
   ]
  },
  {
   "cell_type": "code",
   "execution_count": 8,
   "id": "3408f9fa-b258-45ae-8479-8c889514e3e9",
   "metadata": {},
   "outputs": [
    {
     "data": {
      "text/plain": [
       "15"
      ]
     },
     "execution_count": 8,
     "metadata": {},
     "output_type": "execute_result"
    }
   ],
   "source": [
    "max([10, 12, 15, 14])"
   ]
  },
  {
   "cell_type": "markdown",
   "id": "e9359544-a40c-47be-85ad-b7005e9bbcd6",
   "metadata": {},
   "source": [
    "Now we cannot use max directly with a list of dictionaries.  This is because there are multiple attributes per each dictionary, and Python doesn't know what we want you want to find the maximum of.  For example, below do we want to find the maximum number of tweets, or maximum number of followers. "
   ]
  },
  {
   "cell_type": "code",
   "execution_count": 9,
   "id": "0c5688b8-6b30-4dca-aceb-03c8ffe68229",
   "metadata": {},
   "outputs": [
    {
     "data": {
      "text/plain": [
       "[{'Name': 'Barack Obama',\n",
       "  'Followers': 110890048,\n",
       "  'Following': 610113,\n",
       "  'Tweets': 15704,\n",
       "  'Nationality/headquarters': 'U.S.A',\n",
       "  'Industry': 'Politics'},\n",
       " {'Name': 'KATY PERRY',\n",
       "  'Followers': 108315414,\n",
       "  'Following': 222,\n",
       "  'Tweets': 10202,\n",
       "  'Nationality/headquarters': 'U.S.A',\n",
       "  'Industry': 'Music'}]"
      ]
     },
     "execution_count": 9,
     "metadata": {},
     "output_type": "execute_result"
    }
   ],
   "source": [
    "users[:2]"
   ]
  },
  {
   "cell_type": "markdown",
   "id": "fe8e6abe-e485-4569-9f76-58f39e8b5da2",
   "metadata": {},
   "source": [
    "So instead, we should first get a single list of numbers -- not dictionaries.  \n",
    "> Below we get a list of the number of tweets for each user."
   ]
  },
  {
   "cell_type": "code",
   "execution_count": 11,
   "id": "14fef99a-8d43-42d4-8fd2-66b4dc72dba1",
   "metadata": {},
   "outputs": [
    {
     "data": {
      "text/plain": [
       "[15704, 10202, 30462]"
      ]
     },
     "execution_count": 11,
     "metadata": {},
     "output_type": "execute_result"
    }
   ],
   "source": [
    "tweet_numbers = []\n",
    "for user in users:\n",
    "    tweet_numbers.append(user['Tweets'])\n",
    "tweet_numbers[:3]"
   ]
  },
  {
   "cell_type": "markdown",
   "id": "017cb6ae-69fe-4e5b-bcb3-f31de61b7312",
   "metadata": {},
   "source": [
    "And then we can find the maximum of *that*."
   ]
  },
  {
   "cell_type": "code",
   "execution_count": 13,
   "id": "6971b7ed-43a4-4f1b-8c33-374017f8990a",
   "metadata": {},
   "outputs": [
    {
     "data": {
      "text/plain": [
       "474764"
      ]
     },
     "execution_count": 13,
     "metadata": {},
     "output_type": "execute_result"
    }
   ],
   "source": [
    "max(tweet_numbers)"
   ]
  },
  {
   "cell_type": "markdown",
   "id": "8dd1113c-34bb-4623-9253-cd44c0b89f33",
   "metadata": {},
   "source": [
    "Or we can find the minimum in the list."
   ]
  },
  {
   "cell_type": "code",
   "execution_count": 14,
   "id": "4712f336-4fe0-4674-86c0-0366d7e5840f",
   "metadata": {},
   "outputs": [
    {
     "data": {
      "text/plain": [
       "15"
      ]
     },
     "execution_count": 14,
     "metadata": {},
     "output_type": "execute_result"
    }
   ],
   "source": [
    "min(tweet_numbers)"
   ]
  },
  {
   "cell_type": "markdown",
   "id": "ce67d5d2-908a-4068-b2d1-c3bb8173ea21",
   "metadata": {},
   "source": [
    "Another useful thing we can do with lists is add up all of the numbers in the list -- and we can calculate this with the `sum` operator.  "
   ]
  },
  {
   "cell_type": "code",
   "execution_count": 15,
   "id": "21ae4599-260d-417f-ae6a-17f491b5b379",
   "metadata": {},
   "outputs": [
    {
     "data": {
      "text/plain": [
       "4190225"
      ]
     },
     "execution_count": 15,
     "metadata": {},
     "output_type": "execute_result"
    }
   ],
   "source": [
    "sum(tweet_numbers)"
   ]
  },
  {
   "cell_type": "markdown",
   "id": "098bb24a-4541-49a7-9026-235b1fe8dbd4",
   "metadata": {},
   "source": [
    "So we can seet that there are `4190225` tweets across all of our users.  And if we want to then find the average number of tweets?  Well we can just divide by the number of users.  \n",
    "\n",
    "> In Python we divide with the `/`.  For example, `10/2` returns 5."
   ]
  },
  {
   "cell_type": "code",
   "execution_count": 17,
   "id": "dd89213e-49fa-44e6-9702-6e3da340bb7c",
   "metadata": {},
   "outputs": [
    {
     "data": {
      "text/plain": [
       "41902.25"
      ]
     },
     "execution_count": 17,
     "metadata": {},
     "output_type": "execute_result"
    }
   ],
   "source": [
    "total_tweets = sum(tweet_numbers)\n",
    "length_of_list = len(tweet_numbers)\n",
    "\n",
    "total_tweets/length_of_list"
   ]
  },
  {
   "cell_type": "markdown",
   "id": "28f17d6e-80f6-4da5-b418-e987f0b99bea",
   "metadata": {},
   "source": [
    "So we can see that our users have an average of `41902.25` tweets.  So to divide we use the `/` and to find the average in a list we add up the elements and divide by the length of the list.  \n",
    "\n",
    "Now if you want to multiply in Python, you can use the `*` operator."
   ]
  },
  {
   "cell_type": "code",
   "execution_count": 18,
   "id": "6ef1732f-1287-46b0-bf3c-ea512f9fe6be",
   "metadata": {},
   "outputs": [
    {
     "data": {
      "text/plain": [
       "100"
      ]
     },
     "execution_count": 18,
     "metadata": {},
     "output_type": "execute_result"
    }
   ],
   "source": [
    "10*10"
   ]
  },
  {
   "cell_type": "markdown",
   "id": "7b560914-3554-40de-8c54-44a1e3a0fbaa",
   "metadata": {},
   "source": [
    "And the other operators work the way you would expect."
   ]
  },
  {
   "cell_type": "code",
   "execution_count": 19,
   "id": "0c820384-2068-4777-aa08-27024d83a23a",
   "metadata": {},
   "outputs": [
    {
     "data": {
      "text/plain": [
       "8"
      ]
     },
     "execution_count": 19,
     "metadata": {},
     "output_type": "execute_result"
    }
   ],
   "source": [
    "10 - 2"
   ]
  },
  {
   "cell_type": "code",
   "execution_count": 20,
   "id": "10cfe36b-6e96-46b4-a7bd-50b82108ef9f",
   "metadata": {},
   "outputs": [
    {
     "data": {
      "text/plain": [
       "12"
      ]
     },
     "execution_count": 20,
     "metadata": {},
     "output_type": "execute_result"
    }
   ],
   "source": [
    "10 + 2"
   ]
  },
  {
   "cell_type": "markdown",
   "id": "95b66c95-f206-46bb-9e1c-e887b74d53fb",
   "metadata": {},
   "source": [
    "### Summary"
   ]
  },
  {
   "cell_type": "markdown",
   "id": "87d81482-c024-4f3a-9501-de1dea238b2a",
   "metadata": {},
   "source": [
    "In this lesson, we learned a couple of techniques for exploring our data.  We first learned to how to handle our data by working with more advanced queries. "
   ]
  },
  {
   "cell_type": "code",
   "execution_count": 37,
   "id": "4d552b65-6373-4b27-85c5-984706bcb368",
   "metadata": {},
   "outputs": [],
   "source": [
    "import pandas as pd\n",
    "\n",
    "df = pd.read_csv('./twitter_accounts.csv', thousands = ',')\n",
    "users = df.drop(columns = ['Rank', 'Activity', 'twitter handle']).to_dict('records')"
   ]
  },
  {
   "cell_type": "markdown",
   "id": "2765fb58-0aa5-49b4-a35d-ac8963926c2d",
   "metadata": {},
   "source": [
    "For example, we can select users that have industry of `music` or `Music` like so."
   ]
  },
  {
   "cell_type": "code",
   "execution_count": 42,
   "id": "5e9d1064-33e4-4034-9525-addcc8c41d8e",
   "metadata": {},
   "outputs": [
    {
     "data": {
      "text/plain": [
       "['KATY PERRY', 'Justin Bieber', 'Rihanna', 'Taylor Swift', 'Lady Gaga']"
      ]
     },
     "execution_count": 42,
     "metadata": {},
     "output_type": "execute_result"
    }
   ],
   "source": [
    "musical_usernames = []\n",
    "\n",
    "for user in users:\n",
    "    if user['Industry'] == 'Music' or user['Industry'] == 'music':\n",
    "        musical_usernames.append(user['Name'])\n",
    "        \n",
    "musical_usernames[:5]"
   ]
  }
 ],
 "metadata": {
  "kernelspec": {
   "display_name": "Python 3 (ipykernel)",
   "language": "python",
   "name": "python3"
  },
  "language_info": {
   "codemirror_mode": {
    "name": "ipython",
    "version": 3
   },
   "file_extension": ".py",
   "mimetype": "text/x-python",
   "name": "python",
   "nbconvert_exporter": "python",
   "pygments_lexer": "ipython3",
   "version": "3.10.6"
  }
 },
 "nbformat": 4,
 "nbformat_minor": 5
}
