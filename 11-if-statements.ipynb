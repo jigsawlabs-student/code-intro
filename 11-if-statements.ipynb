{
 "cells": [
  {
   "cell_type": "markdown",
   "id": "c7c795fe-a699-447c-90b0-baa15e365a90",
   "metadata": {},
   "source": [
    "# Working with If"
   ]
  },
  {
   "cell_type": "markdown",
   "id": "a44e576a-6ccd-427b-bf6d-134027062911",
   "metadata": {},
   "source": [
    "### Introduction"
   ]
  },
  {
   "cell_type": "markdown",
   "id": "96aeee14-9bd9-486b-82da-c458dfa41065",
   "metadata": {},
   "source": [
    "In our lessons so far, we have operated on *all* of our data.  For example, we have collected information about all of our cities and then pulled out data regarding the city name or population.  "
   ]
  },
  {
   "cell_type": "code",
   "execution_count": 1,
   "id": "43f02d48-cc3d-4d9c-b851-05b4b0e955fa",
   "metadata": {},
   "outputs": [],
   "source": [
    "city_names = []\n",
    "\n",
    "for city in cities:\n",
    "    city_name = city['City']\n",
    "    populations.append(city_name)\n",
    "\n",
    "populations = []\n",
    "\n",
    "for city in cities:\n",
    "    city_pop = city['2020census']\n",
    "    populations.append(city_pop)"
   ]
  },
  {
   "cell_type": "markdown",
   "id": "30c9a7d8-ed05-4cdd-bc13-57a774912c4f",
   "metadata": {},
   "source": [
    "But in programming, sometimes we do not wish to act on each type of data in the same way.  For example, maybe we want to only add cities if they are over a certain population.  Or if they are from a certain state.  As we'll see, Python allows us to perform this with an `if` statement."
   ]
  },
  {
   "cell_type": "markdown",
   "id": "25a486bd-7d53-467d-978d-3cbe331067f7",
   "metadata": {},
   "source": [
    "### Asking questions of data"
   ]
  },
  {
   "cell_type": "markdown",
   "id": "ec758ea5-3ff9-496a-85dc-f445273ac56d",
   "metadata": {},
   "source": [
    "Let's say that we want our code to indicate whether a city population is above `1,000,000` or below `1,000,000`.  We can do so with the following:"
   ]
  },
  {
   "cell_type": "code",
   "execution_count": 4,
   "id": "ecd249d6-a759-43aa-838b-a6ff27719495",
   "metadata": {},
   "outputs": [],
   "source": [
    "population = 2_000_000 # 800_000"
   ]
  },
  {
   "cell_type": "code",
   "execution_count": 5,
   "id": "88b09f26-d4d6-4832-ae60-46f15e373c8c",
   "metadata": {},
   "outputs": [
    {
     "name": "stdout",
     "output_type": "stream",
     "text": [
      "large population\n"
     ]
    }
   ],
   "source": [
    "if population > 1_000_000:\n",
    "    print('large population')\n",
    "else:\n",
    "    print('not so large')"
   ]
  },
  {
   "cell_type": "markdown",
   "id": "4caccf33-edb5-4f58-a5ff-28e9ee6a4b07",
   "metadata": {},
   "source": [
    "If we run the two cells above, we'll see that we print out `large population`.  Next change the population in the first cell to `800_000` and we should see an output of `not so large`."
   ]
  },
  {
   "cell_type": "markdown",
   "id": "63ecfb84-bdff-418e-acd8-6524dcaa9292",
   "metadata": {},
   "source": [
    "Ok, so the above statement is an if statement, and if we focus on the first line `if population > 1_000_000:`, we see that it contains the following:"
   ]
  },
  {
   "cell_type": "markdown",
   "id": "7dad5b99-fe92-41cb-b8b4-0a9698da87d3",
   "metadata": {},
   "source": [
    "```python\n",
    "population > 1_000_000\n",
    "```"
   ]
  },
  {
   "cell_type": "markdown",
   "id": "1adce96c-420f-48d3-95be-33921d49b899",
   "metadata": {},
   "source": [
    "That component -- `population > 1_000_000` is asking a question -- is the population greater than one million.  And if we run the code, Python provides the answer in the form of True or False."
   ]
  },
  {
   "cell_type": "code",
   "execution_count": 18,
   "id": "00c89976-d3bc-4a26-a466-8fc7d46e3d46",
   "metadata": {},
   "outputs": [],
   "source": [
    "population = 20_000_000"
   ]
  },
  {
   "cell_type": "markdown",
   "id": "c5d33582-76d9-448f-91af-3297332ebbb9",
   "metadata": {},
   "source": [
    "> Set the population above to 20,000,000.  Then below, ask if it's above `1,000,000`."
   ]
  },
  {
   "cell_type": "code",
   "execution_count": 13,
   "id": "61a14d4e-dece-47ad-b2b5-bd446f290c04",
   "metadata": {},
   "outputs": [
    {
     "data": {
      "text/plain": [
       "True"
      ]
     },
     "execution_count": 13,
     "metadata": {},
     "output_type": "execute_result"
    }
   ],
   "source": [
    "population > 1_000_000"
   ]
  },
  {
   "cell_type": "markdown",
   "id": "67542bff-8961-442d-9e51-ddaa790d7d79",
   "metadata": {},
   "source": [
    "The code `population > 1_000_000` is an example of a boolean expression.  And a boolean expression always returns one of two values -- True or False.  For example, here is another boolean statement.  "
   ]
  },
  {
   "cell_type": "code",
   "execution_count": 14,
   "id": "2eff232a-3994-4565-ac43-7ea17ec9454b",
   "metadata": {},
   "outputs": [
    {
     "data": {
      "text/plain": [
       "False"
      ]
     },
     "execution_count": 14,
     "metadata": {},
     "output_type": "execute_result"
    }
   ],
   "source": [
    "population < 1_000_000"
   ]
  },
  {
   "cell_type": "markdown",
   "id": "dcba69fc-c9f6-4955-991e-c1440c29af76",
   "metadata": {},
   "source": [
    "### Returning to If"
   ]
  },
  {
   "cell_type": "markdown",
   "id": "4ef80fb9-2512-4a0e-a038-dec6308ac13d",
   "metadata": {},
   "source": [
    "Now let's take another look at our if else statement."
   ]
  },
  {
   "cell_type": "code",
   "execution_count": 19,
   "id": "1073ce89-ad3e-4238-9b61-30704a32366f",
   "metadata": {},
   "outputs": [],
   "source": [
    "population = 1_000_000"
   ]
  },
  {
   "cell_type": "code",
   "execution_count": 20,
   "id": "6701a184-f5ed-4205-8ffb-977c0b863163",
   "metadata": {},
   "outputs": [
    {
     "name": "stdout",
     "output_type": "stream",
     "text": [
      "not so large\n"
     ]
    }
   ],
   "source": [
    "if population > 1_000_000:\n",
    "    print('large population')\n",
    "else:\n",
    "    print('not so large')"
   ]
  },
  {
   "cell_type": "markdown",
   "id": "e9802e02-3c0c-45a0-ab17-fbf973d3595a",
   "metadata": {},
   "source": [
    "So our if statement consists of the following pattern:"
   ]
  },
  {
   "cell_type": "markdown",
   "id": "f3d07ef8-5d13-41a1-aab8-ab09ef20af35",
   "metadata": {},
   "source": [
    "```python\n",
    "if boolean_expression:\n",
    "    # do when boolean is True\n",
    "else:\n",
    "    # do when boolean is False\n",
    "```"
   ]
  },
  {
   "cell_type": "markdown",
   "id": "9227be4a-e8d9-4452-9966-bc63f2af5277",
   "metadata": {},
   "source": [
    "In other words, we have the keyword if followed by our expression and a `:`.  Then we tab in to write what we would like to occur when the expression is True.  In the line below `else:` we write what occurs when the expression returns False."
   ]
  },
  {
   "cell_type": "markdown",
   "id": "31cf3722-845d-4893-9f7b-5e5e0a6f0dd1",
   "metadata": {},
   "source": [
    "So now try to write an if else statement below that displays `large state` if the area is greater than `70_000` miles and `small state` otherwise."
   ]
  },
  {
   "cell_type": "code",
   "execution_count": 22,
   "id": "f47c6e4b-4dba-4047-b305-48bb9daa75fd",
   "metadata": {},
   "outputs": [],
   "source": [
    "area = 100_000"
   ]
  },
  {
   "cell_type": "code",
   "execution_count": 24,
   "id": "97cf0fbc-df2f-457d-9389-a1bc0e6891ae",
   "metadata": {},
   "outputs": [
    {
     "name": "stdout",
     "output_type": "stream",
     "text": [
      "large state\n"
     ]
    }
   ],
   "source": [
    "\n",
    "    \n",
    "# large state"
   ]
  },
  {
   "cell_type": "markdown",
   "id": "4a6bd8be-0a05-4ddb-be2c-ec861e5fc3d2",
   "metadata": {},
   "source": [
    "### One more boolean"
   ]
  },
  {
   "cell_type": "markdown",
   "id": "3339b27d-5243-4342-b0fd-4d904daa6412",
   "metadata": {},
   "source": [
    "Now so far, we've seen that we can use our greater than and less than to return to True or False values.  Beyond seeing if a value is more or less, we can also see if a value is equal.  "
   ]
  },
  {
   "cell_type": "code",
   "execution_count": 1,
   "id": "051275a2-51a6-4b10-beeb-d2e49e295d59",
   "metadata": {},
   "outputs": [],
   "source": [
    "area = 100_000"
   ]
  },
  {
   "cell_type": "code",
   "execution_count": 2,
   "id": "ffbbef26-cea5-4395-80f5-f97de3fcd3b9",
   "metadata": {},
   "outputs": [
    {
     "data": {
      "text/plain": [
       "True"
      ]
     },
     "execution_count": 2,
     "metadata": {},
     "output_type": "execute_result"
    }
   ],
   "source": [
    "area == 100_000"
   ]
  },
  {
   "cell_type": "code",
   "execution_count": 3,
   "id": "2af51272-1d50-490d-b680-a9071f3d8567",
   "metadata": {},
   "outputs": [
    {
     "data": {
      "text/plain": [
       "False"
      ]
     },
     "execution_count": 3,
     "metadata": {},
     "output_type": "execute_result"
    }
   ],
   "source": [
    "area == 100_001"
   ]
  },
  {
   "cell_type": "markdown",
   "id": "a2b6efed-3e97-461a-aaff-eedfa19e67ec",
   "metadata": {},
   "source": [
    "> A gotcha"
   ]
  },
  {
   "cell_type": "markdown",
   "id": "e8b9a596-c8e2-4ebf-80d7-d2f843a37353",
   "metadata": {},
   "source": [
    "So we check for equality with the double equals -- `==`.  It's very easy to confuse the double equals with the single equals.  Remember that we use a single equals when we want to assign a variable."
   ]
  },
  {
   "cell_type": "code",
   "execution_count": 5,
   "id": "bdb3b880-4e06-4f4c-acfa-1135fef23581",
   "metadata": {},
   "outputs": [
    {
     "data": {
      "text/plain": [
       "100000"
      ]
     },
     "execution_count": 5,
     "metadata": {},
     "output_type": "execute_result"
    }
   ],
   "source": [
    "area = 100_000\n",
    "\n",
    "area"
   ]
  },
  {
   "cell_type": "markdown",
   "id": "5f0a6b52-f185-4ac0-939e-9267444ee168",
   "metadata": {},
   "source": [
    "Adn we check to see if that variable equals something with the double equals."
   ]
  },
  {
   "cell_type": "code",
   "execution_count": 6,
   "id": "165c4629-d87f-471c-af34-870df82c6619",
   "metadata": {},
   "outputs": [
    {
     "data": {
      "text/plain": [
       "True"
      ]
     },
     "execution_count": 6,
     "metadata": {},
     "output_type": "execute_result"
    }
   ],
   "source": [
    "area = 100_000\n",
    "\n",
    "area == 100_000"
   ]
  },
  {
   "cell_type": "markdown",
   "id": "14aea2e9-931b-4dd9-bfaf-0541e4f6ee45",
   "metadata": {},
   "source": [
    "> And another gotcha"
   ]
  },
  {
   "cell_type": "markdown",
   "id": "35156903-39ca-486e-904b-527d3bbc4b64",
   "metadata": {},
   "source": [
    "Beyond numbers we can also check if our text matches."
   ]
  },
  {
   "cell_type": "code",
   "execution_count": 7,
   "id": "4c3878f3-8e26-4f33-844f-fbf442962c73",
   "metadata": {},
   "outputs": [
    {
     "data": {
      "text/plain": [
       "True"
      ]
     },
     "execution_count": 7,
     "metadata": {},
     "output_type": "execute_result"
    }
   ],
   "source": [
    "name = 'Bob'\n",
    "\n",
    "\n",
    "name == 'Bob'"
   ]
  },
  {
   "cell_type": "markdown",
   "id": "76a64891-c90c-4a43-a16d-f879bfa6b77f",
   "metadata": {},
   "source": [
    "Just note that our checks for equality are case sensitive.  So capital `Bob` does not equal lower case `bob`."
   ]
  },
  {
   "cell_type": "code",
   "execution_count": 9,
   "id": "9b4c51b1-ee01-4949-aaa5-6413fc3d5624",
   "metadata": {},
   "outputs": [
    {
     "data": {
      "text/plain": [
       "False"
      ]
     },
     "execution_count": 9,
     "metadata": {},
     "output_type": "execute_result"
    }
   ],
   "source": [
    "'Bob' == 'bob'"
   ]
  },
  {
   "cell_type": "markdown",
   "id": "8edad153-7b81-4531-a9d3-18d4247c9856",
   "metadata": {},
   "source": [
    "### Summary"
   ]
  },
  {
   "cell_type": "markdown",
   "id": "d74bfcdc-c1e5-44a5-9bf1-24ddd252a601",
   "metadata": {},
   "source": [
    "In this lesson, we learned about if else statements and booleans operators.  We learned about three boolean operators:\n",
    "* `>` greater than\n",
    "* `<` less than\n",
    "* and `==`  equality."
   ]
  },
  {
   "cell_type": "markdown",
   "id": "f31c2963-5e03-47b4-81e5-aea5541c7ee1",
   "metadata": {},
   "source": [
    "Be sure to use the *double* equals when checking for equality.  And note that strings are case sensitive."
   ]
  },
  {
   "cell_type": "code",
   "execution_count": 10,
   "id": "0d5736fc-f626-4a9b-9f5d-94bb64f28114",
   "metadata": {},
   "outputs": [
    {
     "data": {
      "text/plain": [
       "False"
      ]
     },
     "execution_count": 10,
     "metadata": {},
     "output_type": "execute_result"
    }
   ],
   "source": [
    "'bob' == 'Bob'"
   ]
  },
  {
   "cell_type": "markdown",
   "id": "70d9bc19-a1c5-46bf-95ae-e288da3dd822",
   "metadata": {},
   "source": [
    "Then, when moving onto the if else statements, we have the following pattern:"
   ]
  },
  {
   "cell_type": "markdown",
   "id": "62c20a5a-eeb4-4de4-b12c-096fbebb6d81",
   "metadata": {},
   "source": [
    "```python\n",
    "if boolean_expression:\n",
    "    # do when boolean is True\n",
    "else:\n",
    "    # do when boolean is False\n",
    "```"
   ]
  },
  {
   "cell_type": "markdown",
   "id": "7ab6464f-cf30-48c2-9f42-afea8a654626",
   "metadata": {},
   "source": [
    "Which may look like the following:"
   ]
  },
  {
   "cell_type": "code",
   "execution_count": 12,
   "id": "33a654c2-6e9b-4c69-900c-291389cc4b5f",
   "metadata": {},
   "outputs": [
    {
     "name": "stdout",
     "output_type": "stream",
     "text": [
      "Where is bob?\n"
     ]
    }
   ],
   "source": [
    "name = 'Bob'\n",
    "\n",
    "if name == 'bob':\n",
    "    print('we found bob')\n",
    "else:\n",
    "    print('Where is bob?')"
   ]
  }
 ],
 "metadata": {
  "kernelspec": {
   "display_name": "Python 3 (ipykernel)",
   "language": "python",
   "name": "python3"
  },
  "language_info": {
   "codemirror_mode": {
    "name": "ipython",
    "version": 3
   },
   "file_extension": ".py",
   "mimetype": "text/x-python",
   "name": "python",
   "nbconvert_exporter": "python",
   "pygments_lexer": "ipython3",
   "version": "3.10.6"
  }
 },
 "nbformat": 4,
 "nbformat_minor": 5
}
