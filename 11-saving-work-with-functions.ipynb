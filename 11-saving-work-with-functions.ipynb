{
 "cells": [
  {
   "cell_type": "markdown",
   "metadata": {},
   "source": [
    "# Saving our Work With Functions"
   ]
  },
  {
   "cell_type": "markdown",
   "metadata": {},
   "source": [
    "### Introduction"
   ]
  },
  {
   "cell_type": "markdown",
   "metadata": {},
   "source": [
    "Ok, now at this point, we have learned almost all of the work to really go forth and code.  And we did some really good work in the process.\n",
    "\n",
    "But if we're going to put this code to use, and build some nice projects, we'll need to store some of our procedures in functions."
   ]
  },
  {
   "cell_type": "markdown",
   "metadata": {},
   "source": [
    "### Saving our Work"
   ]
  },
  {
   "cell_type": "markdown",
   "metadata": {},
   "source": [
    "Now we've already seen how to save our work with variables."
   ]
  },
  {
   "cell_type": "code",
   "execution_count": 1,
   "metadata": {},
   "outputs": [],
   "source": [
    "cities = ['nyc', 'los angelos', 'chicago']"
   ]
  },
  {
   "cell_type": "markdown",
   "metadata": {},
   "source": [
    "The code above **is something**.  It is a list, and we stored it as such."
   ]
  },
  {
   "cell_type": "markdown",
   "metadata": {},
   "source": [
    "But how do we save code that **does something**?  For example, our code below goes to Wikipedia and gathers the information then converts it to a list of dictionaries.  We may want to save that process to easily do it again and again."
   ]
  },
  {
   "cell_type": "code",
   "execution_count": 46,
   "metadata": {},
   "outputs": [
    {
     "data": {
      "text/plain": [
       "[{'2018rank': 1,\n",
       "  'City': 'New York[d]',\n",
       "  'State[c]': 'New York',\n",
       "  '2018estimate': 8398748,\n",
       "  '2010Census': 8175133,\n",
       "  'Change': '+2.74%',\n",
       "  '2016 land area': '301.5\\xa0sq\\xa0mi',\n",
       "  '2016 land area.1': '780.9\\xa0km2',\n",
       "  '2016 population density': '28,317/sq\\xa0mi',\n",
       "  '2016 population density.1': '10,933/km2',\n",
       "  'Location': '40°39′49″N 73°56′19″W\\ufeff / \\ufeff40.6635°N 73.9387°W'},\n",
       " {'2018rank': 2,\n",
       "  'City': 'Los Angeles',\n",
       "  'State[c]': 'California',\n",
       "  '2018estimate': 3990456,\n",
       "  '2010Census': 3792621,\n",
       "  'Change': '+5.22%',\n",
       "  '2016 land area': '468.7\\xa0sq\\xa0mi',\n",
       "  '2016 land area.1': '1,213.9\\xa0km2',\n",
       "  '2016 population density': '8,484/sq\\xa0mi',\n",
       "  '2016 population density.1': '3,276/km2',\n",
       "  'Location': '34°01′10″N 118°24′39″W\\ufeff / \\ufeff34.0194°N 118.4108°W'}]"
      ]
     },
     "execution_count": 46,
     "metadata": {},
     "output_type": "execute_result"
    }
   ],
   "source": [
    "import pandas as pd\n",
    "url = 'https://en.wikipedia.org/wiki/List_of_United_States_cities_by_population'\n",
    "tables = pd.read_html(url)\n",
    "cities_table = tables[4]\n",
    "cities = cities_table.to_dict('records')\n",
    "cities[:2]"
   ]
  },
  {
   "cell_type": "markdown",
   "metadata": {},
   "source": [
    "If we want to save code that does something, we can wrap it in a function.\n",
    "\n",
    "> Let's just do it.  We'll explain this code later."
   ]
  },
  {
   "cell_type": "code",
   "execution_count": 47,
   "metadata": {},
   "outputs": [],
   "source": [
    "def gather_cities():\n",
    "    url = 'https://en.wikipedia.org/wiki/List_of_United_States_cities_by_population'\n",
    "    tables = pd.read_html(url)\n",
    "    cities_table = tables[4]\n",
    "    cities = cities_table.to_dict('records')\n",
    "    return cities"
   ]
  },
  {
   "cell_type": "markdown",
   "metadata": {},
   "source": [
    "Now that it's in a function, we can execute this code whenever like.  We do so by typing the name of the function followed by parentheses `function_name()`.  \n",
    "\n",
    "> Want to go to Wikipedia and scrape the webpage?  Coming right up."
   ]
  },
  {
   "cell_type": "code",
   "execution_count": 48,
   "metadata": {},
   "outputs": [
    {
     "data": {
      "text/plain": [
       "[{'2018rank': 1,\n",
       "  'City': 'New York[d]',\n",
       "  'State[c]': 'New York',\n",
       "  '2018estimate': 8398748,\n",
       "  '2010Census': 8175133,\n",
       "  'Change': '+2.74%',\n",
       "  '2016 land area': '301.5\\xa0sq\\xa0mi',\n",
       "  '2016 land area.1': '780.9\\xa0km2',\n",
       "  '2016 population density': '28,317/sq\\xa0mi',\n",
       "  '2016 population density.1': '10,933/km2',\n",
       "  'Location': '40°39′49″N 73°56′19″W\\ufeff / \\ufeff40.6635°N 73.9387°W'}]"
      ]
     },
     "execution_count": 48,
     "metadata": {},
     "output_type": "execute_result"
    }
   ],
   "source": [
    "collected_cities = gather_cities()\n",
    "collected_cities[:1]"
   ]
  },
  {
   "cell_type": "markdown",
   "metadata": {},
   "source": [
    "So you can see that we were able to store our procedure of collecting city information in our `gather_cities` function."
   ]
  },
  {
   "cell_type": "markdown",
   "metadata": {},
   "source": [
    "This is very useful, because it allows us to think of our programs as tasks.  For example, first gather the list of cities, then select the names and populations, and then plot our data.  \n",
    "\n",
    "> Remember we said a lot of coding is breaking things into steps?  Functions are a great way to do that.\n",
    "\n",
    "Ok, let's learn how to write a function."
   ]
  },
  {
   "cell_type": "markdown",
   "metadata": {},
   "source": [
    "### Function mechanics"
   ]
  },
  {
   "cell_type": "markdown",
   "metadata": {},
   "source": [
    "Working with functions involves two steps:\n",
    "1. Defining our function\n",
    "2. Then executing our function."
   ]
  },
  {
   "cell_type": "markdown",
   "metadata": {},
   "source": [
    "* Defining our function"
   ]
  },
  {
   "cell_type": "markdown",
   "metadata": {},
   "source": [
    "We define our function with the following pattern."
   ]
  },
  {
   "cell_type": "code",
   "execution_count": 49,
   "metadata": {},
   "outputs": [],
   "source": [
    "def function_name():\n",
    "    return 'data'"
   ]
  },
  {
   "cell_type": "markdown",
   "metadata": {},
   "source": [
    "> Press shift + enter on the cell above.  And then the cell below."
   ]
  },
  {
   "cell_type": "markdown",
   "metadata": {},
   "source": [
    "Notice that when we define a function, we do not see an output.  This is similar to how we do not see an output when we assign a variable.  We need to execute the function to see an output.  \n",
    "\n",
    "> Press shift + enter on the cell below."
   ]
  },
  {
   "cell_type": "code",
   "execution_count": 50,
   "metadata": {},
   "outputs": [
    {
     "data": {
      "text/plain": [
       "'data'"
      ]
     },
     "execution_count": 50,
     "metadata": {},
     "output_type": "execute_result"
    }
   ],
   "source": [
    "function_name()"
   ]
  },
  {
   "cell_type": "markdown",
   "metadata": {},
   "source": [
    "Let's focus in on the first line where we defined our function: `def function_name():`."
   ]
  },
  {
   "cell_type": "markdown",
   "metadata": {},
   "source": [
    "* `def` is how we tell Python we are about to define a function.\n",
    "* The `function_name` is how we'll refer to the function.\n",
    "* And then we end our first line with parentheses and a colon `():`."
   ]
  },
  {
   "cell_type": "markdown",
   "metadata": {},
   "source": [
    "Now it's your turn.  Define a function called `collect_data`.  We wrote the second line `return data` for you."
   ]
  },
  {
   "cell_type": "code",
   "execution_count": 51,
   "metadata": {},
   "outputs": [],
   "source": [
    "# write code here\n",
    "    return 'data'"
   ]
  },
  {
   "cell_type": "markdown",
   "metadata": {},
   "source": [
    "> **You can check** that you did it correctly by pressing `shift + return` on the cell above, **and then** on the cell below.  If you did it correctly, you will see the word data.  "
   ]
  },
  {
   "cell_type": "code",
   "execution_count": 52,
   "metadata": {},
   "outputs": [
    {
     "data": {
      "text/plain": [
       "'data'"
      ]
     },
     "execution_count": 52,
     "metadata": {},
     "output_type": "execute_result"
    }
   ],
   "source": [
    "collect_data()\n",
    "# 'data'"
   ]
  },
  {
   "cell_type": "markdown",
   "metadata": {},
   "source": [
    "Ok, so we just saw how to write the first line of a function.  Now let's talk about that second line `return 'data'`."
   ]
  },
  {
   "cell_type": "code",
   "execution_count": null,
   "metadata": {},
   "outputs": [],
   "source": [
    "def function_name():\n",
    "    return 'data'"
   ]
  },
  {
   "cell_type": "markdown",
   "metadata": {},
   "source": [
    "There middle of the function is called the body of the function.  Below `greeting` and `name` are in the body of the function.  The body of the function can be as long as we like.  But it's best to keep our functions under five lines (excluding the function name)."
   ]
  },
  {
   "cell_type": "markdown",
   "metadata": {},
   "source": [
    "### Functions are a dungeon"
   ]
  },
  {
   "cell_type": "markdown",
   "metadata": {},
   "source": [
    "There is something interesting about functions. Functions trap everything inside of them, like the walls of a dungeon."
   ]
  },
  {
   "cell_type": "code",
   "execution_count": 2,
   "metadata": {},
   "outputs": [],
   "source": [
    "def function_name():\n",
    "    greeting = 'hello'\n",
    "    name = 'susan'"
   ]
  },
  {
   "cell_type": "markdown",
   "metadata": {},
   "source": [
    "> Press shift + enter on the cells above and below.  We'll see that the cell below results in an error."
   ]
  },
  {
   "cell_type": "code",
   "execution_count": 54,
   "metadata": {},
   "outputs": [
    {
     "ename": "NameError",
     "evalue": "name 'greeting' is not defined",
     "output_type": "error",
     "traceback": [
      "\u001b[0;31m---------------------------------------------------------------------------\u001b[0m",
      "\u001b[0;31mNameError\u001b[0m                                 Traceback (most recent call last)",
      "\u001b[0;32m<ipython-input-54-a0f7c5a79f7f>\u001b[0m in \u001b[0;36m<module>\u001b[0;34m\u001b[0m\n\u001b[0;32m----> 1\u001b[0;31m \u001b[0mgreeting\u001b[0m\u001b[0;34m\u001b[0m\u001b[0;34m\u001b[0m\u001b[0m\n\u001b[0m",
      "\u001b[0;31mNameError\u001b[0m: name 'greeting' is not defined"
     ]
    }
   ],
   "source": [
    "greeting"
   ]
  },
  {
   "cell_type": "markdown",
   "metadata": {},
   "source": [
    "So you'll see that even though we defined the variable greeting above, it is not available.  This is because it is only available inside the walls of the function."
   ]
  },
  {
   "cell_type": "markdown",
   "metadata": {},
   "source": [
    "To get to be released from the function, we must catapult a value over the walls with the word `return` followed by what we want returned."
   ]
  },
  {
   "cell_type": "code",
   "execution_count": 27,
   "metadata": {},
   "outputs": [],
   "source": [
    "def function_name():\n",
    "    greeting = 'hello'\n",
    "    name = 'susan'\n",
    "    return name"
   ]
  },
  {
   "cell_type": "code",
   "execution_count": 28,
   "metadata": {},
   "outputs": [
    {
     "data": {
      "text/plain": [
       "'susan'"
      ]
     },
     "execution_count": 28,
     "metadata": {},
     "output_type": "execute_result"
    }
   ],
   "source": [
    "function_name()"
   ]
  },
  {
   "cell_type": "markdown",
   "metadata": {},
   "source": [
    "So now, `susan` was thrown over the walls of the function."
   ]
  },
  {
   "cell_type": "markdown",
   "metadata": {},
   "source": [
    "> Notice that the inside of the code must be tabbed.  Or there must be two spaces for each line.  The indentation is how we indicate that something is inside of the function."
   ]
  },
  {
   "cell_type": "code",
   "execution_count": 1,
   "metadata": {},
   "outputs": [],
   "source": [
    "def function_name():\n",
    "    trapped_inside = 'hello'\n",
    "    catapulted_over = 'susan'\n",
    "    return catapulted_over"
   ]
  },
  {
   "cell_type": "markdown",
   "metadata": {},
   "source": [
    "So that is our pattern for a function."
   ]
  },
  {
   "cell_type": "code",
   "execution_count": 79,
   "metadata": {},
   "outputs": [],
   "source": [
    "def function_name():\n",
    "    body_of_function = 'hello'\n",
    "    return body_of_function + ' world'"
   ]
  },
  {
   "cell_type": "code",
   "execution_count": 56,
   "metadata": {},
   "outputs": [
    {
     "data": {
      "text/plain": [
       "'hello world'"
      ]
     },
     "execution_count": 56,
     "metadata": {},
     "output_type": "execute_result"
    }
   ],
   "source": [
    "function_name()"
   ]
  },
  {
   "cell_type": "markdown",
   "metadata": {},
   "source": [
    "Now, in the cell below, write a function called `catapult` that returns the word `slime`."
   ]
  },
  {
   "cell_type": "code",
   "execution_count": 80,
   "metadata": {},
   "outputs": [],
   "source": [
    "# write function here"
   ]
  },
  {
   "cell_type": "code",
   "execution_count": 63,
   "metadata": {},
   "outputs": [
    {
     "data": {
      "text/plain": [
       "'slime'"
      ]
     },
     "execution_count": 63,
     "metadata": {},
     "output_type": "execute_result"
    }
   ],
   "source": [
    "catapult()\n",
    "# slime"
   ]
  },
  {
   "cell_type": "markdown",
   "metadata": {},
   "source": [
    "## Back to our project"
   ]
  },
  {
   "cell_type": "markdown",
   "metadata": {},
   "source": [
    "Ok, so how can this help us?  Well functions allow us to store an entire procedure, and then name that procedure.  Once written, we can largely forget about how the function works.  \n",
    "\n",
    "All we care about is what the function does, which is execute a procedure and then throw something over the walls.\n",
    "\n",
    "So we can think of function like our cellphone: we only need to know how the wires underneath work when something breaks.  Otherwise, we can just call the function and get an output."
   ]
  },
  {
   "cell_type": "markdown",
   "metadata": {},
   "source": [
    "Ok, so let's wrap some more code in functions, so that we can move more into the push button, get an output mode.\n",
    "\n",
    "To do so, we wrap our ordinary code with the beginning line `def name_of_function():`.  And we end our function with returning an output."
   ]
  },
  {
   "cell_type": "markdown",
   "metadata": {},
   "source": [
    "> Here is our original code."
   ]
  },
  {
   "cell_type": "code",
   "execution_count": null,
   "metadata": {},
   "outputs": [],
   "source": [
    "\n",
    "url = 'https://en.wikipedia.org/wiki/List_of_United_States_cities_by_population'\n",
    "tables = pd.read_html(url)\n",
    "cities_table = tables[4]\n",
    "cities = cities_table.to_dict('records')"
   ]
  },
  {
   "cell_type": "markdown",
   "metadata": {},
   "source": [
    "> And here is that code wrapped in a function."
   ]
  },
  {
   "cell_type": "code",
   "execution_count": 36,
   "metadata": {},
   "outputs": [],
   "source": [
    "def gather_cities():\n",
    "    url = 'https://en.wikipedia.org/wiki/List_of_United_States_cities_by_population'\n",
    "    tables = pd.read_html(url)\n",
    "    cities_table = tables[4]\n",
    "    cities = cities_table.to_dict('records')\n",
    "    return cities"
   ]
  },
  {
   "cell_type": "code",
   "execution_count": 35,
   "metadata": {},
   "outputs": [
    {
     "data": {
      "text/plain": [
       "[{'2018rank': 1,\n",
       "  'City': 'New York[d]',\n",
       "  'State[c]': 'New York',\n",
       "  '2018estimate': 8398748,\n",
       "  '2010Census': 8175133,\n",
       "  'Change': '+2.74%',\n",
       "  '2016 land area': '301.5\\xa0sq\\xa0mi',\n",
       "  '2016 land area.1': '780.9\\xa0km2',\n",
       "  '2016 population density': '28,317/sq\\xa0mi',\n",
       "  '2016 population density.1': '10,933/km2',\n",
       "  'Location': '40°39′49″N 73°56′19″W\\ufeff / \\ufeff40.6635°N 73.9387°W'}]"
      ]
     },
     "execution_count": 35,
     "metadata": {},
     "output_type": "execute_result"
    }
   ],
   "source": [
    "cities = gather_cities()\n",
    "cities[:1]"
   ]
  },
  {
   "cell_type": "markdown",
   "metadata": {},
   "source": [
    "Your turn."
   ]
  },
  {
   "cell_type": "markdown",
   "metadata": {},
   "source": [
    "This time we'll work with the `for loop` that turns our list of dictionaries into a list of populations.  Below we'll create a new function called `get_populations`, that returns the list of the `populations`."
   ]
  },
  {
   "cell_type": "markdown",
   "metadata": {},
   "source": [
    "Do so in the following steps:  "
   ]
  },
  {
   "cell_type": "markdown",
   "metadata": {},
   "source": [
    "1. Start at the top of the cell, and hold down your cursor dragging until the bottom of the cell, so that the entire cell turns purple.  Then press `tab` to indent the code.\n",
    "\n",
    "2. Now we need another line at the top to define our function.  Place your cursor touching the `p` in `populations = []` and press enter.\n",
    "\n",
    "3. In the new line that we created above the statement `populations = []`, write the name of the function beginning with `def` and ending with `():` and named `get_populations`.  Remember that our first line **should not** be tabbed in.  In other words, the `d` of `def` should be touching the border of our gray cell. \n",
    "\n",
    "4. Then end your function with the return value."
   ]
  },
  {
   "cell_type": "code",
   "execution_count": 64,
   "metadata": {},
   "outputs": [],
   "source": [
    "populations = []\n",
    "\n",
    "for each_city in cities:\n",
    "    city_pop = each_city['2018estimate']\n",
    "    populations.append(city_pop)\n",
    "populations"
   ]
  },
  {
   "cell_type": "code",
   "execution_count": 67,
   "metadata": {},
   "outputs": [],
   "source": [
    "pops = get_populations()\n",
    "# pops"
   ]
  },
  {
   "cell_type": "markdown",
   "metadata": {},
   "source": [
    "Now do the same thing with the next block of code.  Write a function called `get_names` that returns the list of `city_names`."
   ]
  },
  {
   "cell_type": "code",
   "execution_count": 82,
   "metadata": {},
   "outputs": [],
   "source": [
    "\n",
    "city_names = []\n",
    "\n",
    "for each_city in cities:\n",
    "    city_name = each_city['City']\n",
    "    city_names.append(city_name)\n",
    "city_names"
   ]
  },
  {
   "cell_type": "code",
   "execution_count": 72,
   "metadata": {},
   "outputs": [
    {
     "data": {
      "text/plain": [
       "['New York[d]', 'Los Angeles']"
      ]
     },
     "execution_count": 72,
     "metadata": {},
     "output_type": "execute_result"
    }
   ],
   "source": [
    "names = get_names()\n",
    "names[:2]"
   ]
  },
  {
   "cell_type": "markdown",
   "metadata": {},
   "source": [
    "## Wrapping Up"
   ]
  },
  {
   "cell_type": "markdown",
   "metadata": {},
   "source": [
    "When were finished with our code, our function definitions will look like the following. "
   ]
  },
  {
   "cell_type": "code",
   "execution_count": 87,
   "metadata": {},
   "outputs": [],
   "source": [
    "def gather_cities():\n",
    "    url = 'https://en.wikipedia.org/wiki/List_of_United_States_cities_by_population'\n",
    "    tables = pd.read_html(url)\n",
    "    cities_table = tables[4]\n",
    "    cities = cities_table.to_dict('records')\n",
    "    return cities\n",
    "\n",
    "def get_populations():\n",
    "    populations = []\n",
    "\n",
    "    for each_city in cities:\n",
    "        city_pop = each_city['2018estimate']\n",
    "        populations.append(city_pop)\n",
    "    return populations\n",
    "\n",
    "def get_names():\n",
    "    city_names = []\n",
    "\n",
    "    for each_city in cities:\n",
    "        city_name = each_city['City']\n",
    "        city_names.append(city_name)\n",
    "    return city_names"
   ]
  },
  {
   "cell_type": "markdown",
   "metadata": {},
   "source": [
    "And we can call all of our code in just a few lines."
   ]
  },
  {
   "cell_type": "code",
   "execution_count": 74,
   "metadata": {},
   "outputs": [],
   "source": [
    "cities = gather_cities()\n",
    "pops = get_populations()\n",
    "city_names = get_city_names()"
   ]
  },
  {
   "cell_type": "code",
   "execution_count": 75,
   "metadata": {},
   "outputs": [
    {
     "data": {
      "text/plain": [
       "[8398748, 3990456]"
      ]
     },
     "execution_count": 75,
     "metadata": {},
     "output_type": "execute_result"
    }
   ],
   "source": [
    "pops[:2]"
   ]
  },
  {
   "cell_type": "code",
   "execution_count": 76,
   "metadata": {},
   "outputs": [
    {
     "data": {
      "text/plain": [
       "['New York[d]', 'Los Angeles']"
      ]
     },
     "execution_count": 76,
     "metadata": {},
     "output_type": "execute_result"
    }
   ],
   "source": [
    "city_names[:2]"
   ]
  },
  {
   "cell_type": "markdown",
   "metadata": {},
   "source": [
    "## Summary"
   ]
  },
  {
   "cell_type": "markdown",
   "metadata": {},
   "source": [
    "In this lesson, we learned about functions.  We saw that functions allow us to save a procedure underneath the walls of a function.  We do so with the following pattern."
   ]
  },
  {
   "cell_type": "markdown",
   "metadata": {},
   "source": [
    "```python\n",
    "def function_name():\n",
    "    body_of_function = 'hello'\n",
    "    return body_of_function + ' world'\n",
    "```"
   ]
  },
  {
   "cell_type": "markdown",
   "metadata": {},
   "source": [
    "Once we define the function, then we can execute the function with the `function_name()` and we are given the return value of the function.\n",
    "\n",
    "Functions give names to our complicated code, and allow us to summarize complicated code in just a few steps."
   ]
  },
  {
   "cell_type": "markdown",
   "metadata": {},
   "source": [
    "```python\n",
    "cities = gather_cities()\n",
    "pops = get_populations()\n",
    "city_names = get_city_names()\n",
    "```"
   ]
  },
  {
   "cell_type": "markdown",
   "metadata": {},
   "source": [
    "### References"
   ]
  },
  {
   "cell_type": "markdown",
   "metadata": {},
   "source": [
    "Credit to [John Resig](https://johnresig.com/) for the catapult analogy, and for a bunch of other amazing things."
   ]
  },
  {
   "cell_type": "markdown",
   "metadata": {},
   "source": [
    "<right> \n",
    "<a href=\"https://colab.research.google.com/github/jigsawlabs-student/code-intro/blob/master/12-function-arguments.ipynb\">\n",
    "<img src=\"https://storage.cloud.google.com/curriculum-assets/curriculum-assets.nosync/mom-files/pngfuel.com.png\" align=\"right\" style=\"padding-right: 20px\" width=\"10%\">\n",
    "    </a>\n",
    "</right>"
   ]
  },
  {
   "cell_type": "markdown",
   "metadata": {},
   "source": [
    "<center>\n",
    "<a href=\"https://www.jigsawlabs.io/free\" style=\"position: center\"><img src=\"https://storage.cloud.google.com/curriculum-assets/curriculum-assets.nosync/mom-files/jigsaw-labs.png\" width=\"15%\" style=\"text-align: center\"></a>\n",
    "</center>"
   ]
  },
  {
   "cell_type": "markdown",
   "metadata": {},
   "source": [
    "### Answers"
   ]
  },
  {
   "cell_type": "code",
   "execution_count": 83,
   "metadata": {},
   "outputs": [],
   "source": [
    "def collect_data():\n",
    "    return 'data'"
   ]
  },
  {
   "cell_type": "code",
   "execution_count": 84,
   "metadata": {},
   "outputs": [],
   "source": [
    "def catapult():\n",
    "    return 'slime'"
   ]
  },
  {
   "cell_type": "code",
   "execution_count": 85,
   "metadata": {},
   "outputs": [],
   "source": [
    "def get_populations():\n",
    "    populations = []\n",
    "\n",
    "    for each_city in cities:\n",
    "        city_pop = each_city['2018estimate']\n",
    "        populations.append(city_pop)\n",
    "    return populations"
   ]
  },
  {
   "cell_type": "code",
   "execution_count": 86,
   "metadata": {},
   "outputs": [
    {
     "data": {
      "text/plain": [
       "[8398748, 3990456]"
      ]
     },
     "execution_count": 86,
     "metadata": {},
     "output_type": "execute_result"
    }
   ],
   "source": [
    "get_populations()[:2]"
   ]
  },
  {
   "cell_type": "code",
   "execution_count": 88,
   "metadata": {},
   "outputs": [],
   "source": [
    "def get_names():\n",
    "    city_names = []\n",
    "\n",
    "    for each_city in cities:\n",
    "        city_name = each_city['City']\n",
    "        city_names.append(city_name)\n",
    "    return city_names"
   ]
  },
  {
   "cell_type": "code",
   "execution_count": 89,
   "metadata": {},
   "outputs": [
    {
     "data": {
      "text/plain": [
       "['New York[d]', 'Los Angeles']"
      ]
     },
     "execution_count": 89,
     "metadata": {},
     "output_type": "execute_result"
    }
   ],
   "source": [
    "get_names()[:2]"
   ]
  },
  {
   "cell_type": "code",
   "execution_count": null,
   "metadata": {},
   "outputs": [],
   "source": []
  }
 ],
 "metadata": {
  "kernelspec": {
   "display_name": "Python 3",
   "language": "python",
   "name": "python3"
  },
  "language_info": {
   "codemirror_mode": {
    "name": "ipython",
    "version": 3
   },
   "file_extension": ".py",
   "mimetype": "text/x-python",
   "name": "python",
   "nbconvert_exporter": "python",
   "pygments_lexer": "ipython3",
   "version": "3.7.4"
  }
 },
 "nbformat": 4,
 "nbformat_minor": 4
}
